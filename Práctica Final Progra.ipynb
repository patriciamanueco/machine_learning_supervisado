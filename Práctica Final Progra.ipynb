{
 "cells": [
  {
   "cell_type": "markdown",
   "id": "6b409476",
   "metadata": {},
   "source": [
    "# PRÁCTICA FINAL MODELOS SUPERVISADOS\n",
    "### Patricia Mañueco Cubillo y Adriana Castro Santodomingo\n",
    "\n",
    "\n",
    "En este notebook se planea realizar un análisis exploratorio del dataset NCDB_1999_to_2014, que refleja los accidentes de tráfico que tienen lugar en Canadá. Con este análisis se facilitará la interpretación de los datos y la elaboración de modelos que ayudarán con la estimación y prevención de futuros posibles accidentes.\n"
   ]
  },
  {
   "cell_type": "code",
   "execution_count": 1,
   "id": "6202cab6",
   "metadata": {},
   "outputs": [],
   "source": [
    "import pandas as pd\n",
    "import numpy as np\n",
    "import seaborn as sns\n",
    "from matplotlib import pyplot as plt\n",
    "import plotly.express as px"
   ]
  },
  {
   "cell_type": "markdown",
   "id": "b07f8031",
   "metadata": {},
   "source": [
    "Empezaremos importando las librerías que vamos a necesitar, junto a la base de datos con la que vamos a trabajar. Hacemos una vista previa de las primeras tres filas para comprobar que los datos se han importado correctamente."
   ]
  },
  {
   "cell_type": "code",
   "execution_count": 2,
   "id": "17a336c8",
   "metadata": {},
   "outputs": [
    {
     "data": {
      "text/html": [
       "<div>\n",
       "<style scoped>\n",
       "    .dataframe tbody tr th:only-of-type {\n",
       "        vertical-align: middle;\n",
       "    }\n",
       "\n",
       "    .dataframe tbody tr th {\n",
       "        vertical-align: top;\n",
       "    }\n",
       "\n",
       "    .dataframe thead th {\n",
       "        text-align: right;\n",
       "    }\n",
       "</style>\n",
       "<table border=\"1\" class=\"dataframe\">\n",
       "  <thead>\n",
       "    <tr style=\"text-align: right;\">\n",
       "      <th></th>\n",
       "      <th>C_YEAR</th>\n",
       "      <th>C_MNTH</th>\n",
       "      <th>C_WDAY</th>\n",
       "      <th>C_HOUR</th>\n",
       "      <th>C_SEV</th>\n",
       "      <th>C_VEHS</th>\n",
       "      <th>C_CONF</th>\n",
       "      <th>C_RCFG</th>\n",
       "      <th>C_WTHR</th>\n",
       "      <th>C_RSUR</th>\n",
       "      <th>...</th>\n",
       "      <th>V_ID</th>\n",
       "      <th>V_TYPE</th>\n",
       "      <th>V_YEAR</th>\n",
       "      <th>P_ID</th>\n",
       "      <th>P_SEX</th>\n",
       "      <th>P_AGE</th>\n",
       "      <th>P_PSN</th>\n",
       "      <th>P_ISEV</th>\n",
       "      <th>P_SAFE</th>\n",
       "      <th>P_USER</th>\n",
       "    </tr>\n",
       "  </thead>\n",
       "  <tbody>\n",
       "    <tr>\n",
       "      <th>0</th>\n",
       "      <td>1999</td>\n",
       "      <td>01</td>\n",
       "      <td>1</td>\n",
       "      <td>20</td>\n",
       "      <td>2</td>\n",
       "      <td>02</td>\n",
       "      <td>34</td>\n",
       "      <td>UU</td>\n",
       "      <td>1</td>\n",
       "      <td>5</td>\n",
       "      <td>...</td>\n",
       "      <td>01</td>\n",
       "      <td>06</td>\n",
       "      <td>1990</td>\n",
       "      <td>01</td>\n",
       "      <td>M</td>\n",
       "      <td>41</td>\n",
       "      <td>11</td>\n",
       "      <td>1</td>\n",
       "      <td>UU</td>\n",
       "      <td>1</td>\n",
       "    </tr>\n",
       "    <tr>\n",
       "      <th>1</th>\n",
       "      <td>1999</td>\n",
       "      <td>01</td>\n",
       "      <td>1</td>\n",
       "      <td>20</td>\n",
       "      <td>2</td>\n",
       "      <td>02</td>\n",
       "      <td>34</td>\n",
       "      <td>UU</td>\n",
       "      <td>1</td>\n",
       "      <td>5</td>\n",
       "      <td>...</td>\n",
       "      <td>02</td>\n",
       "      <td>01</td>\n",
       "      <td>1987</td>\n",
       "      <td>01</td>\n",
       "      <td>M</td>\n",
       "      <td>19</td>\n",
       "      <td>11</td>\n",
       "      <td>1</td>\n",
       "      <td>UU</td>\n",
       "      <td>1</td>\n",
       "    </tr>\n",
       "    <tr>\n",
       "      <th>2</th>\n",
       "      <td>1999</td>\n",
       "      <td>01</td>\n",
       "      <td>1</td>\n",
       "      <td>20</td>\n",
       "      <td>2</td>\n",
       "      <td>02</td>\n",
       "      <td>34</td>\n",
       "      <td>UU</td>\n",
       "      <td>1</td>\n",
       "      <td>5</td>\n",
       "      <td>...</td>\n",
       "      <td>02</td>\n",
       "      <td>01</td>\n",
       "      <td>1987</td>\n",
       "      <td>02</td>\n",
       "      <td>F</td>\n",
       "      <td>20</td>\n",
       "      <td>13</td>\n",
       "      <td>2</td>\n",
       "      <td>02</td>\n",
       "      <td>2</td>\n",
       "    </tr>\n",
       "  </tbody>\n",
       "</table>\n",
       "<p>3 rows × 22 columns</p>\n",
       "</div>"
      ],
      "text/plain": [
       "   C_YEAR C_MNTH C_WDAY C_HOUR  C_SEV C_VEHS C_CONF C_RCFG C_WTHR C_RSUR  ...  \\\n",
       "0    1999     01      1     20      2     02     34     UU      1      5  ...   \n",
       "1    1999     01      1     20      2     02     34     UU      1      5  ...   \n",
       "2    1999     01      1     20      2     02     34     UU      1      5  ...   \n",
       "\n",
       "  V_ID V_TYPE V_YEAR P_ID P_SEX P_AGE P_PSN P_ISEV P_SAFE P_USER  \n",
       "0   01     06   1990   01     M    41    11      1     UU      1  \n",
       "1   02     01   1987   01     M    19    11      1     UU      1  \n",
       "2   02     01   1987   02     F    20    13      2     02      2  \n",
       "\n",
       "[3 rows x 22 columns]"
      ]
     },
     "execution_count": 2,
     "metadata": {},
     "output_type": "execute_result"
    }
   ],
   "source": [
    "pd_datos = pd.read_csv ('NCDB_1999_to_2014.csv',low_memory=False)\n",
    "pd_datos.columns = pd_datos.columns.str.replace (' ','_')\n",
    "pd_datos.head (3)"
   ]
  },
  {
   "cell_type": "markdown",
   "id": "d30ffe4e",
   "metadata": {},
   "source": [
    "Podemos observar como las tres primeras filas se repiten la fecha y la hora, significando que ese fue un mismo accidente. Analizando los datos, podemos tener una mejor idea de lo que sucedio y quienes fueron los implicados. "
   ]
  },
  {
   "cell_type": "code",
   "execution_count": 3,
   "id": "671f10bc",
   "metadata": {},
   "outputs": [
    {
     "data": {
      "text/html": [
       "<div>\n",
       "<style scoped>\n",
       "    .dataframe tbody tr th:only-of-type {\n",
       "        vertical-align: middle;\n",
       "    }\n",
       "\n",
       "    .dataframe tbody tr th {\n",
       "        vertical-align: top;\n",
       "    }\n",
       "\n",
       "    .dataframe thead th {\n",
       "        text-align: right;\n",
       "    }\n",
       "</style>\n",
       "<table border=\"1\" class=\"dataframe\">\n",
       "  <thead>\n",
       "    <tr style=\"text-align: right;\">\n",
       "      <th></th>\n",
       "      <th>C_YEAR</th>\n",
       "      <th>C_MNTH</th>\n",
       "      <th>C_WDAY</th>\n",
       "      <th>C_HOUR</th>\n",
       "      <th>C_SEV</th>\n",
       "      <th>C_VEHS</th>\n",
       "      <th>C_CONF</th>\n",
       "      <th>C_RCFG</th>\n",
       "      <th>C_WTHR</th>\n",
       "      <th>C_RSUR</th>\n",
       "      <th>C_RALN</th>\n",
       "      <th>C_TRAF</th>\n",
       "    </tr>\n",
       "  </thead>\n",
       "  <tbody>\n",
       "    <tr>\n",
       "      <th>0</th>\n",
       "      <td>1999</td>\n",
       "      <td>01</td>\n",
       "      <td>1</td>\n",
       "      <td>20</td>\n",
       "      <td>2</td>\n",
       "      <td>02</td>\n",
       "      <td>34</td>\n",
       "      <td>UU</td>\n",
       "      <td>1</td>\n",
       "      <td>5</td>\n",
       "      <td>3</td>\n",
       "      <td>03</td>\n",
       "    </tr>\n",
       "    <tr>\n",
       "      <th>1</th>\n",
       "      <td>1999</td>\n",
       "      <td>01</td>\n",
       "      <td>1</td>\n",
       "      <td>20</td>\n",
       "      <td>2</td>\n",
       "      <td>02</td>\n",
       "      <td>34</td>\n",
       "      <td>UU</td>\n",
       "      <td>1</td>\n",
       "      <td>5</td>\n",
       "      <td>3</td>\n",
       "      <td>03</td>\n",
       "    </tr>\n",
       "    <tr>\n",
       "      <th>2</th>\n",
       "      <td>1999</td>\n",
       "      <td>01</td>\n",
       "      <td>1</td>\n",
       "      <td>20</td>\n",
       "      <td>2</td>\n",
       "      <td>02</td>\n",
       "      <td>34</td>\n",
       "      <td>UU</td>\n",
       "      <td>1</td>\n",
       "      <td>5</td>\n",
       "      <td>3</td>\n",
       "      <td>03</td>\n",
       "    </tr>\n",
       "  </tbody>\n",
       "</table>\n",
       "</div>"
      ],
      "text/plain": [
       "   C_YEAR C_MNTH C_WDAY C_HOUR  C_SEV C_VEHS C_CONF C_RCFG C_WTHR C_RSUR  \\\n",
       "0    1999     01      1     20      2     02     34     UU      1      5   \n",
       "1    1999     01      1     20      2     02     34     UU      1      5   \n",
       "2    1999     01      1     20      2     02     34     UU      1      5   \n",
       "\n",
       "  C_RALN C_TRAF  \n",
       "0      3     03  \n",
       "1      3     03  \n",
       "2      3     03  "
      ]
     },
     "execution_count": 3,
     "metadata": {},
     "output_type": "execute_result"
    }
   ],
   "source": [
    "# datos fechas accidente\n",
    "columnas_accidente = ['C_YEAR', 'C_MNTH', 'C_WDAY', \n",
    "               'C_HOUR', 'C_SEV', 'C_VEHS', \n",
    "               'C_CONF', 'C_RCFG', 'C_WTHR', \n",
    "               'C_RSUR', 'C_RALN', 'C_TRAF']\n",
    "pd_datos[columnas_accidente].head(3)"
   ]
  },
  {
   "cell_type": "markdown",
   "id": "6c8e6f55",
   "metadata": {},
   "source": [
    "Como ejemplo, podemos ver en la tabla superior el primer accidente del año 1999, con los datos siendo los siguientes: \n",
    "- **C_YEAR**: sucedió en 1999\n",
    "- **C_MNTH**: sucedió en Enero\n",
    "- **C_WDAY**: sucedió el dia 1 del mes\n",
    "- **C_HOUR**: tuvo lugar entre las 20:00 y las 20:59 horas\n",
    "- **C_SEV**: la colisión provocó lesiones no fatales\n",
    "- **C_VEHS**: hubo 2 vehículos implicados\n",
    "- **C_CONF**: se trata de dos vehículos en movimiento con diferente dirección de viaje: un giro a la derecha, incluidos los conflictos de giro\n",
    "- **C_RCFG**: no se sabe la configuración de la calzada\n",
    "- **C_WTHR**: el tiempo estaba despejado y soleado\n",
    "- **C_RSUR**: la superficie de la carretera estaba helada\n",
    "- **C_RALN**: la alineación de la carretera era curva y nivelada\n",
    "- **C_TRAF**: el control de tráfico consistía en una señal de stop"
   ]
  },
  {
   "cell_type": "code",
   "execution_count": 4,
   "id": "a8143c53",
   "metadata": {},
   "outputs": [
    {
     "data": {
      "text/html": [
       "<div>\n",
       "<style scoped>\n",
       "    .dataframe tbody tr th:only-of-type {\n",
       "        vertical-align: middle;\n",
       "    }\n",
       "\n",
       "    .dataframe tbody tr th {\n",
       "        vertical-align: top;\n",
       "    }\n",
       "\n",
       "    .dataframe thead th {\n",
       "        text-align: right;\n",
       "    }\n",
       "</style>\n",
       "<table border=\"1\" class=\"dataframe\">\n",
       "  <thead>\n",
       "    <tr style=\"text-align: right;\">\n",
       "      <th></th>\n",
       "      <th>V_ID</th>\n",
       "      <th>V_TYPE</th>\n",
       "      <th>V_YEAR</th>\n",
       "    </tr>\n",
       "  </thead>\n",
       "  <tbody>\n",
       "    <tr>\n",
       "      <th>0</th>\n",
       "      <td>01</td>\n",
       "      <td>06</td>\n",
       "      <td>1990</td>\n",
       "    </tr>\n",
       "    <tr>\n",
       "      <th>1</th>\n",
       "      <td>02</td>\n",
       "      <td>01</td>\n",
       "      <td>1987</td>\n",
       "    </tr>\n",
       "    <tr>\n",
       "      <th>2</th>\n",
       "      <td>02</td>\n",
       "      <td>01</td>\n",
       "      <td>1987</td>\n",
       "    </tr>\n",
       "  </tbody>\n",
       "</table>\n",
       "</div>"
      ],
      "text/plain": [
       "  V_ID V_TYPE V_YEAR\n",
       "0   01     06   1990\n",
       "1   02     01   1987\n",
       "2   02     01   1987"
      ]
     },
     "execution_count": 4,
     "metadata": {},
     "output_type": "execute_result"
    }
   ],
   "source": [
    "tipo_coche = pd_datos[['V_ID', 'V_TYPE', 'V_YEAR']]\n",
    "tipo_coche.head (3)"
   ]
  },
  {
   "cell_type": "markdown",
   "id": "d021a4e8",
   "metadata": {},
   "source": [
    "Como podemos ver en la tabla de arriba, hubo tres personas implicadas en el accidente, y dos vehículos. En el primero iba una persona, el conductor, y se trata de un tipo de camión (V_TYPE 06) que fue fabricado el 1990. En el segundo iban dos personas, y se trata de un vehículo ligero (V_TYPE 01) fabricado el 1987."
   ]
  },
  {
   "cell_type": "code",
   "execution_count": 5,
   "id": "fb1c5527",
   "metadata": {},
   "outputs": [
    {
     "data": {
      "text/html": [
       "<div>\n",
       "<style scoped>\n",
       "    .dataframe tbody tr th:only-of-type {\n",
       "        vertical-align: middle;\n",
       "    }\n",
       "\n",
       "    .dataframe tbody tr th {\n",
       "        vertical-align: top;\n",
       "    }\n",
       "\n",
       "    .dataframe thead th {\n",
       "        text-align: right;\n",
       "    }\n",
       "</style>\n",
       "<table border=\"1\" class=\"dataframe\">\n",
       "  <thead>\n",
       "    <tr style=\"text-align: right;\">\n",
       "      <th></th>\n",
       "      <th>P_ID</th>\n",
       "      <th>P_SEX</th>\n",
       "      <th>P_AGE</th>\n",
       "      <th>P_PSN</th>\n",
       "      <th>P_ISEV</th>\n",
       "      <th>P_SAFE</th>\n",
       "      <th>P_USER</th>\n",
       "    </tr>\n",
       "  </thead>\n",
       "  <tbody>\n",
       "    <tr>\n",
       "      <th>0</th>\n",
       "      <td>01</td>\n",
       "      <td>M</td>\n",
       "      <td>41</td>\n",
       "      <td>11</td>\n",
       "      <td>1</td>\n",
       "      <td>UU</td>\n",
       "      <td>1</td>\n",
       "    </tr>\n",
       "    <tr>\n",
       "      <th>1</th>\n",
       "      <td>01</td>\n",
       "      <td>M</td>\n",
       "      <td>19</td>\n",
       "      <td>11</td>\n",
       "      <td>1</td>\n",
       "      <td>UU</td>\n",
       "      <td>1</td>\n",
       "    </tr>\n",
       "    <tr>\n",
       "      <th>2</th>\n",
       "      <td>02</td>\n",
       "      <td>F</td>\n",
       "      <td>20</td>\n",
       "      <td>13</td>\n",
       "      <td>2</td>\n",
       "      <td>02</td>\n",
       "      <td>2</td>\n",
       "    </tr>\n",
       "  </tbody>\n",
       "</table>\n",
       "</div>"
      ],
      "text/plain": [
       "  P_ID P_SEX P_AGE P_PSN P_ISEV P_SAFE P_USER\n",
       "0   01     M    41    11      1     UU      1\n",
       "1   01     M    19    11      1     UU      1\n",
       "2   02     F    20    13      2     02      2"
      ]
     },
     "execution_count": 5,
     "metadata": {},
     "output_type": "execute_result"
    }
   ],
   "source": [
    "tipo_pers = pd_datos[['P_ID', 'P_SEX', 'P_AGE', \n",
    "               'P_PSN', 'P_ISEV', 'P_SAFE',\n",
    "               'P_USER']]\n",
    "tipo_pers.head (3)"
   ]
  },
  {
   "cell_type": "markdown",
   "id": "edf660ef",
   "metadata": {},
   "source": [
    "En esta tabla tenemos más información acerca de las personas que iban en cada vehículo. \n",
    "- En el primer vehículo, un tipo de camión fabricado en 1990, viajaba solo una persona (**P_ID 01**) que tenía 41 años (**P_AGE 41**), hombre (**P_SEX M**) y era el conductor del vehículo (**P_USER 1**) y que estaba en la posición del conductor (**P_PSN 11**). No sufrío ningun tipo de daño en el accidente (**P_ISEV 1**) y se desconoce si llevaba o utilizaba algún dispositivo de seguridad (**P_SAFE = UU**).\n",
    "- En el segundo vehículo, un vehículo ligero fabricado en 1987, viajaban dos personas. Un hombre (**P_SEX M**) de 19 años (**P_AGE 19**), que conducía el vehículo (**P_USER 1**) en la posición del conductor (**P_PSN 11**), y que salió sin daño del accidente (**P_ISEV 1**). La otra persona era una mujer (**P_SEX F**) de 20 años (**P_AGE 20**) que iba de pasajera en el asiento delantero derecho (**P_PSN = 13**). Salió herida (**P_ISEV 2**) del accidente, y sí utilizo un dispositivo de seguridad (**P_SAFE 02**)."
   ]
  },
  {
   "cell_type": "code",
   "execution_count": 6,
   "id": "94ea3e33",
   "metadata": {},
   "outputs": [
    {
     "data": {
      "text/plain": [
       "{'C_YEAR': dtype('int64'),\n",
       " 'C_MNTH': dtype('O'),\n",
       " 'C_WDAY': dtype('O'),\n",
       " 'C_HOUR': dtype('O'),\n",
       " 'C_SEV': dtype('int64'),\n",
       " 'C_VEHS': dtype('O'),\n",
       " 'C_CONF': dtype('O'),\n",
       " 'C_RCFG': dtype('O'),\n",
       " 'C_WTHR': dtype('O'),\n",
       " 'C_RSUR': dtype('O'),\n",
       " 'C_RALN': dtype('O'),\n",
       " 'C_TRAF': dtype('O'),\n",
       " 'V_ID': dtype('O'),\n",
       " 'V_TYPE': dtype('O'),\n",
       " 'V_YEAR': dtype('O'),\n",
       " 'P_ID': dtype('O'),\n",
       " 'P_SEX': dtype('O'),\n",
       " 'P_AGE': dtype('O'),\n",
       " 'P_PSN': dtype('O'),\n",
       " 'P_ISEV': dtype('O'),\n",
       " 'P_SAFE': dtype('O'),\n",
       " 'P_USER': dtype('O')}"
      ]
     },
     "execution_count": 6,
     "metadata": {},
     "output_type": "execute_result"
    }
   ],
   "source": [
    "# Tipos de datos\n",
    "pd_datos.dtypes.to_dict()\n",
    "# dtype ('o') stands for object, string or text\n",
    "# float64; Python is storing each value within this column as a 64 bit integer"
   ]
  },
  {
   "cell_type": "code",
   "execution_count": 7,
   "id": "9372da53",
   "metadata": {},
   "outputs": [
    {
     "name": "stdout",
     "output_type": "stream",
     "text": [
      "(5860405, 22)\n"
     ]
    }
   ],
   "source": [
    "# Dimensión dataset\n",
    "print(pd_datos.shape)"
   ]
  },
  {
   "cell_type": "markdown",
   "id": "6fe36f5d",
   "metadata": {},
   "source": [
    "Para un primer análisis de nuestro dataset utilizaremos P_PSN=11, es decir los conductores de los vehículos implicados para estudiar el número de accidentes sucedidos desde 1999 a 2014. No nos fijaremos en que se repitan filas a consecuencia del número de individuos implicados hasta más adelante que eliminaremos las tuplas repetidas, dándonos realmente el número de accidentes real."
   ]
  },
  {
   "cell_type": "code",
   "execution_count": 8,
   "id": "172231ab",
   "metadata": {},
   "outputs": [
    {
     "data": {
      "text/plain": [
       "(3926086, 22)"
      ]
     },
     "execution_count": 8,
     "metadata": {},
     "output_type": "execute_result"
    }
   ],
   "source": [
    "pd_accidentes = pd_datos[(pd_datos['P_PSN']==\"11\")]\n",
    "pd_accidentes.shape"
   ]
  },
  {
   "cell_type": "markdown",
   "id": "c2edd107",
   "metadata": {},
   "source": [
    "# Preguntas 1 y 2"
   ]
  },
  {
   "cell_type": "markdown",
   "id": "e438e76e",
   "metadata": {},
   "source": [
    "1. ¿Qué tipos de vehículos (modelos, antigüedad, etc.) y conductores son más propensos a tener accidentes (acción correctiva en prima)?\n",
    "\n",
    "2. ¿Qué tipos de vehículos (modelos, antigüedad, etc.) y conductores son menos propensos a tener accidentes (descuento en prima)?"
   ]
  },
  {
   "cell_type": "code",
   "execution_count": 9,
   "id": "356eefe5",
   "metadata": {},
   "outputs": [],
   "source": [
    "#tabla de contingenia relativa total centrándonos en vehiculo(años)\n",
    "conting_table = pd.crosstab(index=pd_accidentes['V_TYPE'], columns=pd_accidentes['V_YEAR'],\n",
    "            margins=True).apply(lambda r: r/len(pd_accidentes) *100,\n",
    "                                axis=1)"
   ]
  },
  {
   "cell_type": "markdown",
   "id": "f8004dfe",
   "metadata": {},
   "source": [
    "Para la siguiente tabla no hemos empleado los datos sin las filas repetidas ya que tan solo vamos a tener en cuenta el valor máximo y mínimo de cada variable, por lo que los valores repetidos son indiferentes"
   ]
  },
  {
   "cell_type": "code",
   "execution_count": 10,
   "id": "4e4e601f",
   "metadata": {},
   "outputs": [
    {
     "data": {
      "text/html": [
       "<div>\n",
       "<style scoped>\n",
       "    .dataframe tbody tr th:only-of-type {\n",
       "        vertical-align: middle;\n",
       "    }\n",
       "\n",
       "    .dataframe tbody tr th {\n",
       "        vertical-align: top;\n",
       "    }\n",
       "\n",
       "    .dataframe thead th {\n",
       "        text-align: right;\n",
       "    }\n",
       "</style>\n",
       "<table border=\"1\" class=\"dataframe\">\n",
       "  <thead>\n",
       "    <tr style=\"text-align: right;\">\n",
       "      <th>V_YEAR</th>\n",
       "      <th>1901</th>\n",
       "      <th>1903</th>\n",
       "      <th>1904</th>\n",
       "      <th>1905</th>\n",
       "      <th>1906</th>\n",
       "      <th>1907</th>\n",
       "      <th>1908</th>\n",
       "      <th>1909</th>\n",
       "      <th>1910</th>\n",
       "      <th>1911</th>\n",
       "      <th>...</th>\n",
       "      <th>2009</th>\n",
       "      <th>2010</th>\n",
       "      <th>2011</th>\n",
       "      <th>2012</th>\n",
       "      <th>2013</th>\n",
       "      <th>2014</th>\n",
       "      <th>2015</th>\n",
       "      <th>NNNN</th>\n",
       "      <th>UUUU</th>\n",
       "      <th>All</th>\n",
       "    </tr>\n",
       "  </thead>\n",
       "  <tbody>\n",
       "    <tr>\n",
       "      <th>count</th>\n",
       "      <td>21.000000</td>\n",
       "      <td>21.000000</td>\n",
       "      <td>21.000000</td>\n",
       "      <td>21.000000</td>\n",
       "      <td>21.000000</td>\n",
       "      <td>21.000000</td>\n",
       "      <td>21.000000</td>\n",
       "      <td>21.000000</td>\n",
       "      <td>21.000000</td>\n",
       "      <td>21.000000</td>\n",
       "      <td>...</td>\n",
       "      <td>21.000000</td>\n",
       "      <td>21.000000</td>\n",
       "      <td>21.000000</td>\n",
       "      <td>21.000000</td>\n",
       "      <td>21.000000</td>\n",
       "      <td>21.000000</td>\n",
       "      <td>21.000000</td>\n",
       "      <td>21.000000</td>\n",
       "      <td>21.000000</td>\n",
       "      <td>21.000000</td>\n",
       "    </tr>\n",
       "    <tr>\n",
       "      <th>mean</th>\n",
       "      <td>0.000022</td>\n",
       "      <td>0.000010</td>\n",
       "      <td>0.000005</td>\n",
       "      <td>0.000002</td>\n",
       "      <td>0.000002</td>\n",
       "      <td>0.000005</td>\n",
       "      <td>0.000007</td>\n",
       "      <td>0.000005</td>\n",
       "      <td>0.000002</td>\n",
       "      <td>0.000017</td>\n",
       "      <td>...</td>\n",
       "      <td>0.177419</td>\n",
       "      <td>0.153758</td>\n",
       "      <td>0.107879</td>\n",
       "      <td>0.085594</td>\n",
       "      <td>0.058585</td>\n",
       "      <td>0.023474</td>\n",
       "      <td>0.002013</td>\n",
       "      <td>0.097759</td>\n",
       "      <td>0.629365</td>\n",
       "      <td>9.523810</td>\n",
       "    </tr>\n",
       "    <tr>\n",
       "      <th>std</th>\n",
       "      <td>0.000059</td>\n",
       "      <td>0.000027</td>\n",
       "      <td>0.000015</td>\n",
       "      <td>0.000008</td>\n",
       "      <td>0.000008</td>\n",
       "      <td>0.000015</td>\n",
       "      <td>0.000023</td>\n",
       "      <td>0.000015</td>\n",
       "      <td>0.000008</td>\n",
       "      <td>0.000050</td>\n",
       "      <td>...</td>\n",
       "      <td>0.518592</td>\n",
       "      <td>0.459356</td>\n",
       "      <td>0.318076</td>\n",
       "      <td>0.252011</td>\n",
       "      <td>0.172764</td>\n",
       "      <td>0.068726</td>\n",
       "      <td>0.005693</td>\n",
       "      <td>0.300837</td>\n",
       "      <td>1.597124</td>\n",
       "      <td>27.625612</td>\n",
       "    </tr>\n",
       "    <tr>\n",
       "      <th>min</th>\n",
       "      <td>0.000000</td>\n",
       "      <td>0.000000</td>\n",
       "      <td>0.000000</td>\n",
       "      <td>0.000000</td>\n",
       "      <td>0.000000</td>\n",
       "      <td>0.000000</td>\n",
       "      <td>0.000000</td>\n",
       "      <td>0.000000</td>\n",
       "      <td>0.000000</td>\n",
       "      <td>0.000000</td>\n",
       "      <td>...</td>\n",
       "      <td>0.000153</td>\n",
       "      <td>0.000025</td>\n",
       "      <td>0.000051</td>\n",
       "      <td>0.000025</td>\n",
       "      <td>0.000000</td>\n",
       "      <td>0.000000</td>\n",
       "      <td>0.000000</td>\n",
       "      <td>0.000000</td>\n",
       "      <td>0.000127</td>\n",
       "      <td>0.009246</td>\n",
       "    </tr>\n",
       "    <tr>\n",
       "      <th>25%</th>\n",
       "      <td>0.000000</td>\n",
       "      <td>0.000000</td>\n",
       "      <td>0.000000</td>\n",
       "      <td>0.000000</td>\n",
       "      <td>0.000000</td>\n",
       "      <td>0.000000</td>\n",
       "      <td>0.000000</td>\n",
       "      <td>0.000000</td>\n",
       "      <td>0.000000</td>\n",
       "      <td>0.000000</td>\n",
       "      <td>...</td>\n",
       "      <td>0.001656</td>\n",
       "      <td>0.000891</td>\n",
       "      <td>0.000611</td>\n",
       "      <td>0.000662</td>\n",
       "      <td>0.000509</td>\n",
       "      <td>0.000076</td>\n",
       "      <td>0.000000</td>\n",
       "      <td>0.000000</td>\n",
       "      <td>0.015155</td>\n",
       "      <td>0.078755</td>\n",
       "    </tr>\n",
       "    <tr>\n",
       "      <th>50%</th>\n",
       "      <td>0.000000</td>\n",
       "      <td>0.000000</td>\n",
       "      <td>0.000000</td>\n",
       "      <td>0.000000</td>\n",
       "      <td>0.000000</td>\n",
       "      <td>0.000000</td>\n",
       "      <td>0.000000</td>\n",
       "      <td>0.000000</td>\n",
       "      <td>0.000000</td>\n",
       "      <td>0.000000</td>\n",
       "      <td>...</td>\n",
       "      <td>0.004865</td>\n",
       "      <td>0.002853</td>\n",
       "      <td>0.002700</td>\n",
       "      <td>0.002114</td>\n",
       "      <td>0.001528</td>\n",
       "      <td>0.000764</td>\n",
       "      <td>0.000025</td>\n",
       "      <td>0.000025</td>\n",
       "      <td>0.045338</td>\n",
       "      <td>0.454600</td>\n",
       "    </tr>\n",
       "    <tr>\n",
       "      <th>75%</th>\n",
       "      <td>0.000000</td>\n",
       "      <td>0.000000</td>\n",
       "      <td>0.000000</td>\n",
       "      <td>0.000000</td>\n",
       "      <td>0.000000</td>\n",
       "      <td>0.000000</td>\n",
       "      <td>0.000000</td>\n",
       "      <td>0.000000</td>\n",
       "      <td>0.000000</td>\n",
       "      <td>0.000000</td>\n",
       "      <td>...</td>\n",
       "      <td>0.028833</td>\n",
       "      <td>0.020224</td>\n",
       "      <td>0.022083</td>\n",
       "      <td>0.013194</td>\n",
       "      <td>0.006138</td>\n",
       "      <td>0.002725</td>\n",
       "      <td>0.000204</td>\n",
       "      <td>0.000306</td>\n",
       "      <td>0.142024</td>\n",
       "      <td>1.880550</td>\n",
       "    </tr>\n",
       "    <tr>\n",
       "      <th>max</th>\n",
       "      <td>0.000229</td>\n",
       "      <td>0.000102</td>\n",
       "      <td>0.000051</td>\n",
       "      <td>0.000025</td>\n",
       "      <td>0.000025</td>\n",
       "      <td>0.000051</td>\n",
       "      <td>0.000076</td>\n",
       "      <td>0.000051</td>\n",
       "      <td>0.000025</td>\n",
       "      <td>0.000178</td>\n",
       "      <td>...</td>\n",
       "      <td>1.862899</td>\n",
       "      <td>1.614458</td>\n",
       "      <td>1.132731</td>\n",
       "      <td>0.898732</td>\n",
       "      <td>0.615142</td>\n",
       "      <td>0.246480</td>\n",
       "      <td>0.021141</td>\n",
       "      <td>1.026468</td>\n",
       "      <td>6.608337</td>\n",
       "      <td>100.000000</td>\n",
       "    </tr>\n",
       "  </tbody>\n",
       "</table>\n",
       "<p>8 rows × 117 columns</p>\n",
       "</div>"
      ],
      "text/plain": [
       "V_YEAR       1901       1903       1904       1905       1906       1907  \\\n",
       "count   21.000000  21.000000  21.000000  21.000000  21.000000  21.000000   \n",
       "mean     0.000022   0.000010   0.000005   0.000002   0.000002   0.000005   \n",
       "std      0.000059   0.000027   0.000015   0.000008   0.000008   0.000015   \n",
       "min      0.000000   0.000000   0.000000   0.000000   0.000000   0.000000   \n",
       "25%      0.000000   0.000000   0.000000   0.000000   0.000000   0.000000   \n",
       "50%      0.000000   0.000000   0.000000   0.000000   0.000000   0.000000   \n",
       "75%      0.000000   0.000000   0.000000   0.000000   0.000000   0.000000   \n",
       "max      0.000229   0.000102   0.000051   0.000025   0.000025   0.000051   \n",
       "\n",
       "V_YEAR       1908       1909       1910       1911  ...       2009       2010  \\\n",
       "count   21.000000  21.000000  21.000000  21.000000  ...  21.000000  21.000000   \n",
       "mean     0.000007   0.000005   0.000002   0.000017  ...   0.177419   0.153758   \n",
       "std      0.000023   0.000015   0.000008   0.000050  ...   0.518592   0.459356   \n",
       "min      0.000000   0.000000   0.000000   0.000000  ...   0.000153   0.000025   \n",
       "25%      0.000000   0.000000   0.000000   0.000000  ...   0.001656   0.000891   \n",
       "50%      0.000000   0.000000   0.000000   0.000000  ...   0.004865   0.002853   \n",
       "75%      0.000000   0.000000   0.000000   0.000000  ...   0.028833   0.020224   \n",
       "max      0.000076   0.000051   0.000025   0.000178  ...   1.862899   1.614458   \n",
       "\n",
       "V_YEAR       2011       2012       2013       2014       2015       NNNN  \\\n",
       "count   21.000000  21.000000  21.000000  21.000000  21.000000  21.000000   \n",
       "mean     0.107879   0.085594   0.058585   0.023474   0.002013   0.097759   \n",
       "std      0.318076   0.252011   0.172764   0.068726   0.005693   0.300837   \n",
       "min      0.000051   0.000025   0.000000   0.000000   0.000000   0.000000   \n",
       "25%      0.000611   0.000662   0.000509   0.000076   0.000000   0.000000   \n",
       "50%      0.002700   0.002114   0.001528   0.000764   0.000025   0.000025   \n",
       "75%      0.022083   0.013194   0.006138   0.002725   0.000204   0.000306   \n",
       "max      1.132731   0.898732   0.615142   0.246480   0.021141   1.026468   \n",
       "\n",
       "V_YEAR       UUUU         All  \n",
       "count   21.000000   21.000000  \n",
       "mean     0.629365    9.523810  \n",
       "std      1.597124   27.625612  \n",
       "min      0.000127    0.009246  \n",
       "25%      0.015155    0.078755  \n",
       "50%      0.045338    0.454600  \n",
       "75%      0.142024    1.880550  \n",
       "max      6.608337  100.000000  \n",
       "\n",
       "[8 rows x 117 columns]"
      ]
     },
     "execution_count": 10,
     "metadata": {},
     "output_type": "execute_result"
    }
   ],
   "source": [
    "conting_table.describe()"
   ]
  },
  {
   "cell_type": "markdown",
   "id": "d2431dff",
   "metadata": {},
   "source": [
    "Hemos optado por representar gráficamente los valores máximos de nuestra tabla de contingencia que compara modelo y año de los vehículos. \n",
    "\n",
    "La primera comparativa es la evolución del número de accidentes en los últimos años. Podemos observar una creciente tendencia desde 1994 al 2000, alcanzando un punto de inflexión a partir del cuál la tendencia será negativa."
   ]
  },
  {
   "cell_type": "code",
   "execution_count": 11,
   "id": "ee5631cf",
   "metadata": {},
   "outputs": [
    {
     "data": {
      "text/plain": [
       "<AxesSubplot:xlabel='V_YEAR'>"
      ]
     },
     "execution_count": 11,
     "metadata": {},
     "output_type": "execute_result"
    },
    {
     "data": {
      "image/png": "[encoded data removed]",
      "text/plain": [
       "<Figure size 720x720 with 1 Axes>"
      ]
     },
     "metadata": {
      "needs_background": "light"
     },
     "output_type": "display_data"
    }
   ],
   "source": [
    "# gráfica de la evolución accidentes de los últimos 20 años (máxs)\n",
    "datostabla = conting_table.iloc[-1].drop(['All','NNNN','UUUU']).iloc[92:114] \n",
    "datostabla.plot.bar(figsize=(10, 10))"
   ]
  },
  {
   "cell_type": "code",
   "execution_count": 12,
   "id": "61682d7a",
   "metadata": {},
   "outputs": [
    {
     "data": {
      "text/plain": [
       "V_YEAR\n",
       "2000    5.655301\n",
       "1998    5.160177\n",
       "2002    5.129714\n",
       "1999    5.047852\n",
       "2003    4.900020\n",
       "Name: All, dtype: float64"
      ]
     },
     "execution_count": 12,
     "metadata": {},
     "output_type": "execute_result"
    }
   ],
   "source": [
    "datostablamax = conting_table.iloc[-1].drop(['All','NNNN','UUUU']).sort_values(ascending = False).head(10)\n",
    "datostablamax.head(5)"
   ]
  },
  {
   "cell_type": "markdown",
   "id": "55e614c0",
   "metadata": {},
   "source": [
    "Tal y como hemos comentado antes el año con más accidentes, no sólo de los últimos 10 años sino desde el 1900 será el 2000 (valor del 5.65% sobre el total). En un artículo del país, coinciden con que España en el 2000 incrementó su tasa de siniestros en carretera en un 0.07% sin causa aparente."
   ]
  },
  {
   "cell_type": "code",
   "execution_count": 13,
   "id": "cbccc44d",
   "metadata": {},
   "outputs": [
    {
     "data": {
      "text/plain": [
       "<AxesSubplot:xlabel='V_YEAR'>"
      ]
     },
     "execution_count": 13,
     "metadata": {},
     "output_type": "execute_result"
    },
    {
     "data": {
      "image/png": "[encoded data removed]",
      "text/plain": [
       "<Figure size 432x288 with 1 Axes>"
      ]
     },
     "metadata": {
      "needs_background": "light"
     },
     "output_type": "display_data"
    }
   ],
   "source": [
    "datostablamax.plot.bar(rot=0)"
   ]
  },
  {
   "cell_type": "markdown",
   "id": "617b9270",
   "metadata": {},
   "source": [
    "Aquí podemos observar qué años de fabricación de los vehículos han provocado mas accidentes. El año de fabricación que más ha causado accidentes fue el 2000, seguido por el 1998, 2002, 1999, 2003, etc. "
   ]
  },
  {
   "cell_type": "code",
   "execution_count": 14,
   "id": "455dc736",
   "metadata": {},
   "outputs": [
    {
     "data": {
      "text/plain": [
       "V_YEAR\n",
       "1905    0.000025\n",
       "1906    0.000025\n",
       "1910    0.000025\n",
       "1904    0.000051\n",
       "1907    0.000051\n",
       "Name: All, dtype: float64"
      ]
     },
     "execution_count": 14,
     "metadata": {},
     "output_type": "execute_result"
    }
   ],
   "source": [
    "datostablamin = conting_table.iloc[-1].drop(['All','NNNN','UUUU']).sort_values(ascending = True).head(5)\n",
    "datostablamin"
   ]
  },
  {
   "cell_type": "markdown",
   "id": "38abcac6",
   "metadata": {},
   "source": [
    "Podemos concluir que los vehículos menos propensos a tener un accidente son aquellos de principios del siglo XX. Podríamos considerar causa de este fenómeno el hecho de que el automóvil se inventara en 1900. Sin embargo no será hasta 1904 que Ford llega a Canadá con su producción. "
   ]
  },
  {
   "cell_type": "code",
   "execution_count": 15,
   "id": "ecb72544",
   "metadata": {},
   "outputs": [
    {
     "data": {
      "text/plain": [
       "<AxesSubplot:xlabel='V_YEAR'>"
      ]
     },
     "execution_count": 15,
     "metadata": {},
     "output_type": "execute_result"
    },
    {
     "data": {
      "image/png": "[encoded data removed]",
      "text/plain": [
       "<Figure size 432x288 with 1 Axes>"
      ]
     },
     "metadata": {
      "needs_background": "light"
     },
     "output_type": "display_data"
    }
   ],
   "source": [
    "datostablamin.plot.bar(rot=0)"
   ]
  },
  {
   "cell_type": "code",
   "execution_count": 16,
   "id": "d9412bd9",
   "metadata": {},
   "outputs": [],
   "source": [
    "#tabla de contingenia relativa total (tipo vehículo)\n",
    "conting_table2 = pd.crosstab(index=pd_accidentes['V_YEAR'], columns=pd_accidentes['V_TYPE'],\n",
    "            margins=True).apply(lambda r: r/len(pd_accidentes) *100,\n",
    "                                axis=1)"
   ]
  },
  {
   "cell_type": "code",
   "execution_count": 17,
   "id": "93bd6f7d",
   "metadata": {
    "scrolled": true
   },
   "outputs": [
    {
     "data": {
      "text/html": [
       "<div>\n",
       "<style scoped>\n",
       "    .dataframe tbody tr th:only-of-type {\n",
       "        vertical-align: middle;\n",
       "    }\n",
       "\n",
       "    .dataframe tbody tr th {\n",
       "        vertical-align: top;\n",
       "    }\n",
       "\n",
       "    .dataframe thead th {\n",
       "        text-align: right;\n",
       "    }\n",
       "</style>\n",
       "<table border=\"1\" class=\"dataframe\">\n",
       "  <thead>\n",
       "    <tr style=\"text-align: right;\">\n",
       "      <th>V_TYPE</th>\n",
       "      <th>01</th>\n",
       "      <th>05</th>\n",
       "      <th>06</th>\n",
       "      <th>07</th>\n",
       "      <th>08</th>\n",
       "      <th>09</th>\n",
       "      <th>10</th>\n",
       "      <th>11</th>\n",
       "      <th>14</th>\n",
       "      <th>16</th>\n",
       "      <th>...</th>\n",
       "      <th>18</th>\n",
       "      <th>19</th>\n",
       "      <th>20</th>\n",
       "      <th>21</th>\n",
       "      <th>22</th>\n",
       "      <th>23</th>\n",
       "      <th>NN</th>\n",
       "      <th>QQ</th>\n",
       "      <th>UU</th>\n",
       "      <th>All</th>\n",
       "    </tr>\n",
       "  </thead>\n",
       "  <tbody>\n",
       "    <tr>\n",
       "      <th>count</th>\n",
       "      <td>117.000000</td>\n",
       "      <td>117.000000</td>\n",
       "      <td>117.000000</td>\n",
       "      <td>117.000000</td>\n",
       "      <td>117.000000</td>\n",
       "      <td>117.000000</td>\n",
       "      <td>117.000000</td>\n",
       "      <td>117.000000</td>\n",
       "      <td>117.000000</td>\n",
       "      <td>117.000000</td>\n",
       "      <td>...</td>\n",
       "      <td>117.000000</td>\n",
       "      <td>117.000000</td>\n",
       "      <td>117.000000</td>\n",
       "      <td>117.000000</td>\n",
       "      <td>117.000000</td>\n",
       "      <td>117.000000</td>\n",
       "      <td>117.000000</td>\n",
       "      <td>117.000000</td>\n",
       "      <td>117.000000</td>\n",
       "      <td>117.000000</td>\n",
       "    </tr>\n",
       "    <tr>\n",
       "      <th>mean</th>\n",
       "      <td>1.444084</td>\n",
       "      <td>0.019957</td>\n",
       "      <td>0.053242</td>\n",
       "      <td>0.032146</td>\n",
       "      <td>0.027820</td>\n",
       "      <td>0.003067</td>\n",
       "      <td>0.000158</td>\n",
       "      <td>0.010825</td>\n",
       "      <td>0.041012</td>\n",
       "      <td>0.002218</td>\n",
       "      <td>...</td>\n",
       "      <td>0.000757</td>\n",
       "      <td>0.000627</td>\n",
       "      <td>0.002885</td>\n",
       "      <td>0.000175</td>\n",
       "      <td>0.001346</td>\n",
       "      <td>0.000808</td>\n",
       "      <td>0.002760</td>\n",
       "      <td>0.007771</td>\n",
       "      <td>0.011234</td>\n",
       "      <td>1.709402</td>\n",
       "    </tr>\n",
       "    <tr>\n",
       "      <th>std</th>\n",
       "      <td>7.861737</td>\n",
       "      <td>0.109008</td>\n",
       "      <td>0.289811</td>\n",
       "      <td>0.175096</td>\n",
       "      <td>0.152467</td>\n",
       "      <td>0.016739</td>\n",
       "      <td>0.000869</td>\n",
       "      <td>0.058928</td>\n",
       "      <td>0.223533</td>\n",
       "      <td>0.012685</td>\n",
       "      <td>...</td>\n",
       "      <td>0.004138</td>\n",
       "      <td>0.003646</td>\n",
       "      <td>0.015775</td>\n",
       "      <td>0.000952</td>\n",
       "      <td>0.007629</td>\n",
       "      <td>0.004656</td>\n",
       "      <td>0.015645</td>\n",
       "      <td>0.042732</td>\n",
       "      <td>0.074154</td>\n",
       "      <td>9.304963</td>\n",
       "    </tr>\n",
       "    <tr>\n",
       "      <th>min</th>\n",
       "      <td>0.000000</td>\n",
       "      <td>0.000000</td>\n",
       "      <td>0.000000</td>\n",
       "      <td>0.000000</td>\n",
       "      <td>0.000000</td>\n",
       "      <td>0.000000</td>\n",
       "      <td>0.000000</td>\n",
       "      <td>0.000000</td>\n",
       "      <td>0.000000</td>\n",
       "      <td>0.000000</td>\n",
       "      <td>...</td>\n",
       "      <td>0.000000</td>\n",
       "      <td>0.000000</td>\n",
       "      <td>0.000000</td>\n",
       "      <td>0.000000</td>\n",
       "      <td>0.000000</td>\n",
       "      <td>0.000000</td>\n",
       "      <td>0.000000</td>\n",
       "      <td>0.000000</td>\n",
       "      <td>0.000000</td>\n",
       "      <td>0.000025</td>\n",
       "    </tr>\n",
       "    <tr>\n",
       "      <th>25%</th>\n",
       "      <td>0.000178</td>\n",
       "      <td>0.000000</td>\n",
       "      <td>0.000000</td>\n",
       "      <td>0.000000</td>\n",
       "      <td>0.000000</td>\n",
       "      <td>0.000000</td>\n",
       "      <td>0.000000</td>\n",
       "      <td>0.000000</td>\n",
       "      <td>0.000000</td>\n",
       "      <td>0.000000</td>\n",
       "      <td>...</td>\n",
       "      <td>0.000000</td>\n",
       "      <td>0.000000</td>\n",
       "      <td>0.000000</td>\n",
       "      <td>0.000000</td>\n",
       "      <td>0.000000</td>\n",
       "      <td>0.000000</td>\n",
       "      <td>0.000000</td>\n",
       "      <td>0.000000</td>\n",
       "      <td>0.000000</td>\n",
       "      <td>0.000255</td>\n",
       "    </tr>\n",
       "    <tr>\n",
       "      <th>50%</th>\n",
       "      <td>0.001095</td>\n",
       "      <td>0.000000</td>\n",
       "      <td>0.000127</td>\n",
       "      <td>0.000051</td>\n",
       "      <td>0.000025</td>\n",
       "      <td>0.000000</td>\n",
       "      <td>0.000000</td>\n",
       "      <td>0.000000</td>\n",
       "      <td>0.000127</td>\n",
       "      <td>0.000000</td>\n",
       "      <td>...</td>\n",
       "      <td>0.000000</td>\n",
       "      <td>0.000025</td>\n",
       "      <td>0.000127</td>\n",
       "      <td>0.000000</td>\n",
       "      <td>0.000000</td>\n",
       "      <td>0.000025</td>\n",
       "      <td>0.000000</td>\n",
       "      <td>0.000025</td>\n",
       "      <td>0.000025</td>\n",
       "      <td>0.001681</td>\n",
       "    </tr>\n",
       "    <tr>\n",
       "      <th>75%</th>\n",
       "      <td>0.665115</td>\n",
       "      <td>0.006266</td>\n",
       "      <td>0.023611</td>\n",
       "      <td>0.016199</td>\n",
       "      <td>0.010035</td>\n",
       "      <td>0.000815</td>\n",
       "      <td>0.000025</td>\n",
       "      <td>0.006622</td>\n",
       "      <td>0.024401</td>\n",
       "      <td>0.000917</td>\n",
       "      <td>...</td>\n",
       "      <td>0.000637</td>\n",
       "      <td>0.000331</td>\n",
       "      <td>0.001834</td>\n",
       "      <td>0.000076</td>\n",
       "      <td>0.000331</td>\n",
       "      <td>0.000076</td>\n",
       "      <td>0.000611</td>\n",
       "      <td>0.001987</td>\n",
       "      <td>0.001859</td>\n",
       "      <td>0.898732</td>\n",
       "    </tr>\n",
       "    <tr>\n",
       "      <th>max</th>\n",
       "      <td>84.478919</td>\n",
       "      <td>1.167473</td>\n",
       "      <td>3.114680</td>\n",
       "      <td>1.880550</td>\n",
       "      <td>1.627448</td>\n",
       "      <td>0.179415</td>\n",
       "      <td>0.009246</td>\n",
       "      <td>0.633252</td>\n",
       "      <td>2.399183</td>\n",
       "      <td>0.129773</td>\n",
       "      <td>...</td>\n",
       "      <td>0.044293</td>\n",
       "      <td>0.036678</td>\n",
       "      <td>0.168794</td>\n",
       "      <td>0.010214</td>\n",
       "      <td>0.078755</td>\n",
       "      <td>0.047248</td>\n",
       "      <td>0.161484</td>\n",
       "      <td>0.454600</td>\n",
       "      <td>0.657168</td>\n",
       "      <td>100.000000</td>\n",
       "    </tr>\n",
       "  </tbody>\n",
       "</table>\n",
       "<p>8 rows × 21 columns</p>\n",
       "</div>"
      ],
      "text/plain": [
       "V_TYPE          01          05          06          07          08  \\\n",
       "count   117.000000  117.000000  117.000000  117.000000  117.000000   \n",
       "mean      1.444084    0.019957    0.053242    0.032146    0.027820   \n",
       "std       7.861737    0.109008    0.289811    0.175096    0.152467   \n",
       "min       0.000000    0.000000    0.000000    0.000000    0.000000   \n",
       "25%       0.000178    0.000000    0.000000    0.000000    0.000000   \n",
       "50%       0.001095    0.000000    0.000127    0.000051    0.000025   \n",
       "75%       0.665115    0.006266    0.023611    0.016199    0.010035   \n",
       "max      84.478919    1.167473    3.114680    1.880550    1.627448   \n",
       "\n",
       "V_TYPE          09          10          11          14          16  ...  \\\n",
       "count   117.000000  117.000000  117.000000  117.000000  117.000000  ...   \n",
       "mean      0.003067    0.000158    0.010825    0.041012    0.002218  ...   \n",
       "std       0.016739    0.000869    0.058928    0.223533    0.012685  ...   \n",
       "min       0.000000    0.000000    0.000000    0.000000    0.000000  ...   \n",
       "25%       0.000000    0.000000    0.000000    0.000000    0.000000  ...   \n",
       "50%       0.000000    0.000000    0.000000    0.000127    0.000000  ...   \n",
       "75%       0.000815    0.000025    0.006622    0.024401    0.000917  ...   \n",
       "max       0.179415    0.009246    0.633252    2.399183    0.129773  ...   \n",
       "\n",
       "V_TYPE          18          19          20          21          22  \\\n",
       "count   117.000000  117.000000  117.000000  117.000000  117.000000   \n",
       "mean      0.000757    0.000627    0.002885    0.000175    0.001346   \n",
       "std       0.004138    0.003646    0.015775    0.000952    0.007629   \n",
       "min       0.000000    0.000000    0.000000    0.000000    0.000000   \n",
       "25%       0.000000    0.000000    0.000000    0.000000    0.000000   \n",
       "50%       0.000000    0.000025    0.000127    0.000000    0.000000   \n",
       "75%       0.000637    0.000331    0.001834    0.000076    0.000331   \n",
       "max       0.044293    0.036678    0.168794    0.010214    0.078755   \n",
       "\n",
       "V_TYPE          23          NN          QQ          UU         All  \n",
       "count   117.000000  117.000000  117.000000  117.000000  117.000000  \n",
       "mean      0.000808    0.002760    0.007771    0.011234    1.709402  \n",
       "std       0.004656    0.015645    0.042732    0.074154    9.304963  \n",
       "min       0.000000    0.000000    0.000000    0.000000    0.000025  \n",
       "25%       0.000000    0.000000    0.000000    0.000000    0.000255  \n",
       "50%       0.000025    0.000000    0.000025    0.000025    0.001681  \n",
       "75%       0.000076    0.000611    0.001987    0.001859    0.898732  \n",
       "max       0.047248    0.161484    0.454600    0.657168  100.000000  \n",
       "\n",
       "[8 rows x 21 columns]"
      ]
     },
     "execution_count": 17,
     "metadata": {},
     "output_type": "execute_result"
    }
   ],
   "source": [
    "conting_table2.describe()"
   ]
  },
  {
   "cell_type": "code",
   "execution_count": 18,
   "id": "d02f0eff",
   "metadata": {},
   "outputs": [
    {
     "data": {
      "text/plain": [
       "<AxesSubplot:xlabel='V_TYPE'>"
      ]
     },
     "execution_count": 18,
     "metadata": {},
     "output_type": "execute_result"
    },
    {
     "data": {
      "image/png": "[encoded data removed]",
      "text/plain": [
       "<Figure size 432x288 with 1 Axes>"
      ]
     },
     "metadata": {
      "needs_background": "light"
     },
     "output_type": "display_data"
    }
   ],
   "source": [
    "# cantidad de accidentes por tipo de vehículo\n",
    "datostabla2 = conting_table2.iloc[-1].drop(['All','NN','UU','QQ'])\n",
    "datostabla2.plot.bar(rot=0)"
   ]
  },
  {
   "cell_type": "code",
   "execution_count": 19,
   "id": "43531599",
   "metadata": {},
   "outputs": [
    {
     "data": {
      "text/plain": [
       "V_TYPE\n",
       "10    0.009246\n",
       "21    0.010214\n",
       "19    0.036678\n",
       "18    0.044293\n",
       "23    0.047248\n",
       "Name: All, dtype: float64"
      ]
     },
     "execution_count": 19,
     "metadata": {},
     "output_type": "execute_result"
    }
   ],
   "source": [
    "datostablamin = conting_table2.iloc[-1].drop(['All','NN','UU','QQ']).sort_values(ascending = True).head(5)\n",
    "datostablamin"
   ]
  },
  {
   "cell_type": "markdown",
   "id": "7ef8d7db",
   "metadata": {},
   "source": [
    "Podemos concluir que el vehículo con menor probabilidad de accidente será el autobús escolar de menos de 25 pasajeros (0,0092%). Y el vehículo con más serán los turismos (84,5%)."
   ]
  },
  {
   "cell_type": "code",
   "execution_count": 20,
   "id": "4897d813",
   "metadata": {},
   "outputs": [
    {
     "data": {
      "text/plain": [
       "V_TYPE\n",
       "01    84.478919\n",
       "06     3.114680\n",
       "17     2.720827\n",
       "14     2.399183\n",
       "07     1.880550\n",
       "Name: All, dtype: float64"
      ]
     },
     "execution_count": 20,
     "metadata": {},
     "output_type": "execute_result"
    }
   ],
   "source": [
    "datostablamax = conting_table2.iloc[-1].drop(['All','NN','UU','QQ']).sort_values(ascending = False).head(5)\n",
    "datostablamax"
   ]
  },
  {
   "cell_type": "markdown",
   "id": "0bc02452",
   "metadata": {},
   "source": [
    "#### Breve estudio otras variables "
   ]
  },
  {
   "cell_type": "code",
   "execution_count": 21,
   "id": "4bb661bf",
   "metadata": {},
   "outputs": [
    {
     "data": {
      "text/html": [
       "<div>\n",
       "<style scoped>\n",
       "    .dataframe tbody tr th:only-of-type {\n",
       "        vertical-align: middle;\n",
       "    }\n",
       "\n",
       "    .dataframe tbody tr th {\n",
       "        vertical-align: top;\n",
       "    }\n",
       "\n",
       "    .dataframe thead th {\n",
       "        text-align: right;\n",
       "    }\n",
       "</style>\n",
       "<table border=\"1\" class=\"dataframe\">\n",
       "  <thead>\n",
       "    <tr style=\"text-align: right;\">\n",
       "      <th></th>\n",
       "      <th>index</th>\n",
       "      <th>percent</th>\n",
       "      <th>P_ID</th>\n",
       "    </tr>\n",
       "  </thead>\n",
       "  <tbody>\n",
       "    <tr>\n",
       "      <th>0</th>\n",
       "      <td>01</td>\n",
       "      <td>99.322328</td>\n",
       "      <td>3899480</td>\n",
       "    </tr>\n",
       "    <tr>\n",
       "      <th>1</th>\n",
       "      <td>02</td>\n",
       "      <td>0.502485</td>\n",
       "      <td>19728</td>\n",
       "    </tr>\n",
       "    <tr>\n",
       "      <th>2</th>\n",
       "      <td>03</td>\n",
       "      <td>0.109829</td>\n",
       "      <td>4312</td>\n",
       "    </tr>\n",
       "    <tr>\n",
       "      <th>3</th>\n",
       "      <td>04</td>\n",
       "      <td>0.038919</td>\n",
       "      <td>1528</td>\n",
       "    </tr>\n",
       "    <tr>\n",
       "      <th>4</th>\n",
       "      <td>05</td>\n",
       "      <td>0.014518</td>\n",
       "      <td>570</td>\n",
       "    </tr>\n",
       "  </tbody>\n",
       "</table>\n",
       "</div>"
      ],
      "text/plain": [
       "  index    percent     P_ID\n",
       "0    01  99.322328  3899480\n",
       "1    02   0.502485    19728\n",
       "2    03   0.109829     4312\n",
       "3    04   0.038919     1528\n",
       "4    05   0.014518      570"
      ]
     },
     "execution_count": 21,
     "metadata": {},
     "output_type": "execute_result"
    }
   ],
   "source": [
    "pd_P_ID = pd_accidentes['P_ID']\\\n",
    "        .value_counts(normalize=True)\\\n",
    "        .mul(100).rename('percent').reset_index()\n",
    "\n",
    "pd_conteo = pd_accidentes['P_ID'].value_counts().reset_index()\n",
    "pd_pc = pd.merge(pd_P_ID, pd_conteo, on=['index'], how='inner')\n",
    "pd_pc.head(5)"
   ]
  },
  {
   "cell_type": "code",
   "execution_count": 22,
   "id": "8bcddf8b",
   "metadata": {},
   "outputs": [
    {
     "data": {
      "text/html": [
       "<div>\n",
       "<style scoped>\n",
       "    .dataframe tbody tr th:only-of-type {\n",
       "        vertical-align: middle;\n",
       "    }\n",
       "\n",
       "    .dataframe tbody tr th {\n",
       "        vertical-align: top;\n",
       "    }\n",
       "\n",
       "    .dataframe thead th {\n",
       "        text-align: right;\n",
       "    }\n",
       "</style>\n",
       "<table border=\"1\" class=\"dataframe\">\n",
       "  <thead>\n",
       "    <tr style=\"text-align: right;\">\n",
       "      <th></th>\n",
       "      <th>index</th>\n",
       "      <th>percent</th>\n",
       "      <th>P_SEX</th>\n",
       "    </tr>\n",
       "  </thead>\n",
       "  <tbody>\n",
       "    <tr>\n",
       "      <th>0</th>\n",
       "      <td>M</td>\n",
       "      <td>59.985492</td>\n",
       "      <td>2355082</td>\n",
       "    </tr>\n",
       "    <tr>\n",
       "      <th>1</th>\n",
       "      <td>F</td>\n",
       "      <td>35.999466</td>\n",
       "      <td>1413370</td>\n",
       "    </tr>\n",
       "    <tr>\n",
       "      <th>2</th>\n",
       "      <td>U</td>\n",
       "      <td>3.972888</td>\n",
       "      <td>155979</td>\n",
       "    </tr>\n",
       "    <tr>\n",
       "      <th>3</th>\n",
       "      <td>N</td>\n",
       "      <td>0.042154</td>\n",
       "      <td>1655</td>\n",
       "    </tr>\n",
       "  </tbody>\n",
       "</table>\n",
       "</div>"
      ],
      "text/plain": [
       "  index    percent    P_SEX\n",
       "0     M  59.985492  2355082\n",
       "1     F  35.999466  1413370\n",
       "2     U   3.972888   155979\n",
       "3     N   0.042154     1655"
      ]
     },
     "execution_count": 22,
     "metadata": {},
     "output_type": "execute_result"
    }
   ],
   "source": [
    "pd_P_SEX = pd_accidentes['P_SEX']\\\n",
    "        .value_counts(normalize=True)\\\n",
    "        .mul(100).rename('percent').reset_index()\n",
    "\n",
    "pd_conteo = pd_accidentes['P_SEX'].value_counts().reset_index()\n",
    "pd_pc = pd.merge(pd_P_SEX, pd_conteo, on=['index'], how='inner')\n",
    "pd_pc.head(5)"
   ]
  },
  {
   "cell_type": "markdown",
   "id": "f9867e0d",
   "metadata": {},
   "source": [
    "Con estos porcentajes podemos observar que en los accidentes, el 59.985% de los conductores son hombres y el 35.999% son mujeres, llegando a la conlusion de que los hombres tienen mayor probabilidad de estar involucrado en un accidente de coche que una mujer. "
   ]
  },
  {
   "cell_type": "code",
   "execution_count": 23,
   "id": "a5fbe89b",
   "metadata": {},
   "outputs": [
    {
     "data": {
      "text/html": [
       "<div>\n",
       "<style scoped>\n",
       "    .dataframe tbody tr th:only-of-type {\n",
       "        vertical-align: middle;\n",
       "    }\n",
       "\n",
       "    .dataframe tbody tr th {\n",
       "        vertical-align: top;\n",
       "    }\n",
       "\n",
       "    .dataframe thead th {\n",
       "        text-align: right;\n",
       "    }\n",
       "</style>\n",
       "<table border=\"1\" class=\"dataframe\">\n",
       "  <thead>\n",
       "    <tr style=\"text-align: right;\">\n",
       "      <th></th>\n",
       "      <th>index</th>\n",
       "      <th>percent</th>\n",
       "      <th>P_AGE</th>\n",
       "    </tr>\n",
       "  </thead>\n",
       "  <tbody>\n",
       "    <tr>\n",
       "      <th>0</th>\n",
       "      <td>UU</td>\n",
       "      <td>5.239238</td>\n",
       "      <td>205697</td>\n",
       "    </tr>\n",
       "    <tr>\n",
       "      <th>1</th>\n",
       "      <td>19</td>\n",
       "      <td>2.707073</td>\n",
       "      <td>106282</td>\n",
       "    </tr>\n",
       "    <tr>\n",
       "      <th>2</th>\n",
       "      <td>18</td>\n",
       "      <td>2.677654</td>\n",
       "      <td>105127</td>\n",
       "    </tr>\n",
       "    <tr>\n",
       "      <th>3</th>\n",
       "      <td>20</td>\n",
       "      <td>2.626636</td>\n",
       "      <td>103124</td>\n",
       "    </tr>\n",
       "    <tr>\n",
       "      <th>4</th>\n",
       "      <td>21</td>\n",
       "      <td>2.526256</td>\n",
       "      <td>99183</td>\n",
       "    </tr>\n",
       "  </tbody>\n",
       "</table>\n",
       "</div>"
      ],
      "text/plain": [
       "  index   percent   P_AGE\n",
       "0    UU  5.239238  205697\n",
       "1    19  2.707073  106282\n",
       "2    18  2.677654  105127\n",
       "3    20  2.626636  103124\n",
       "4    21  2.526256   99183"
      ]
     },
     "execution_count": 23,
     "metadata": {},
     "output_type": "execute_result"
    }
   ],
   "source": [
    "pd_P_AGE = pd_accidentes['P_AGE']\\\n",
    "        .value_counts(normalize=True)\\\n",
    "        .mul(100).rename('percent').reset_index()\n",
    "\n",
    "pd_conteo = pd_accidentes['P_AGE'].value_counts().reset_index()\n",
    "pd_pc = pd.merge(pd_P_AGE, pd_conteo, on=['index'], how='inner')\n",
    "pd_pc.head(5)"
   ]
  },
  {
   "cell_type": "markdown",
   "id": "c9c156f3",
   "metadata": {},
   "source": [
    "Analizando estos porcentajes, podemos observar cómo los jóvenes entre 19 y 21 años son los que tienen más pruebas de tener accidentes, que se suele deber a ser los más inexpertos en la carretera y a tener cierta falta de responsabilidad frente a personas mayores y con más experiencia."
   ]
  },
  {
   "cell_type": "code",
   "execution_count": 24,
   "id": "c679026b",
   "metadata": {},
   "outputs": [
    {
     "data": {
      "text/html": [
       "<div>\n",
       "<style scoped>\n",
       "    .dataframe tbody tr th:only-of-type {\n",
       "        vertical-align: middle;\n",
       "    }\n",
       "\n",
       "    .dataframe tbody tr th {\n",
       "        vertical-align: top;\n",
       "    }\n",
       "\n",
       "    .dataframe thead th {\n",
       "        text-align: right;\n",
       "    }\n",
       "</style>\n",
       "<table border=\"1\" class=\"dataframe\">\n",
       "  <thead>\n",
       "    <tr style=\"text-align: right;\">\n",
       "      <th></th>\n",
       "      <th>index</th>\n",
       "      <th>percent</th>\n",
       "      <th>P_ISEV</th>\n",
       "    </tr>\n",
       "  </thead>\n",
       "  <tbody>\n",
       "    <tr>\n",
       "      <th>0</th>\n",
       "      <td>2</td>\n",
       "      <td>50.005272</td>\n",
       "      <td>1963250</td>\n",
       "    </tr>\n",
       "    <tr>\n",
       "      <th>1</th>\n",
       "      <td>1</td>\n",
       "      <td>42.133183</td>\n",
       "      <td>1654185</td>\n",
       "    </tr>\n",
       "    <tr>\n",
       "      <th>2</th>\n",
       "      <td>N</td>\n",
       "      <td>6.432335</td>\n",
       "      <td>252539</td>\n",
       "    </tr>\n",
       "    <tr>\n",
       "      <th>3</th>\n",
       "      <td>U</td>\n",
       "      <td>0.806885</td>\n",
       "      <td>31679</td>\n",
       "    </tr>\n",
       "    <tr>\n",
       "      <th>4</th>\n",
       "      <td>3</td>\n",
       "      <td>0.622325</td>\n",
       "      <td>24433</td>\n",
       "    </tr>\n",
       "  </tbody>\n",
       "</table>\n",
       "</div>"
      ],
      "text/plain": [
       "  index    percent   P_ISEV\n",
       "0     2  50.005272  1963250\n",
       "1     1  42.133183  1654185\n",
       "2     N   6.432335   252539\n",
       "3     U   0.806885    31679\n",
       "4     3   0.622325    24433"
      ]
     },
     "execution_count": 24,
     "metadata": {},
     "output_type": "execute_result"
    }
   ],
   "source": [
    "pd_P_ISEV = pd_accidentes['P_ISEV']\\\n",
    "        .value_counts(normalize=True)\\\n",
    "        .mul(100).rename('percent').reset_index()\n",
    "\n",
    "pd_conteo = pd_accidentes['P_ISEV'].value_counts().reset_index()\n",
    "pd_pc = pd.merge(pd_P_ISEV, pd_conteo, on=['index'], how='inner')\n",
    "pd_pc.head(5)"
   ]
  },
  {
   "cell_type": "markdown",
   "id": "36eacf0a",
   "metadata": {},
   "source": [
    "Con estos porcentajes podemos ver cómo en más de la mitad de los casos, en los accidentes el conductor sufre algún tipo de lesión, en el 42% de los casos no sufre ningún tipo de lesión, y en menos del 1% de los casos el conductor murió inmediatamente o dentro del límite de tiempo."
   ]
  },
  {
   "cell_type": "code",
   "execution_count": 25,
   "id": "9aaef2a0",
   "metadata": {},
   "outputs": [
    {
     "data": {
      "text/html": [
       "<div>\n",
       "<style scoped>\n",
       "    .dataframe tbody tr th:only-of-type {\n",
       "        vertical-align: middle;\n",
       "    }\n",
       "\n",
       "    .dataframe tbody tr th {\n",
       "        vertical-align: top;\n",
       "    }\n",
       "\n",
       "    .dataframe thead th {\n",
       "        text-align: right;\n",
       "    }\n",
       "</style>\n",
       "<table border=\"1\" class=\"dataframe\">\n",
       "  <thead>\n",
       "    <tr style=\"text-align: right;\">\n",
       "      <th></th>\n",
       "      <th>index</th>\n",
       "      <th>percent</th>\n",
       "      <th>P_SAFE</th>\n",
       "    </tr>\n",
       "  </thead>\n",
       "  <tbody>\n",
       "    <tr>\n",
       "      <th>0</th>\n",
       "      <td>02</td>\n",
       "      <td>71.227197</td>\n",
       "      <td>2796441</td>\n",
       "    </tr>\n",
       "    <tr>\n",
       "      <th>1</th>\n",
       "      <td>UU</td>\n",
       "      <td>11.292264</td>\n",
       "      <td>443344</td>\n",
       "    </tr>\n",
       "    <tr>\n",
       "      <th>2</th>\n",
       "      <td>NN</td>\n",
       "      <td>11.078081</td>\n",
       "      <td>434935</td>\n",
       "    </tr>\n",
       "    <tr>\n",
       "      <th>3</th>\n",
       "      <td>01</td>\n",
       "      <td>2.520016</td>\n",
       "      <td>98938</td>\n",
       "    </tr>\n",
       "    <tr>\n",
       "      <th>4</th>\n",
       "      <td>09</td>\n",
       "      <td>1.781647</td>\n",
       "      <td>69949</td>\n",
       "    </tr>\n",
       "  </tbody>\n",
       "</table>\n",
       "</div>"
      ],
      "text/plain": [
       "  index    percent   P_SAFE\n",
       "0    02  71.227197  2796441\n",
       "1    UU  11.292264   443344\n",
       "2    NN  11.078081   434935\n",
       "3    01   2.520016    98938\n",
       "4    09   1.781647    69949"
      ]
     },
     "execution_count": 25,
     "metadata": {},
     "output_type": "execute_result"
    }
   ],
   "source": [
    "pd_P_SAFE = pd_accidentes['P_SAFE']\\\n",
    "        .value_counts(normalize=True)\\\n",
    "        .mul(100).rename('percent').reset_index()\n",
    "\n",
    "pd_conteo = pd_accidentes['P_SAFE'].value_counts().reset_index()\n",
    "pd_pc = pd.merge(pd_P_SAFE, pd_conteo, on=['index'], how='inner')\n",
    "pd_pc.head(5)"
   ]
  },
  {
   "cell_type": "markdown",
   "id": "6faffb9c",
   "metadata": {},
   "source": [
    "Podemos ver como en el 71% de los casos hubo uso de algún tipo de dispositivo de seguridad utilizado o sistema de retención infantil utilizado, en el 2.5% de los casos no se utilizó ningún dispositivo de seguridad, y en el 1,78% de los casos se utilizó un caso protector. "
   ]
  },
  {
   "cell_type": "code",
   "execution_count": 26,
   "id": "65fd6d78",
   "metadata": {},
   "outputs": [
    {
     "data": {
      "text/html": [
       "<div>\n",
       "<style scoped>\n",
       "    .dataframe tbody tr th:only-of-type {\n",
       "        vertical-align: middle;\n",
       "    }\n",
       "\n",
       "    .dataframe tbody tr th {\n",
       "        vertical-align: top;\n",
       "    }\n",
       "\n",
       "    .dataframe thead th {\n",
       "        text-align: right;\n",
       "    }\n",
       "</style>\n",
       "<table border=\"1\" class=\"dataframe\">\n",
       "  <thead>\n",
       "    <tr style=\"text-align: right;\">\n",
       "      <th></th>\n",
       "      <th>index</th>\n",
       "      <th>percent</th>\n",
       "      <th>P_USER</th>\n",
       "    </tr>\n",
       "  </thead>\n",
       "  <tbody>\n",
       "    <tr>\n",
       "      <th>0</th>\n",
       "      <td>1</td>\n",
       "      <td>93.192737</td>\n",
       "      <td>3658827</td>\n",
       "    </tr>\n",
       "    <tr>\n",
       "      <th>1</th>\n",
       "      <td>4</td>\n",
       "      <td>2.720827</td>\n",
       "      <td>106822</td>\n",
       "    </tr>\n",
       "    <tr>\n",
       "      <th>2</th>\n",
       "      <td>5</td>\n",
       "      <td>2.399183</td>\n",
       "      <td>94194</td>\n",
       "    </tr>\n",
       "    <tr>\n",
       "      <th>3</th>\n",
       "      <td>U</td>\n",
       "      <td>1.667462</td>\n",
       "      <td>65466</td>\n",
       "    </tr>\n",
       "    <tr>\n",
       "      <th>4</th>\n",
       "      <td>3</td>\n",
       "      <td>0.019791</td>\n",
       "      <td>777</td>\n",
       "    </tr>\n",
       "  </tbody>\n",
       "</table>\n",
       "</div>"
      ],
      "text/plain": [
       "  index    percent   P_USER\n",
       "0     1  93.192737  3658827\n",
       "1     4   2.720827   106822\n",
       "2     5   2.399183    94194\n",
       "3     U   1.667462    65466\n",
       "4     3   0.019791      777"
      ]
     },
     "execution_count": 26,
     "metadata": {},
     "output_type": "execute_result"
    }
   ],
   "source": [
    "pd_P_USER = pd_accidentes['P_USER']\\\n",
    "        .value_counts(normalize=True)\\\n",
    "        .mul(100).rename('percent').reset_index()\n",
    "\n",
    "pd_conteo = pd_accidentes['P_USER'].value_counts().reset_index()\n",
    "pd_pc = pd.merge(pd_P_USER, pd_conteo, on=['index'], how='inner')\n",
    "pd_pc.head(5)"
   ]
  },
  {
   "cell_type": "markdown",
   "id": "bbf9feef",
   "metadata": {},
   "source": [
    "Podemos observar como en el 93% de los casos, el implicado se trataba del conductor de vehículos de motor, en el 2,7% se trataba de un ciclista, en el 2,4% se trataba de un motociclista y en el 0,01% de un peatón"
   ]
  },
  {
   "cell_type": "markdown",
   "id": "bdbe6d2d",
   "metadata": {},
   "source": [
    "# Pregunta 3: ¿Qué es lo que más contribuye a que existan fallecimientos en un accidente?\n",
    "\n"
   ]
  },
  {
   "cell_type": "markdown",
   "id": "80ccfd89",
   "metadata": {},
   "source": [
    "### Preprocesamiento variables"
   ]
  },
  {
   "cell_type": "markdown",
   "id": "a100a8b4",
   "metadata": {},
   "source": [
    "Como hemos observado en el dataset, hay muchas filas repetidas, sin embargo estos no son una representación fiel de la realidad en cuánto al número de accidentes ocurridos pues tiene en cuenta los individuos y vehículos que se han visto afectados. Tenemos dos alternativas, la primera sería considerar que habrá tantos accidentes como conductores. Sin embargo, esta tendrá en consideración todos los conductores involucrados en un solo accidente. En nuestro caso 3.926.086, gracias al siguiente código reducimos nuestro dataset a un total de 1.850.395 rows, que representarán el número de accidentes ocurridos desde 1999 hasta 2014 "
   ]
  },
  {
   "cell_type": "code",
   "execution_count": 71,
   "id": "f94b7cff",
   "metadata": {},
   "outputs": [
    {
     "name": "stdout",
     "output_type": "stream",
     "text": [
      "Variables numéricas  ['C_YEAR', 'C_SEV', 'P_SEX']\n",
      "Variables categóricas:  ['C_MNTH', 'C_WDAY', 'C_HOUR', 'C_VEHS', 'C_CONF', 'C_RCFG', 'C_WTHR', 'C_RSUR', 'C_RALN', 'C_TRAF', 'V_ID', 'V_TYPE', 'V_YEAR', 'P_ID', 'P_AGE', 'P_PSN', 'P_ISEV', 'P_SAFE', 'P_USER']\n"
     ]
    }
   ],
   "source": [
    "#diferenciamos numéricas de categóricas\n",
    "var_num = (pd_datos.dtypes[pd_datos.dtypes!='object'].index.to_list())\n",
    "var_cat = (pd_datos.dtypes[pd_datos.dtypes=='object'].index.to_list())\n",
    "\n",
    "print('Variables numéricas ', var_num)\n",
    "print('Variables categóricas: ', var_cat)"
   ]
  },
  {
   "cell_type": "code",
   "execution_count": 72,
   "id": "fe6f32f2",
   "metadata": {},
   "outputs": [],
   "source": [
    "Q = ['Q', 'QQ', 'QQQQ']\n",
    "N = ['N', 'NN', 'NNNN']\n",
    "U = ['U', 'UU', 'UUUU']\n",
    "X = ['X', 'XX', 'XXXX']"
   ]
  },
  {
   "cell_type": "code",
   "execution_count": 73,
   "id": "25ecdb71",
   "metadata": {},
   "outputs": [
    {
     "name": "stderr",
     "output_type": "stream",
     "text": [
      "/Users/patriciamanueco/opt/anaconda3/lib/python3.9/site-packages/pandas/core/frame.py:3641: SettingWithCopyWarning: \n",
      "A value is trying to be set on a copy of a slice from a DataFrame.\n",
      "Try using .loc[row_indexer,col_indexer] = value instead\n",
      "\n",
      "See the caveats in the documentation: https://pandas.pydata.org/pandas-docs/stable/user_guide/indexing.html#returning-a-view-versus-a-copy\n",
      "  self[k1] = value[k2]\n"
     ]
    }
   ],
   "source": [
    "pd_datos[var_cat] = pd_datos[var_cat].replace(Q, 0)\n",
    "pd_datos[var_cat] = pd_datos[var_cat].replace(N, 0)\n",
    "pd_datos[var_cat] = pd_datos[var_cat].replace(U, 0)\n",
    "pd_datos[var_cat] = pd_datos[var_cat].replace(X, 0)"
   ]
  },
  {
   "cell_type": "code",
   "execution_count": 80,
   "id": "98a1c1c8",
   "metadata": {},
   "outputs": [
    {
     "data": {
      "text/plain": [
       "C_YEAR    0\n",
       "C_MNTH    0\n",
       "C_WDAY    0\n",
       "C_HOUR    0\n",
       "C_SEV     0\n",
       "C_VEHS    0\n",
       "C_CONF    0\n",
       "C_RCFG    0\n",
       "C_WTHR    0\n",
       "C_RSUR    0\n",
       "C_RALN    0\n",
       "C_TRAF    0\n",
       "V_ID      0\n",
       "V_TYPE    0\n",
       "V_YEAR    0\n",
       "P_ID      0\n",
       "P_SEX     0\n",
       "P_AGE     0\n",
       "P_PSN     0\n",
       "P_ISEV    0\n",
       "P_SAFE    0\n",
       "P_USER    0\n",
       "dtype: int64"
      ]
     },
     "execution_count": 80,
     "metadata": {},
     "output_type": "execute_result"
    }
   ],
   "source": [
    "pd_datos.isnull().sum()"
   ]
  },
  {
   "cell_type": "code",
   "execution_count": 81,
   "id": "c7b0922f",
   "metadata": {},
   "outputs": [],
   "source": [
    "pd_datos=pd_datos.dropna()"
   ]
  },
  {
   "cell_type": "code",
   "execution_count": 82,
   "id": "c57b5e12",
   "metadata": {},
   "outputs": [],
   "source": [
    "pd_datos.P_SEX.replace({'M':0,'F':1},inplace=True)\n",
    "datos_model=pd_datos.copy()"
   ]
  },
  {
   "cell_type": "code",
   "execution_count": 85,
   "id": "67375a5e",
   "metadata": {},
   "outputs": [],
   "source": [
    "numerical = ['C_YEAR', 'C_SEV', 'C_MNTH', 'C_WDAY','C_HOUR', 'C_VEHS', 'C_CONF','C_RCFG','C_WTHR','C_RSUR','C_RALN',\n",
    "        'C_TRAF','V_ID','V_TYPE', 'V_YEAR','P_ID','P_AGE','P_PSN','P_ISEV','P_SAFE','P_USER','P_SEX']\n",
    "\n",
    "datos_model = datos_model[numerical].astype(int)"
   ]
  },
  {
   "cell_type": "code",
   "execution_count": 84,
   "id": "18f1b577",
   "metadata": {},
   "outputs": [
    {
     "data": {
      "text/html": [
       "<div>\n",
       "<style scoped>\n",
       "    .dataframe tbody tr th:only-of-type {\n",
       "        vertical-align: middle;\n",
       "    }\n",
       "\n",
       "    .dataframe tbody tr th {\n",
       "        vertical-align: top;\n",
       "    }\n",
       "\n",
       "    .dataframe thead th {\n",
       "        text-align: right;\n",
       "    }\n",
       "</style>\n",
       "<table border=\"1\" class=\"dataframe\">\n",
       "  <thead>\n",
       "    <tr style=\"text-align: right;\">\n",
       "      <th></th>\n",
       "      <th>C_YEAR</th>\n",
       "      <th>C_MNTH</th>\n",
       "      <th>C_WDAY</th>\n",
       "      <th>C_HOUR</th>\n",
       "      <th>C_SEV</th>\n",
       "      <th>C_VEHS</th>\n",
       "      <th>C_CONF</th>\n",
       "      <th>C_RCFG</th>\n",
       "      <th>C_WTHR</th>\n",
       "      <th>C_RSUR</th>\n",
       "      <th>C_RALN</th>\n",
       "      <th>C_TRAF</th>\n",
       "      <th>V_ID</th>\n",
       "    </tr>\n",
       "  </thead>\n",
       "  <tbody>\n",
       "    <tr>\n",
       "      <th>0</th>\n",
       "      <td>1999</td>\n",
       "      <td>0</td>\n",
       "      <td>0</td>\n",
       "      <td>0</td>\n",
       "      <td>2</td>\n",
       "      <td>01</td>\n",
       "      <td>01</td>\n",
       "      <td>01</td>\n",
       "      <td>4</td>\n",
       "      <td>0</td>\n",
       "      <td>1</td>\n",
       "      <td>18</td>\n",
       "      <td>2</td>\n",
       "    </tr>\n",
       "    <tr>\n",
       "      <th>1</th>\n",
       "      <td>1999</td>\n",
       "      <td>0</td>\n",
       "      <td>0</td>\n",
       "      <td>0</td>\n",
       "      <td>2</td>\n",
       "      <td>01</td>\n",
       "      <td>03</td>\n",
       "      <td>01</td>\n",
       "      <td>0</td>\n",
       "      <td>1</td>\n",
       "      <td>6</td>\n",
       "      <td>18</td>\n",
       "      <td>1</td>\n",
       "    </tr>\n",
       "    <tr>\n",
       "      <th>2</th>\n",
       "      <td>1999</td>\n",
       "      <td>0</td>\n",
       "      <td>0</td>\n",
       "      <td>0</td>\n",
       "      <td>2</td>\n",
       "      <td>03</td>\n",
       "      <td>21</td>\n",
       "      <td>0</td>\n",
       "      <td>1</td>\n",
       "      <td>1</td>\n",
       "      <td>0</td>\n",
       "      <td>01</td>\n",
       "      <td>3</td>\n",
       "    </tr>\n",
       "    <tr>\n",
       "      <th>3</th>\n",
       "      <td>1999</td>\n",
       "      <td>0</td>\n",
       "      <td>0</td>\n",
       "      <td>08</td>\n",
       "      <td>2</td>\n",
       "      <td>02</td>\n",
       "      <td>33</td>\n",
       "      <td>0</td>\n",
       "      <td>1</td>\n",
       "      <td>1</td>\n",
       "      <td>0</td>\n",
       "      <td>0</td>\n",
       "      <td>3</td>\n",
       "    </tr>\n",
       "    <tr>\n",
       "      <th>4</th>\n",
       "      <td>1999</td>\n",
       "      <td>0</td>\n",
       "      <td>0</td>\n",
       "      <td>16</td>\n",
       "      <td>2</td>\n",
       "      <td>02</td>\n",
       "      <td>21</td>\n",
       "      <td>0</td>\n",
       "      <td>1</td>\n",
       "      <td>1</td>\n",
       "      <td>0</td>\n",
       "      <td>01</td>\n",
       "      <td>3</td>\n",
       "    </tr>\n",
       "    <tr>\n",
       "      <th>...</th>\n",
       "      <td>...</td>\n",
       "      <td>...</td>\n",
       "      <td>...</td>\n",
       "      <td>...</td>\n",
       "      <td>...</td>\n",
       "      <td>...</td>\n",
       "      <td>...</td>\n",
       "      <td>...</td>\n",
       "      <td>...</td>\n",
       "      <td>...</td>\n",
       "      <td>...</td>\n",
       "      <td>...</td>\n",
       "      <td>...</td>\n",
       "    </tr>\n",
       "    <tr>\n",
       "      <th>1844639</th>\n",
       "      <td>2014</td>\n",
       "      <td>12</td>\n",
       "      <td>7</td>\n",
       "      <td>23</td>\n",
       "      <td>2</td>\n",
       "      <td>02</td>\n",
       "      <td>21</td>\n",
       "      <td>01</td>\n",
       "      <td>1</td>\n",
       "      <td>1</td>\n",
       "      <td>1</td>\n",
       "      <td>01</td>\n",
       "      <td>5</td>\n",
       "    </tr>\n",
       "    <tr>\n",
       "      <th>1844640</th>\n",
       "      <td>2014</td>\n",
       "      <td>12</td>\n",
       "      <td>7</td>\n",
       "      <td>23</td>\n",
       "      <td>2</td>\n",
       "      <td>02</td>\n",
       "      <td>24</td>\n",
       "      <td>02</td>\n",
       "      <td>1</td>\n",
       "      <td>1</td>\n",
       "      <td>1</td>\n",
       "      <td>18</td>\n",
       "      <td>5</td>\n",
       "    </tr>\n",
       "    <tr>\n",
       "      <th>1844641</th>\n",
       "      <td>2014</td>\n",
       "      <td>12</td>\n",
       "      <td>7</td>\n",
       "      <td>23</td>\n",
       "      <td>2</td>\n",
       "      <td>02</td>\n",
       "      <td>33</td>\n",
       "      <td>02</td>\n",
       "      <td>1</td>\n",
       "      <td>1</td>\n",
       "      <td>1</td>\n",
       "      <td>18</td>\n",
       "      <td>5</td>\n",
       "    </tr>\n",
       "    <tr>\n",
       "      <th>1844642</th>\n",
       "      <td>2014</td>\n",
       "      <td>12</td>\n",
       "      <td>7</td>\n",
       "      <td>23</td>\n",
       "      <td>2</td>\n",
       "      <td>02</td>\n",
       "      <td>35</td>\n",
       "      <td>01</td>\n",
       "      <td>1</td>\n",
       "      <td>2</td>\n",
       "      <td>1</td>\n",
       "      <td>01</td>\n",
       "      <td>3</td>\n",
       "    </tr>\n",
       "    <tr>\n",
       "      <th>1844643</th>\n",
       "      <td>2014</td>\n",
       "      <td>12</td>\n",
       "      <td>7</td>\n",
       "      <td>23</td>\n",
       "      <td>2</td>\n",
       "      <td>03</td>\n",
       "      <td>21</td>\n",
       "      <td>02</td>\n",
       "      <td>1</td>\n",
       "      <td>5</td>\n",
       "      <td>1</td>\n",
       "      <td>01</td>\n",
       "      <td>7</td>\n",
       "    </tr>\n",
       "  </tbody>\n",
       "</table>\n",
       "<p>1844644 rows × 13 columns</p>\n",
       "</div>"
      ],
      "text/plain": [
       "         C_YEAR C_MNTH C_WDAY C_HOUR  C_SEV C_VEHS C_CONF C_RCFG C_WTHR  \\\n",
       "0          1999      0      0      0      2     01     01     01      4   \n",
       "1          1999      0      0      0      2     01     03     01      0   \n",
       "2          1999      0      0      0      2     03     21      0      1   \n",
       "3          1999      0      0     08      2     02     33      0      1   \n",
       "4          1999      0      0     16      2     02     21      0      1   \n",
       "...         ...    ...    ...    ...    ...    ...    ...    ...    ...   \n",
       "1844639    2014     12      7     23      2     02     21     01      1   \n",
       "1844640    2014     12      7     23      2     02     24     02      1   \n",
       "1844641    2014     12      7     23      2     02     33     02      1   \n",
       "1844642    2014     12      7     23      2     02     35     01      1   \n",
       "1844643    2014     12      7     23      2     03     21     02      1   \n",
       "\n",
       "        C_RSUR C_RALN C_TRAF  V_ID  \n",
       "0            0      1     18     2  \n",
       "1            1      6     18     1  \n",
       "2            1      0     01     3  \n",
       "3            1      0      0     3  \n",
       "4            1      0     01     3  \n",
       "...        ...    ...    ...   ...  \n",
       "1844639      1      1     01     5  \n",
       "1844640      1      1     18     5  \n",
       "1844641      1      1     18     5  \n",
       "1844642      2      1     01     3  \n",
       "1844643      5      1     01     7  \n",
       "\n",
       "[1844644 rows x 13 columns]"
      ]
     },
     "execution_count": 84,
     "metadata": {},
     "output_type": "execute_result"
    }
   ],
   "source": [
    "datos_accidentes = pd_datos.groupby(columnas_accidente).count()['V_ID']\n",
    "datos_accidentes.columns = ['total_rows']\n",
    "datos_accidentes = datos_accidentes.reset_index()\n",
    "datos_accidentes"
   ]
  },
  {
   "cell_type": "markdown",
   "id": "53cc389c",
   "metadata": {},
   "source": [
    "Tomaremos como variables objetivo C_SEV (severidad del accidente) y P_ISEV (grado de severidad)"
   ]
  },
  {
   "cell_type": "code",
   "execution_count": 75,
   "id": "eed1dfcb",
   "metadata": {},
   "outputs": [
    {
     "data": {
      "text/html": [
       "<div>\n",
       "<style scoped>\n",
       "    .dataframe tbody tr th:only-of-type {\n",
       "        vertical-align: middle;\n",
       "    }\n",
       "\n",
       "    .dataframe tbody tr th {\n",
       "        vertical-align: top;\n",
       "    }\n",
       "\n",
       "    .dataframe thead th {\n",
       "        text-align: right;\n",
       "    }\n",
       "</style>\n",
       "<table border=\"1\" class=\"dataframe\">\n",
       "  <thead>\n",
       "    <tr style=\"text-align: right;\">\n",
       "      <th></th>\n",
       "      <th>index</th>\n",
       "      <th>percent</th>\n",
       "      <th>P_ISEV</th>\n",
       "    </tr>\n",
       "  </thead>\n",
       "  <tbody>\n",
       "    <tr>\n",
       "      <th>0</th>\n",
       "      <td>2</td>\n",
       "      <td>52.443996</td>\n",
       "      <td>3073429</td>\n",
       "    </tr>\n",
       "    <tr>\n",
       "      <th>1</th>\n",
       "      <td>1</td>\n",
       "      <td>40.529762</td>\n",
       "      <td>2375207</td>\n",
       "    </tr>\n",
       "    <tr>\n",
       "      <th>2</th>\n",
       "      <td>0</td>\n",
       "      <td>6.337654</td>\n",
       "      <td>371412</td>\n",
       "    </tr>\n",
       "    <tr>\n",
       "      <th>3</th>\n",
       "      <td>3</td>\n",
       "      <td>0.688588</td>\n",
       "      <td>40354</td>\n",
       "    </tr>\n",
       "  </tbody>\n",
       "</table>\n",
       "</div>"
      ],
      "text/plain": [
       "  index    percent   P_ISEV\n",
       "0     2  52.443996  3073429\n",
       "1     1  40.529762  2375207\n",
       "2     0   6.337654   371412\n",
       "3     3   0.688588    40354"
      ]
     },
     "execution_count": 75,
     "metadata": {},
     "output_type": "execute_result"
    }
   ],
   "source": [
    "# P_ISEV = 3\n",
    "pd_P_ISEV = pd_datos['P_ISEV']\\\n",
    "        .value_counts(normalize=True)\\\n",
    "        .mul(100).rename('percent').reset_index()\n",
    "\n",
    "pd_conteo = pd_datos['P_ISEV'].value_counts().reset_index()\n",
    "pd_pc = pd.merge(pd_P_ISEV, pd_conteo, on=['index'], how='inner')\n",
    "pd_pc.head(5)"
   ]
  },
  {
   "cell_type": "code",
   "execution_count": 76,
   "id": "797bda49",
   "metadata": {},
   "outputs": [],
   "source": [
    "# Función para sacar % y valor absoluto de la variable objetivo C_SEV al ser un INT64\n",
    "def classes_overview(df = None, obj_val = \"\"):\n",
    "    temp = df[obj_val].value_counts(normalize=True).mul(100).rename('percent').reset_index()\n",
    "    temp_conteo = df[obj_val].value_counts().reset_index()\n",
    "    return pd.merge(temp, temp_conteo, on=['index'], how='inner')"
   ]
  },
  {
   "cell_type": "code",
   "execution_count": 77,
   "id": "24c58238",
   "metadata": {},
   "outputs": [
    {
     "data": {
      "text/html": [
       "<div>\n",
       "<style scoped>\n",
       "    .dataframe tbody tr th:only-of-type {\n",
       "        vertical-align: middle;\n",
       "    }\n",
       "\n",
       "    .dataframe tbody tr th {\n",
       "        vertical-align: top;\n",
       "    }\n",
       "\n",
       "    .dataframe thead th {\n",
       "        text-align: right;\n",
       "    }\n",
       "</style>\n",
       "<table border=\"1\" class=\"dataframe\">\n",
       "  <thead>\n",
       "    <tr style=\"text-align: right;\">\n",
       "      <th></th>\n",
       "      <th>index</th>\n",
       "      <th>percent</th>\n",
       "      <th>C_SEV</th>\n",
       "    </tr>\n",
       "  </thead>\n",
       "  <tbody>\n",
       "    <tr>\n",
       "      <th>0</th>\n",
       "      <td>2</td>\n",
       "      <td>98.316958</td>\n",
       "      <td>5761769</td>\n",
       "    </tr>\n",
       "    <tr>\n",
       "      <th>1</th>\n",
       "      <td>1</td>\n",
       "      <td>1.683042</td>\n",
       "      <td>98633</td>\n",
       "    </tr>\n",
       "  </tbody>\n",
       "</table>\n",
       "</div>"
      ],
      "text/plain": [
       "   index    percent    C_SEV\n",
       "0      2  98.316958  5761769\n",
       "1      1   1.683042    98633"
      ]
     },
     "execution_count": 77,
     "metadata": {},
     "output_type": "execute_result"
    }
   ],
   "source": [
    "# C_SEV = 1, casos con al menos un fallecimiento\n",
    "classes_overview(df = pd_datos, obj_val = 'C_SEV')"
   ]
  },
  {
   "cell_type": "code",
   "execution_count": 78,
   "id": "a8bbcd16",
   "metadata": {},
   "outputs": [],
   "source": [
    "# agrupamos las gráficas para que sea más sencilla y visual la interpretación\n",
    "def norm_category(df = None, obj_val = \"\", cat_val = \"\"):    \n",
    "    agrupados = df.groupby([obj_val, cat_val]).count().iloc[:,1]\n",
    "    agrupados = agrupados.reset_index()\n",
    "    agrupados.columns = [obj_val, cat_val, 'counted']\n",
    "    \n",
    "    agrupados['group%'] = np.round(agrupados['counted'] / \n",
    "                                 agrupados.groupby(obj_val)['counted'].transform('sum') * 100, decimals = 3)\n",
    "    return agrupados\n"
   ]
  },
  {
   "cell_type": "code",
   "execution_count": 79,
   "id": "c26f995e",
   "metadata": {
    "scrolled": false
   },
   "outputs": [
    {
     "data": {
      "image/png": "[encoded data removed]",
      "text/plain": [
       "<Figure size 1080x2520 with 16 Axes>"
      ]
     },
     "metadata": {
      "needs_background": "light"
     },
     "output_type": "display_data"
    }
   ],
   "source": [
    "from matplotlib import pyplot as plt\n",
    "categorias = ['C_YEAR','C_MNTH', 'C_WDAY', 'C_HOUR', 'C_CONF','C_RCFG', 'C_WTHR', 'C_RSUR', 'C_RALN', \n",
    "               'C_TRAF', 'V_TYPE', 'P_SEX', 'P_PSN','P_ISEV', 'P_SAFE', 'P_USER']\n",
    "\n",
    "fig, axes = plt.subplots(8, 2, figsize=(15, 35), sharey=False)\n",
    "fig.suptitle('Clasificación de accidentes por severidad')\n",
    "# 1 Por lo menos un fallecimiento\n",
    "# 2 Ningún fallecimiento\n",
    "\n",
    "i = 0\n",
    "j = 0 \n",
    "\n",
    "for cat in categorias:\n",
    "    comp_var_objetivo = norm_category(df = pd_datos, obj_val = 'C_SEV', cat_val = cat)\n",
    "    sns.barplot(data = comp_var_objetivo, x = cat, y = 'group%', hue = 'C_SEV', ax = axes[i,j]);\n",
    "    if (j == 0): \n",
    "        j = 1\n",
    "    else:\n",
    "        j = 0\n",
    "        i += 1"
   ]
  },
  {
   "cell_type": "markdown",
   "id": "faeb7e0c",
   "metadata": {},
   "source": [
    "#### Conclusión"
   ]
  },
  {
   "cell_type": "markdown",
   "id": "f3dd919d",
   "metadata": {},
   "source": [
    "Clasificación más accidentes más fallecidos ( + + )\n",
    "Clasificación más accidentes ningún fallecidos  ( + -)\n",
    "- **C_YEAR** (últimos 15 años)\n",
    "    - 1999 + +\n",
    "    - 2000 + -\n",
    "- **C_MNTH** \n",
    "    - Agosto + +\n",
    "    - Agosto + -\n",
    "        \n",
    "- **C_WDAY**: \n",
    "    - Sábado + +\n",
    "    - Viernes + -\n",
    "    \n",
    "- **C_HOUR**:\n",
    "    - 16:00 / 16:59 + +\n",
    "    - 16:00 / 16:59 + -\n",
    "    \n",
    "- **C_CONF**: \n",
    "    - Head on collision, mueren más que sobreviven menor índice de supervivencia. + +\n",
    "    - Rear-end collision, sobreviven más que mueren, colisión más común seguida del head on collision, mayor índice de supervivencia. + -\n",
    "    \n",
    "- **C_RCFG**:\n",
    "    - Non intersection + +\n",
    "    - Non intersection + -\n",
    "    \n",
    "- **C_WTHR**: \n",
    "    - Clear and sunny + +\n",
    "    - Clear and sunny + -\n",
    "    \n",
    "- **C_RSUR**:\n",
    "    - Dry, normal. Son las condiciones más recurrentes de accidente, y el índice de supervivencia en caso de accidente es menor. + +\n",
    "    - Aún siendo menos comunes, los accidentes en suelos mojado tiene mayor índice de supervivencia que de defunción. + -\n",
    "    \n",
    "- **C_RALN**:\n",
    "    - Straight and level + +\n",
    "    - Straight and level + -\n",
    "    \n",
    "- **C_TRAF**:\n",
    "    - No control present, son el accidente más común y un factor a tomar en consideración pues el número de defunciones es considerablemente mayor que el de supervivientes.\n",
    "\n",
    "- **V_TYPE**:\n",
    "    - Light Duty Vehicle, tipo de vehículo más común y por tanto el que más accidentes tiene (+ +)\n",
    "\n",
    "- **P_SEX**:\n",
    "    - Male, los hombres son más propensos a tener accidentes de conducción, y en caso de verse involucrado mayor probabilidades de fallecer en este. Por el contrario las mujeres se ven involucradas y aún siendo así tienen mayor probabilidades de salir ilesas.\n",
    "    \n",
    "- **P_PSN**:\n",
    "    - Driver\n",
    "    \n",
    "- **P_SAFE**:\n",
    "    - Safety device used or child restraint used\n",
    "    \n",
    "- **P_USER**:\n",
    "    - Motor Vehicle Driver"
   ]
  },
  {
   "cell_type": "markdown",
   "id": "2a02cb62",
   "metadata": {},
   "source": [
    "Para llevar a cabo la creación de un modelo de predicción vamos a cambiar todas nuestras variables categóricas a numéricas"
   ]
  },
  {
   "cell_type": "markdown",
   "id": "ca851e5b",
   "metadata": {},
   "source": [
    "# Pregunta 4: Dado un accidente, ¿se puede generar un modelo que prediga si habrá fallecimientos o no? ¿Si se va a necesitar tratamiento médico o no? Las aseguradoras tienen que inmovilizar capital para pagar estas casuísticas. "
   ]
  },
  {
   "cell_type": "markdown",
   "id": "05f63f6b",
   "metadata": {},
   "source": [
    "Para poder entrenar nuestros modelos y evaluarlos. correctamente, realizaremos una separación de los datos de entrenamiento (C_SEV) de aquellos que usaremos para crear los conjuntos de train y de test. "
   ]
  },
  {
   "cell_type": "code",
   "execution_count": 46,
   "id": "fc4f1425",
   "metadata": {},
   "outputs": [],
   "source": [
    "import numpy as np\n",
    "from sklearn import datasets, linear_model\n",
    "import matplotlib.pyplot as plt\n",
    "import pandas as pd\n",
    "from sklearn.linear_model import LogisticRegression\n",
    "from sklearn.model_selection import train_test_split "
   ]
  },
  {
   "cell_type": "code",
   "execution_count": 47,
   "id": "748b338b",
   "metadata": {},
   "outputs": [
    {
     "name": "stdout",
     "output_type": "stream",
     "text": [
      "Train:  4688324\n",
      "Test:  1172081\n"
     ]
    }
   ],
   "source": [
    "# separamos en train y test\n",
    "train, test = train_test_split(pd_datos, test_size = 0.20)\n",
    "\n",
    "print(\"Train: \", len(train))\n",
    "print(\"Test: \", len(test))"
   ]
  },
  {
   "cell_type": "code",
   "execution_count": 48,
   "id": "6e42c84f",
   "metadata": {},
   "outputs": [
    {
     "data": {
      "text/html": [
       "<div>\n",
       "<style scoped>\n",
       "    .dataframe tbody tr th:only-of-type {\n",
       "        vertical-align: middle;\n",
       "    }\n",
       "\n",
       "    .dataframe tbody tr th {\n",
       "        vertical-align: top;\n",
       "    }\n",
       "\n",
       "    .dataframe thead th {\n",
       "        text-align: right;\n",
       "    }\n",
       "</style>\n",
       "<table border=\"1\" class=\"dataframe\">\n",
       "  <thead>\n",
       "    <tr style=\"text-align: right;\">\n",
       "      <th></th>\n",
       "      <th>C_TRAF</th>\n",
       "      <th>C_RALN</th>\n",
       "      <th>C_SEV</th>\n",
       "    </tr>\n",
       "  </thead>\n",
       "  <tbody>\n",
       "    <tr>\n",
       "      <th>0</th>\n",
       "      <td>03</td>\n",
       "      <td>3</td>\n",
       "      <td>2</td>\n",
       "    </tr>\n",
       "    <tr>\n",
       "      <th>1</th>\n",
       "      <td>03</td>\n",
       "      <td>3</td>\n",
       "      <td>2</td>\n",
       "    </tr>\n",
       "    <tr>\n",
       "      <th>2</th>\n",
       "      <td>03</td>\n",
       "      <td>3</td>\n",
       "      <td>2</td>\n",
       "    </tr>\n",
       "    <tr>\n",
       "      <th>3</th>\n",
       "      <td>18</td>\n",
       "      <td>6</td>\n",
       "      <td>2</td>\n",
       "    </tr>\n",
       "    <tr>\n",
       "      <th>4</th>\n",
       "      <td>18</td>\n",
       "      <td>6</td>\n",
       "      <td>2</td>\n",
       "    </tr>\n",
       "    <tr>\n",
       "      <th>...</th>\n",
       "      <td>...</td>\n",
       "      <td>...</td>\n",
       "      <td>...</td>\n",
       "    </tr>\n",
       "    <tr>\n",
       "      <th>5860400</th>\n",
       "      <td>0</td>\n",
       "      <td>0</td>\n",
       "      <td>2</td>\n",
       "    </tr>\n",
       "    <tr>\n",
       "      <th>5860401</th>\n",
       "      <td>18</td>\n",
       "      <td>0</td>\n",
       "      <td>2</td>\n",
       "    </tr>\n",
       "    <tr>\n",
       "      <th>5860402</th>\n",
       "      <td>18</td>\n",
       "      <td>4</td>\n",
       "      <td>2</td>\n",
       "    </tr>\n",
       "    <tr>\n",
       "      <th>5860403</th>\n",
       "      <td>18</td>\n",
       "      <td>0</td>\n",
       "      <td>1</td>\n",
       "    </tr>\n",
       "    <tr>\n",
       "      <th>5860404</th>\n",
       "      <td>18</td>\n",
       "      <td>0</td>\n",
       "      <td>1</td>\n",
       "    </tr>\n",
       "  </tbody>\n",
       "</table>\n",
       "<p>5860405 rows × 3 columns</p>\n",
       "</div>"
      ],
      "text/plain": [
       "        C_TRAF C_RALN  C_SEV\n",
       "0           03      3      2\n",
       "1           03      3      2\n",
       "2           03      3      2\n",
       "3           18      6      2\n",
       "4           18      6      2\n",
       "...        ...    ...    ...\n",
       "5860400      0      0      2\n",
       "5860401     18      0      2\n",
       "5860402     18      4      2\n",
       "5860403     18      0      1\n",
       "5860404     18      0      1\n",
       "\n",
       "[5860405 rows x 3 columns]"
      ]
     },
     "execution_count": 48,
     "metadata": {},
     "output_type": "execute_result"
    }
   ],
   "source": [
    "carcoches = pd_datos[['C_TRAF', 'C_RALN', 'C_SEV']].copy()\n",
    "carcoches"
   ]
  },
  {
   "cell_type": "markdown",
   "id": "0b0741cc",
   "metadata": {},
   "source": [
    "### Regresión lineal"
   ]
  },
  {
   "cell_type": "code",
   "execution_count": 49,
   "id": "7880ad4a",
   "metadata": {},
   "outputs": [
    {
     "name": "stdout",
     "output_type": "stream",
     "text": [
      "2.000547684710265 [-0.00082018 -0.0068647 ]\n",
      "2.000547684710265 [-0.00082018 -0.0068647 ]\n"
     ]
    }
   ],
   "source": [
    "regresion = linear_model.LinearRegression()\n",
    "\n",
    "rl = regresion.fit(carcoches[['C_TRAF', 'C_RALN']], \n",
    "         carcoches['C_SEV'])\n",
    "print(rl.intercept_, rl.coef_)\n",
    "\n",
    "\n",
    "\n",
    "model_rl = regresion.fit(pd_datos[['C_TRAF', 'C_RALN']], \n",
    "         pd_datos['C_SEV'])\n",
    "print(rl.intercept_, rl.coef_)"
   ]
  },
  {
   "cell_type": "code",
   "execution_count": 50,
   "id": "4537a984",
   "metadata": {},
   "outputs": [
    {
     "data": {
      "text/plain": [
       "array([1.61720074])"
      ]
     },
     "execution_count": 50,
     "metadata": {},
     "output_type": "execute_result"
    }
   ],
   "source": [
    "y_test_prediction = rl.predict(pd.DataFrame({'C_TRAF':[300], 'C_RALN':[20]}))\n",
    "y_test_prediction"
   ]
  },
  {
   "cell_type": "markdown",
   "id": "0778db31",
   "metadata": {},
   "source": [
    "### Regresión Sigmoide"
   ]
  },
  {
   "cell_type": "code",
   "execution_count": 51,
   "id": "40fc3415",
   "metadata": {},
   "outputs": [
    {
     "data": {
      "image/png": "[encoded data removed]",
      "text/plain": [
       "<Figure size 432x288 with 1 Axes>"
      ]
     },
     "metadata": {
      "needs_background": "light"
     },
     "output_type": "display_data"
    }
   ],
   "source": [
    "x = np.arange(-10,10,0.1)\n",
    "y = 1/(1+np.exp(-x))\n",
    "plt.title(\"Función sigmoide\")\n",
    "plt.plot(x,y)\n",
    "plt.grid(True)\n",
    "plt.show()"
   ]
  },
  {
   "cell_type": "code",
   "execution_count": 53,
   "id": "257075aa",
   "metadata": {},
   "outputs": [],
   "source": [
    "# Separamos en train y test\n",
    "from sklearn.preprocessing import LabelEncoder\n",
    "X = pd_datos.drop('C_SEV', axis = 1)\n",
    "Y = pd_datos.C_SEV\n",
    "\n",
    "Y = LabelEncoder().fit_transform(Y)\n",
    "\n",
    "x_train, x_test, y_train, y_test = train_test_split(X, Y, test_size=0.30, random_state=0)"
   ]
  },
  {
   "cell_type": "code",
   "execution_count": 54,
   "id": "afbb4d36",
   "metadata": {},
   "outputs": [
    {
     "data": {
      "text/plain": [
       "DummyClassifier(strategy='most_frequent')"
      ]
     },
     "execution_count": 54,
     "metadata": {},
     "output_type": "execute_result"
    }
   ],
   "source": [
    "#modelo que se basa en predecir en base a la moda\n",
    "from sklearn.dummy import DummyClassifier\n",
    "base_moda = DummyClassifier(strategy = 'most_frequent')\n",
    "\n",
    "#Entrenamiento del modelo \n",
    "base_moda.fit(x_train, y_train)"
   ]
  },
  {
   "cell_type": "code",
   "execution_count": 55,
   "id": "1dc379c3",
   "metadata": {},
   "outputs": [],
   "source": [
    "#Función de la matriz de confusion:\n",
    "def conf_matrix(y_test, y_pred): # va a comparar los resultados de las predicciones de la variable target vs la real del testset\n",
    "    cnf_matrix_tra = confusion_matrix(y_test, y_pred)\n",
    "    conf_plot = sns.heatmap(cnf_matrix_tra, annot=True, cmap='Blues', fmt='g')\n",
    "    bottom, top = conf_plot.get_ylim()\n",
    "    conf_plot.set_ylim(bottom + 0.5, top - 0.5)\n",
    "    conf_plot.set_title(\"Matriz de confusión no normalizada\")\n",
    "    conf_plot.set_ylabel('True Label')\n",
    "    conf_plot.set_xlabel('Predicted Label');"
   ]
  },
  {
   "cell_type": "code",
   "execution_count": 56,
   "id": "bdd1dadf",
   "metadata": {},
   "outputs": [
    {
     "name": "stderr",
     "output_type": "stream",
     "text": [
      "/Users/patriciamanueco/opt/anaconda3/lib/python3.9/site-packages/sklearn/metrics/_classification.py:1248: UndefinedMetricWarning: Precision and F-score are ill-defined and being set to 0.0 in labels with no predicted samples. Use `zero_division` parameter to control this behavior.\n",
      "  _warn_prf(average, modifier, msg_start, len(result))\n",
      "/Users/patriciamanueco/opt/anaconda3/lib/python3.9/site-packages/sklearn/metrics/_classification.py:1248: UndefinedMetricWarning: Precision and F-score are ill-defined and being set to 0.0 in labels with no predicted samples. Use `zero_division` parameter to control this behavior.\n",
      "  _warn_prf(average, modifier, msg_start, len(result))\n"
     ]
    },
    {
     "name": "stdout",
     "output_type": "stream",
     "text": [
      "              precision    recall  f1-score   support\n",
      "\n",
      "           0       0.00      0.00      0.00     29655\n",
      "           1       0.98      1.00      0.99   1728467\n",
      "\n",
      "    accuracy                           0.98   1758122\n",
      "   macro avg       0.49      0.50      0.50   1758122\n",
      "weighted avg       0.97      0.98      0.97   1758122\n",
      "\n"
     ]
    },
    {
     "name": "stderr",
     "output_type": "stream",
     "text": [
      "/Users/patriciamanueco/opt/anaconda3/lib/python3.9/site-packages/sklearn/metrics/_classification.py:1248: UndefinedMetricWarning: Precision and F-score are ill-defined and being set to 0.0 in labels with no predicted samples. Use `zero_division` parameter to control this behavior.\n",
      "  _warn_prf(average, modifier, msg_start, len(result))\n"
     ]
    },
    {
     "data": {
      "image/png": "[encoded data removed]",
      "text/plain": [
       "<Figure size 432x288 with 2 Axes>"
      ]
     },
     "metadata": {
      "needs_background": "light"
     },
     "output_type": "display_data"
    }
   ],
   "source": [
    "from sklearn.metrics import confusion_matrix\n",
    "from sklearn.metrics import classification_report\n",
    "base_pred = base_moda.predict(x_test)\n",
    "conf_matrix(y_test, base_pred)\n",
    "print(classification_report(y_test, base_pred))"
   ]
  },
  {
   "cell_type": "code",
   "execution_count": 57,
   "id": "30419588",
   "metadata": {},
   "outputs": [
    {
     "data": {
      "text/plain": [
       "0.9831325698671651"
      ]
     },
     "execution_count": 57,
     "metadata": {},
     "output_type": "execute_result"
    }
   ],
   "source": [
    "preci = base_moda.score(x_test, y_test)\n",
    "preci "
   ]
  },
  {
   "cell_type": "code",
   "execution_count": 58,
   "id": "5637ad0e",
   "metadata": {},
   "outputs": [],
   "source": [
    "from sklearn.metrics import precision_recall_curve,plot_roc_curve"
   ]
  },
  {
   "cell_type": "code",
   "execution_count": 59,
   "id": "03ccc103",
   "metadata": {},
   "outputs": [
    {
     "data": {
      "image/png": "[encoded data removed]",
      "text/plain": [
       "<Figure size 432x288 with 1 Axes>"
      ]
     },
     "metadata": {
      "needs_background": "light"
     },
     "output_type": "display_data"
    }
   ],
   "source": [
    "fig, ax = plt.subplots()\n",
    "plot_roc_curve(base_moda,x_test,y_test,ax=ax);"
   ]
  },
  {
   "cell_type": "markdown",
   "id": "2909005b",
   "metadata": {},
   "source": [
    "### Evaluación de modelos"
   ]
  },
  {
   "cell_type": "code",
   "execution_count": 60,
   "id": "e470298f",
   "metadata": {},
   "outputs": [
    {
     "ename": "AttributeError",
     "evalue": "'DummyClassifier' object has no attribute 'CatBoostEncoder'",
     "output_type": "error",
     "traceback": [
      "\u001b[0;31m---------------------------------------------------------------------------\u001b[0m",
      "\u001b[0;31mAttributeError\u001b[0m                            Traceback (most recent call last)",
      "\u001b[0;32m/var/folders/g4/88ypl3013gddng34gvh2mxym0000gn/T/ipykernel_78504/2747911549.py\u001b[0m in \u001b[0;36m<module>\u001b[0;34m\u001b[0m\n\u001b[1;32m     15\u001b[0m categorical_transformer_target = Pipeline(steps=[\n\u001b[1;32m     16\u001b[0m     \u001b[0;31m#('imputer', SimpleImputer(strategy='constant', fill_value='missing')),\u001b[0m\u001b[0;34m\u001b[0m\u001b[0;34m\u001b[0m\u001b[0m\n\u001b[0;32m---> 17\u001b[0;31m     ('encoder', base_moda.CatBoostEncoder())])\n\u001b[0m",
      "\u001b[0;31mAttributeError\u001b[0m: 'DummyClassifier' object has no attribute 'CatBoostEncoder'"
     ]
    }
   ],
   "source": [
    "from sklearn.impute import SimpleImputer\n",
    "from sklearn.compose import ColumnTransformer\n",
    "from sklearn.pipeline import Pipeline\n",
    "from sklearn.preprocessing import OneHotEncoder\n",
    "import category_encoders as ce\n",
    "numeric_transformer = Pipeline(steps=[\n",
    "    ('imputer', SimpleImputer(strategy='median')),\n",
    "    ('scaler', StandardScaler())])\n",
    "\n",
    "\n",
    "categorical_transformer_one_hot = Pipeline(steps=[\n",
    "    ('imputer', SimpleImputer(strategy='constant', fill_value='missing')),\n",
    "    ('encoder', OneHotEncoder(handle_unknown='ignore'))])\n",
    "\n",
    "categorical_transformer_target = Pipeline(steps=[\n",
    "    #('imputer', SimpleImputer(strategy='constant', fill_value='missing')),\n",
    "    ('encoder', base_moda.CatBoostEncoder())])"
   ]
  },
  {
   "cell_type": "code",
   "execution_count": 61,
   "id": "de5baaeb",
   "metadata": {},
   "outputs": [
    {
     "data": {
      "text/plain": [
       "<sklearn.metrics._plot.confusion_matrix.ConfusionMatrixDisplay at 0x7feb787c4e20>"
      ]
     },
     "execution_count": 61,
     "metadata": {},
     "output_type": "execute_result"
    },
    {
     "data": {
      "image/png": "[encoded data removed]",
      "text/plain": [
       "<Figure size 432x288 with 2 Axes>"
      ]
     },
     "metadata": {
      "needs_background": "light"
     },
     "output_type": "display_data"
    }
   ],
   "source": [
    "from sklearn.metrics import plot_confusion_matrix\n",
    "plot_confusion_matrix(base_moda, x_test, y_test,\n",
    "                                 cmap=plt.cm.Blues,\n",
    "                                 normalize=None)"
   ]
  },
  {
   "cell_type": "code",
   "execution_count": 62,
   "id": "3bc76a0d",
   "metadata": {},
   "outputs": [
    {
     "data": {
      "text/plain": [
       "<sklearn.metrics._plot.confusion_matrix.ConfusionMatrixDisplay at 0x7feb7e6ca730>"
      ]
     },
     "execution_count": 62,
     "metadata": {},
     "output_type": "execute_result"
    },
    {
     "data": {
      "image/png": "[encoded data removed]",
      "text/plain": [
       "<Figure size 432x288 with 2 Axes>"
      ]
     },
     "metadata": {
      "needs_background": "light"
     },
     "output_type": "display_data"
    }
   ],
   "source": [
    "#NORMALIZADA\n",
    "plot_confusion_matrix(base_moda, x_test, y_test,\n",
    "                                 cmap=plt.cm.Blues,\n",
    "                                 normalize='true')"
   ]
  },
  {
   "cell_type": "code",
   "execution_count": 86,
   "id": "029a6f7f",
   "metadata": {},
   "outputs": [
    {
     "ename": "NameError",
     "evalue": "name 'prob_predictions' is not defined",
     "output_type": "error",
     "traceback": [
      "\u001b[0;31m---------------------------------------------------------------------------\u001b[0m",
      "\u001b[0;31mNameError\u001b[0m                                 Traceback (most recent call last)",
      "\u001b[0;32m/var/folders/g4/88ypl3013gddng34gvh2mxym0000gn/T/ipykernel_78504/1576937057.py\u001b[0m in \u001b[0;36m<module>\u001b[0;34m\u001b[0m\n\u001b[1;32m      1\u001b[0m \u001b[0;31m# keep probabilities for the positive outcome only\u001b[0m\u001b[0;34m\u001b[0m\u001b[0;34m\u001b[0m\u001b[0m\n\u001b[0;32m----> 2\u001b[0;31m \u001b[0myhat\u001b[0m \u001b[0;34m=\u001b[0m \u001b[0mprob_predictions\u001b[0m\u001b[0;34m[\u001b[0m\u001b[0;34m:\u001b[0m\u001b[0;34m,\u001b[0m \u001b[0;36m1\u001b[0m\u001b[0;34m]\u001b[0m\u001b[0;34m\u001b[0m\u001b[0;34m\u001b[0m\u001b[0m\n\u001b[0m\u001b[1;32m      3\u001b[0m \u001b[0;31m# calculate roc curves\u001b[0m\u001b[0;34m\u001b[0m\u001b[0;34m\u001b[0m\u001b[0m\n\u001b[1;32m      4\u001b[0m \u001b[0mfpr\u001b[0m\u001b[0;34m,\u001b[0m \u001b[0mtpr\u001b[0m\u001b[0;34m,\u001b[0m \u001b[0mthresholds\u001b[0m \u001b[0;34m=\u001b[0m \u001b[0mroc_curve\u001b[0m\u001b[0;34m(\u001b[0m\u001b[0my_test\u001b[0m\u001b[0;34m,\u001b[0m \u001b[0myhat\u001b[0m\u001b[0;34m)\u001b[0m\u001b[0;34m\u001b[0m\u001b[0;34m\u001b[0m\u001b[0m\n\u001b[1;32m      5\u001b[0m \u001b[0;31m# calculate the g-mean for each threshold\u001b[0m\u001b[0;34m\u001b[0m\u001b[0;34m\u001b[0m\u001b[0m\n",
      "\u001b[0;31mNameError\u001b[0m: name 'prob_predictions' is not defined"
     ]
    }
   ],
   "source": [
    "# keep probabilities for the positive outcome only\n",
    "yhat = prob_predictions[:, 1]\n",
    "# calculate roc curves\n",
    "fpr, tpr, thresholds = roc_curve(y_test, yhat)\n",
    "# calculate the g-mean for each threshold\n",
    "gmeans = np.sqrt(tpr * (1-fpr))\n",
    "\n",
    "# locate the index of the largest g-mean\n",
    "ix = np.argmax(gmeans)\n",
    "print('Best Threshold=%f, G-Mean=%.3f' % (thresholds[ix], gmeans[ix]))\n",
    "\n",
    "\n",
    "# plot the roc curve for the model\n",
    "plt.plot([0,1], [0,1], linestyle='--', label='No Skill')\n",
    "plt.plot(fpr, tpr, marker='.', label='Random Forest')\n",
    "plt.scatter(fpr[ix], tpr[ix], s=100, marker='o', color='black', label='Best')\n",
    "# axis labels\n",
    "plt.xlabel('False Positive Rate')\n",
    "plt.ylabel('True Positive Rate')\n",
    "plt.legend()\n",
    "# show the plot\n",
    "plt.show()"
   ]
  },
  {
   "cell_type": "markdown",
   "id": "6c8145ec",
   "metadata": {},
   "source": [
    "### balanceo"
   ]
  },
  {
   "cell_type": "markdown",
   "id": "bb4c3ff3",
   "metadata": {},
   "source": [
    "En el preprocesamiento de las variables objetivo del ejercicio anterior apreciamos un fuerte desequilibrio en C_SEV , habiendo un 98% de accidentes no mortales frente a un 2% de accidentes mortales. Es por esto que vamos a llevar a cabo un balanceo de las variables."
   ]
  },
  {
   "cell_type": "code",
   "execution_count": null,
   "id": "e1f2676d",
   "metadata": {},
   "outputs": [],
   "source": []
  },
  {
   "cell_type": "markdown",
   "id": "e7294775",
   "metadata": {},
   "source": [
    "## Pregunta 5: Libertad para generar análisis de valor y nuevas ideas. Se debe atacar mínimo un modelo (estimar si habrá fallecidos o no). Hecho esto, se puede plantear de forma opcional otros alcances (libertad para plantear opciones). "
   ]
  },
  {
   "cell_type": "markdown",
   "id": "1b85753c",
   "metadata": {},
   "source": [
    "Estas dos preguntas las abordaremos en la pregunta 3"
   ]
  },
  {
   "cell_type": "markdown",
   "id": "a72b8f07",
   "metadata": {},
   "source": [
    "## Pregunta extra: Plus: complementar con datos abiertos de clima (aunque Canadá es muy grande) y de otra tipología, ¿hay algún tipo de relación con temperaturas medias, precipitación media del día/mes, nieve...? ¿a más días festivos o de vacaciones, más accidentes? etc. "
   ]
  }
 ],
 "metadata": {
  "kernelspec": {
   "display_name": "Python 3 (ipykernel)",
   "language": "python",
   "name": "python3"
  },
  "language_info": {
   "codemirror_mode": {
    "name": "ipython",
    "version": 3
   },
   "file_extension": ".py",
   "mimetype": "text/x-python",
   "name": "python",
   "nbconvert_exporter": "python",
   "pygments_lexer": "ipython3",
   "version": "3.9.7"
  }
 },
 "nbformat": 4,
 "nbformat_minor": 5
}
