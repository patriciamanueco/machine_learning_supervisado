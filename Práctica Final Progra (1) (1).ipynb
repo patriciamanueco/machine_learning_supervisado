{
 "cells": [
  {
   "cell_type": "markdown",
   "id": "6b409476",
   "metadata": {},
   "source": [
    "# PRÁCTICA FINAL MODELOS SUPERVISADOS\n",
    "### Patricia Mañueco Cubillo y Adriana Castro Santodomingo\n",
    "\n",
    "\n",
    "En este notebook se planea realizar un análisis exploratorio del dataset NCDB_1999_to_2014, que refleja los accidentes de tráfico que tienen lugar en Canadá. Con este análisis se facilitará la interpretación de los datos y la elaboración de modelos que ayudarán con la estimación y prevención de futuros posibles accidentes.\n"
   ]
  },
  {
   "cell_type": "code",
   "execution_count": 1,
   "id": "6202cab6",
   "metadata": {},
   "outputs": [
    {
     "ename": "ModuleNotFoundError",
     "evalue": "No module named 'plotly'",
     "output_type": "error",
     "traceback": [
      "\u001b[0;31m---------------------------------------------------------------------------\u001b[0m",
      "\u001b[0;31mModuleNotFoundError\u001b[0m                       Traceback (most recent call last)",
      "\u001b[0;32m<ipython-input-1-a106a3be285c>\u001b[0m in \u001b[0;36m<module>\u001b[0;34m\u001b[0m\n\u001b[1;32m      3\u001b[0m \u001b[0;32mimport\u001b[0m \u001b[0mseaborn\u001b[0m \u001b[0;32mas\u001b[0m \u001b[0msns\u001b[0m\u001b[0;34m\u001b[0m\u001b[0;34m\u001b[0m\u001b[0m\n\u001b[1;32m      4\u001b[0m \u001b[0;32mfrom\u001b[0m \u001b[0mmatplotlib\u001b[0m \u001b[0;32mimport\u001b[0m \u001b[0mpyplot\u001b[0m \u001b[0;32mas\u001b[0m \u001b[0mplt\u001b[0m\u001b[0;34m\u001b[0m\u001b[0;34m\u001b[0m\u001b[0m\n\u001b[0;32m----> 5\u001b[0;31m \u001b[0;32mimport\u001b[0m \u001b[0mplotly\u001b[0m\u001b[0;34m.\u001b[0m\u001b[0mexpress\u001b[0m \u001b[0;32mas\u001b[0m \u001b[0mpx\u001b[0m\u001b[0;34m\u001b[0m\u001b[0;34m\u001b[0m\u001b[0m\n\u001b[0m",
      "\u001b[0;31mModuleNotFoundError\u001b[0m: No module named 'plotly'"
     ]
    }
   ],
   "source": [
    "import pandas as pd\n",
    "import numpy as np\n",
    "import seaborn as sns\n",
    "from matplotlib import pyplot as plt\n",
    "import plotly.express as px"
   ]
  },
  {
   "cell_type": "markdown",
   "id": "b07f8031",
   "metadata": {},
   "source": [
    "Empezaremos importando las librerías que vamos a necesitar, junto a la base de datos con la que vamos a trabajar. Hacemos una vista previa de las primeras tres filas para comprobar que los datos se han importado correctamente."
   ]
  },
  {
   "cell_type": "code",
   "execution_count": 4,
   "id": "17a336c8",
   "metadata": {},
   "outputs": [
    {
     "name": "stderr",
     "output_type": "stream",
     "text": [
      "/Users/adri/opt/anaconda3/lib/python3.8/site-packages/IPython/core/interactiveshell.py:3165: DtypeWarning: Columns (1,2,5,12) have mixed types.Specify dtype option on import or set low_memory=False.\n",
      "  has_raised = await self.run_ast_nodes(code_ast.body, cell_name,\n"
     ]
    },
    {
     "data": {
      "text/html": [
       "<div>\n",
       "<style scoped>\n",
       "    .dataframe tbody tr th:only-of-type {\n",
       "        vertical-align: middle;\n",
       "    }\n",
       "\n",
       "    .dataframe tbody tr th {\n",
       "        vertical-align: top;\n",
       "    }\n",
       "\n",
       "    .dataframe thead th {\n",
       "        text-align: right;\n",
       "    }\n",
       "</style>\n",
       "<table border=\"1\" class=\"dataframe\">\n",
       "  <thead>\n",
       "    <tr style=\"text-align: right;\">\n",
       "      <th></th>\n",
       "      <th>C_YEAR</th>\n",
       "      <th>C_MNTH</th>\n",
       "      <th>C_WDAY</th>\n",
       "      <th>C_HOUR</th>\n",
       "      <th>C_SEV</th>\n",
       "      <th>C_VEHS</th>\n",
       "      <th>C_CONF</th>\n",
       "      <th>C_RCFG</th>\n",
       "      <th>C_WTHR</th>\n",
       "      <th>C_RSUR</th>\n",
       "      <th>...</th>\n",
       "      <th>V_ID</th>\n",
       "      <th>V_TYPE</th>\n",
       "      <th>V_YEAR</th>\n",
       "      <th>P_ID</th>\n",
       "      <th>P_SEX</th>\n",
       "      <th>P_AGE</th>\n",
       "      <th>P_PSN</th>\n",
       "      <th>P_ISEV</th>\n",
       "      <th>P_SAFE</th>\n",
       "      <th>P_USER</th>\n",
       "    </tr>\n",
       "  </thead>\n",
       "  <tbody>\n",
       "    <tr>\n",
       "      <th>0</th>\n",
       "      <td>1999</td>\n",
       "      <td>1</td>\n",
       "      <td>1</td>\n",
       "      <td>20</td>\n",
       "      <td>2</td>\n",
       "      <td>02</td>\n",
       "      <td>34</td>\n",
       "      <td>UU</td>\n",
       "      <td>1</td>\n",
       "      <td>5</td>\n",
       "      <td>...</td>\n",
       "      <td>01</td>\n",
       "      <td>06</td>\n",
       "      <td>1990</td>\n",
       "      <td>01</td>\n",
       "      <td>M</td>\n",
       "      <td>41</td>\n",
       "      <td>11</td>\n",
       "      <td>1</td>\n",
       "      <td>UU</td>\n",
       "      <td>1</td>\n",
       "    </tr>\n",
       "    <tr>\n",
       "      <th>1</th>\n",
       "      <td>1999</td>\n",
       "      <td>1</td>\n",
       "      <td>1</td>\n",
       "      <td>20</td>\n",
       "      <td>2</td>\n",
       "      <td>02</td>\n",
       "      <td>34</td>\n",
       "      <td>UU</td>\n",
       "      <td>1</td>\n",
       "      <td>5</td>\n",
       "      <td>...</td>\n",
       "      <td>02</td>\n",
       "      <td>01</td>\n",
       "      <td>1987</td>\n",
       "      <td>01</td>\n",
       "      <td>M</td>\n",
       "      <td>19</td>\n",
       "      <td>11</td>\n",
       "      <td>1</td>\n",
       "      <td>UU</td>\n",
       "      <td>1</td>\n",
       "    </tr>\n",
       "    <tr>\n",
       "      <th>2</th>\n",
       "      <td>1999</td>\n",
       "      <td>1</td>\n",
       "      <td>1</td>\n",
       "      <td>20</td>\n",
       "      <td>2</td>\n",
       "      <td>02</td>\n",
       "      <td>34</td>\n",
       "      <td>UU</td>\n",
       "      <td>1</td>\n",
       "      <td>5</td>\n",
       "      <td>...</td>\n",
       "      <td>02</td>\n",
       "      <td>01</td>\n",
       "      <td>1987</td>\n",
       "      <td>02</td>\n",
       "      <td>F</td>\n",
       "      <td>20</td>\n",
       "      <td>13</td>\n",
       "      <td>2</td>\n",
       "      <td>02</td>\n",
       "      <td>2</td>\n",
       "    </tr>\n",
       "  </tbody>\n",
       "</table>\n",
       "<p>3 rows × 22 columns</p>\n",
       "</div>"
      ],
      "text/plain": [
       "   C_YEAR C_MNTH C_WDAY C_HOUR  C_SEV C_VEHS C_CONF C_RCFG C_WTHR C_RSUR  ...  \\\n",
       "0    1999      1      1     20      2     02     34     UU      1      5  ...   \n",
       "1    1999      1      1     20      2     02     34     UU      1      5  ...   \n",
       "2    1999      1      1     20      2     02     34     UU      1      5  ...   \n",
       "\n",
       "  V_ID V_TYPE V_YEAR P_ID P_SEX P_AGE P_PSN P_ISEV P_SAFE P_USER  \n",
       "0   01     06   1990   01     M    41    11      1     UU      1  \n",
       "1   02     01   1987   01     M    19    11      1     UU      1  \n",
       "2   02     01   1987   02     F    20    13      2     02      2  \n",
       "\n",
       "[3 rows x 22 columns]"
      ]
     },
     "execution_count": 4,
     "metadata": {},
     "output_type": "execute_result"
    }
   ],
   "source": [
    "pd_datos = pd.read_csv('~/Documents/BU/Master/2/NCDB_1999_to_2014.csv')\n",
    "pd_datos.columns = pd_datos.columns.str.replace (' ','_')\n",
    "pd_datos.head (3)"
   ]
  },
  {
   "cell_type": "markdown",
   "id": "662ea6a5",
   "metadata": {},
   "source": [
    "Podemos observar como las tres primeras filas se repiten la fecha y la hora, significando que ese fue un mismo accidente. Analizando los datos, podemos tener una mejor idea de lo que sucedio y quienes fueron los implicados. "
   ]
  },
  {
   "cell_type": "code",
   "execution_count": 8,
   "id": "7da963a6",
   "metadata": {},
   "outputs": [
    {
     "data": {
      "text/html": [
       "<div>\n",
       "<style scoped>\n",
       "    .dataframe tbody tr th:only-of-type {\n",
       "        vertical-align: middle;\n",
       "    }\n",
       "\n",
       "    .dataframe tbody tr th {\n",
       "        vertical-align: top;\n",
       "    }\n",
       "\n",
       "    .dataframe thead th {\n",
       "        text-align: right;\n",
       "    }\n",
       "</style>\n",
       "<table border=\"1\" class=\"dataframe\">\n",
       "  <thead>\n",
       "    <tr style=\"text-align: right;\">\n",
       "      <th></th>\n",
       "      <th>C_YEAR</th>\n",
       "      <th>C_MNTH</th>\n",
       "      <th>C_WDAY</th>\n",
       "      <th>C_HOUR</th>\n",
       "      <th>C_SEV</th>\n",
       "      <th>C_VEHS</th>\n",
       "      <th>C_CONF</th>\n",
       "      <th>C_RCFG</th>\n",
       "      <th>C_WTHR</th>\n",
       "      <th>C_RSUR</th>\n",
       "      <th>C_RALN</th>\n",
       "      <th>C_TRAF</th>\n",
       "    </tr>\n",
       "  </thead>\n",
       "  <tbody>\n",
       "    <tr>\n",
       "      <th>0</th>\n",
       "      <td>1999</td>\n",
       "      <td>1</td>\n",
       "      <td>1</td>\n",
       "      <td>20</td>\n",
       "      <td>2</td>\n",
       "      <td>02</td>\n",
       "      <td>34</td>\n",
       "      <td>UU</td>\n",
       "      <td>1</td>\n",
       "      <td>5</td>\n",
       "      <td>3</td>\n",
       "      <td>03</td>\n",
       "    </tr>\n",
       "    <tr>\n",
       "      <th>1</th>\n",
       "      <td>1999</td>\n",
       "      <td>1</td>\n",
       "      <td>1</td>\n",
       "      <td>20</td>\n",
       "      <td>2</td>\n",
       "      <td>02</td>\n",
       "      <td>34</td>\n",
       "      <td>UU</td>\n",
       "      <td>1</td>\n",
       "      <td>5</td>\n",
       "      <td>3</td>\n",
       "      <td>03</td>\n",
       "    </tr>\n",
       "    <tr>\n",
       "      <th>2</th>\n",
       "      <td>1999</td>\n",
       "      <td>1</td>\n",
       "      <td>1</td>\n",
       "      <td>20</td>\n",
       "      <td>2</td>\n",
       "      <td>02</td>\n",
       "      <td>34</td>\n",
       "      <td>UU</td>\n",
       "      <td>1</td>\n",
       "      <td>5</td>\n",
       "      <td>3</td>\n",
       "      <td>03</td>\n",
       "    </tr>\n",
       "  </tbody>\n",
       "</table>\n",
       "</div>"
      ],
      "text/plain": [
       "   C_YEAR C_MNTH C_WDAY C_HOUR  C_SEV C_VEHS C_CONF C_RCFG C_WTHR C_RSUR  \\\n",
       "0    1999      1      1     20      2     02     34     UU      1      5   \n",
       "1    1999      1      1     20      2     02     34     UU      1      5   \n",
       "2    1999      1      1     20      2     02     34     UU      1      5   \n",
       "\n",
       "  C_RALN C_TRAF  \n",
       "0      3     03  \n",
       "1      3     03  \n",
       "2      3     03  "
      ]
     },
     "execution_count": 8,
     "metadata": {},
     "output_type": "execute_result"
    }
   ],
   "source": [
    "# datos fechas accidente\n",
    "columnas_accidente = ['C_YEAR', 'C_MNTH', 'C_WDAY', \n",
    "               'C_HOUR', 'C_SEV', 'C_VEHS', \n",
    "               'C_CONF', 'C_RCFG', 'C_WTHR', \n",
    "               'C_RSUR', 'C_RALN', 'C_TRAF']\n",
    "pd_datos[columnas_accidente].head(3)"
   ]
  },
  {
   "cell_type": "markdown",
   "id": "f8d142bb",
   "metadata": {},
   "source": [
    "Como ejemplo, podemos ver en la tabla superior el primer accidente del año 1999, con los datos siendo los siguientes: \n",
    "- **C_YEAR**: sucedió en 1999\n",
    "- **C_MNTH**: sucedió en Enero\n",
    "- **C_WDAY**: sucedió el dia 1 del mes\n",
    "- **C_HOUR**: tuvo lugar entre las 20:00 y las 20:59 horas\n",
    "- **C_SEV**: la colisión provocó lesiones no fatales\n",
    "- **C_VEHS**: hubo 2 vehículos implicados\n",
    "- **C_CONF**: se trata de dos vehículos en movimiento con diferente dirección de viaje: un giro a la derecha, incluidos los conflictos de giro\n",
    "- **C_RCFG**: no se sabe la configuración de la calzada\n",
    "- **C_WTHR**: el tiempo estaba despejado y soleado\n",
    "- **C_RSUR**: la superficie de la carretera estaba helada\n",
    "- **C_RALN**: la alineación de la carretera era curva y nivelada\n",
    "- **C_TRAF**: el control de tráfico consistía en una señal de stop"
   ]
  },
  {
   "cell_type": "code",
   "execution_count": 9,
   "id": "abf05e24",
   "metadata": {},
   "outputs": [
    {
     "data": {
      "text/html": [
       "<div>\n",
       "<style scoped>\n",
       "    .dataframe tbody tr th:only-of-type {\n",
       "        vertical-align: middle;\n",
       "    }\n",
       "\n",
       "    .dataframe tbody tr th {\n",
       "        vertical-align: top;\n",
       "    }\n",
       "\n",
       "    .dataframe thead th {\n",
       "        text-align: right;\n",
       "    }\n",
       "</style>\n",
       "<table border=\"1\" class=\"dataframe\">\n",
       "  <thead>\n",
       "    <tr style=\"text-align: right;\">\n",
       "      <th></th>\n",
       "      <th>V_ID</th>\n",
       "      <th>V_TYPE</th>\n",
       "      <th>V_YEAR</th>\n",
       "    </tr>\n",
       "  </thead>\n",
       "  <tbody>\n",
       "    <tr>\n",
       "      <th>0</th>\n",
       "      <td>01</td>\n",
       "      <td>06</td>\n",
       "      <td>1990</td>\n",
       "    </tr>\n",
       "    <tr>\n",
       "      <th>1</th>\n",
       "      <td>02</td>\n",
       "      <td>01</td>\n",
       "      <td>1987</td>\n",
       "    </tr>\n",
       "    <tr>\n",
       "      <th>2</th>\n",
       "      <td>02</td>\n",
       "      <td>01</td>\n",
       "      <td>1987</td>\n",
       "    </tr>\n",
       "  </tbody>\n",
       "</table>\n",
       "</div>"
      ],
      "text/plain": [
       "  V_ID V_TYPE V_YEAR\n",
       "0   01     06   1990\n",
       "1   02     01   1987\n",
       "2   02     01   1987"
      ]
     },
     "execution_count": 9,
     "metadata": {},
     "output_type": "execute_result"
    }
   ],
   "source": [
    "tipo_coche = pd_datos[['V_ID', 'V_TYPE', 'V_YEAR']]\n",
    "tipo_coche.head (3)"
   ]
  },
  {
   "cell_type": "markdown",
   "id": "bff58b94",
   "metadata": {},
   "source": [
    "Como podemos ver en la tabla de arriba, hubo tres personas implicadas en el accidente, y dos vehículos. En el primero iba una persona, el conductor, y se trata de un tipo de camión (**V_TYPE 06**) que fue fabricado el 1990. En el segundo iban dos personas, y se trata de un vehículo ligero (**V_TYPE 01**) fabricado el 1987."
   ]
  },
  {
   "cell_type": "code",
   "execution_count": 10,
   "id": "bb82d0ed",
   "metadata": {},
   "outputs": [
    {
     "data": {
      "text/html": [
       "<div>\n",
       "<style scoped>\n",
       "    .dataframe tbody tr th:only-of-type {\n",
       "        vertical-align: middle;\n",
       "    }\n",
       "\n",
       "    .dataframe tbody tr th {\n",
       "        vertical-align: top;\n",
       "    }\n",
       "\n",
       "    .dataframe thead th {\n",
       "        text-align: right;\n",
       "    }\n",
       "</style>\n",
       "<table border=\"1\" class=\"dataframe\">\n",
       "  <thead>\n",
       "    <tr style=\"text-align: right;\">\n",
       "      <th></th>\n",
       "      <th>P_ID</th>\n",
       "      <th>P_SEX</th>\n",
       "      <th>P_AGE</th>\n",
       "      <th>P_PSN</th>\n",
       "      <th>P_ISEV</th>\n",
       "      <th>P_SAFE</th>\n",
       "      <th>P_USER</th>\n",
       "    </tr>\n",
       "  </thead>\n",
       "  <tbody>\n",
       "    <tr>\n",
       "      <th>0</th>\n",
       "      <td>01</td>\n",
       "      <td>M</td>\n",
       "      <td>41</td>\n",
       "      <td>11</td>\n",
       "      <td>1</td>\n",
       "      <td>UU</td>\n",
       "      <td>1</td>\n",
       "    </tr>\n",
       "    <tr>\n",
       "      <th>1</th>\n",
       "      <td>01</td>\n",
       "      <td>M</td>\n",
       "      <td>19</td>\n",
       "      <td>11</td>\n",
       "      <td>1</td>\n",
       "      <td>UU</td>\n",
       "      <td>1</td>\n",
       "    </tr>\n",
       "    <tr>\n",
       "      <th>2</th>\n",
       "      <td>02</td>\n",
       "      <td>F</td>\n",
       "      <td>20</td>\n",
       "      <td>13</td>\n",
       "      <td>2</td>\n",
       "      <td>02</td>\n",
       "      <td>2</td>\n",
       "    </tr>\n",
       "  </tbody>\n",
       "</table>\n",
       "</div>"
      ],
      "text/plain": [
       "  P_ID P_SEX P_AGE P_PSN P_ISEV P_SAFE P_USER\n",
       "0   01     M    41    11      1     UU      1\n",
       "1   01     M    19    11      1     UU      1\n",
       "2   02     F    20    13      2     02      2"
      ]
     },
     "execution_count": 10,
     "metadata": {},
     "output_type": "execute_result"
    }
   ],
   "source": [
    "tipo_pers = pd_datos[['P_ID', 'P_SEX', 'P_AGE', \n",
    "               'P_PSN', 'P_ISEV', 'P_SAFE',\n",
    "               'P_USER']]\n",
    "tipo_pers.head (3)"
   ]
  },
  {
   "cell_type": "markdown",
   "id": "a5fd207c",
   "metadata": {},
   "source": [
    "En esta tabla tenemos más información acerca de las personas que iban en cada vehículo.\n",
    "- En el primer vehículo, un tipo de camión fabricado en 1990, viajaba solo una persona (**P_ID 01**) que tenía 41 años (**P_AGE 41**), hombre (**P_SEX M**) y era el conductor del vehículo (**P_USER 1**) y que estaba en la posición del conductor (**P_PSN 11**). No sufrío ningun tipo de daño en el accidente (**P_ISEV 1**) y se desconoce si llevaba o utilizaba algún dispositivo de seguridad (**P_SAFE = UU**).\n",
    "- En el segundo vehículo, un vehículo ligero fabricado en 1987, viajaban dos personas. Un hombre (**P_SEX M**) de 19 años (**P_AGE 19**), que conducía el vehículo (**P_USER 1**) en la posición del conductor (**P_PSN 11**), y que salió sin daño del accidente (**P_ISEV 1**). La otra persona era una mujer (**P_SEX F**) de 20 años (**P_AGE 20**) que iba de pasajera en el asiento delantero derecho (**P_PSN = 13**). Salió herida (**P_ISEV 2**) del accidente, y sí utilizo un dispositivo de seguridad (**P_SAFE 02**)."
   ]
  },
  {
   "cell_type": "code",
   "execution_count": 11,
   "id": "f2b24017",
   "metadata": {},
   "outputs": [
    {
     "data": {
      "text/plain": [
       "{'C_YEAR': dtype('int64'),\n",
       " 'C_MNTH': dtype('O'),\n",
       " 'C_WDAY': dtype('O'),\n",
       " 'C_HOUR': dtype('O'),\n",
       " 'C_SEV': dtype('int64'),\n",
       " 'C_VEHS': dtype('O'),\n",
       " 'C_CONF': dtype('O'),\n",
       " 'C_RCFG': dtype('O'),\n",
       " 'C_WTHR': dtype('O'),\n",
       " 'C_RSUR': dtype('O'),\n",
       " 'C_RALN': dtype('O'),\n",
       " 'C_TRAF': dtype('O'),\n",
       " 'V_ID': dtype('O'),\n",
       " 'V_TYPE': dtype('O'),\n",
       " 'V_YEAR': dtype('O'),\n",
       " 'P_ID': dtype('O'),\n",
       " 'P_SEX': dtype('O'),\n",
       " 'P_AGE': dtype('O'),\n",
       " 'P_PSN': dtype('O'),\n",
       " 'P_ISEV': dtype('O'),\n",
       " 'P_SAFE': dtype('O'),\n",
       " 'P_USER': dtype('O')}"
      ]
     },
     "execution_count": 11,
     "metadata": {},
     "output_type": "execute_result"
    }
   ],
   "source": [
    "# Tipos de datos\n",
    "pd_datos.dtypes.to_dict()\n",
    "# dtype ('o') stands for object, string or text\n",
    "# float64; Python is storing each value within this column as a 64 bit integer"
   ]
  },
  {
   "cell_type": "code",
   "execution_count": 12,
   "id": "c2d35cb3",
   "metadata": {},
   "outputs": [
    {
     "name": "stdout",
     "output_type": "stream",
     "text": [
      "(5860405, 22)\n"
     ]
    }
   ],
   "source": [
    "# Dimensión dataset\n",
    "print(pd_datos.shape)"
   ]
  },
  {
   "cell_type": "markdown",
   "id": "6fe36f5d",
   "metadata": {},
   "source": [
    "Para un primer análisis de nuestro dataset utilizaremos **P_PSN 11**, es decir los conductores de los vehículos implicados para estudiar el número de accidentes sucedidos desde 1999 a 2014. No nos fijaremos en que se repitan filas a consecuencia del número de individuos implicados hasta más adelante que eliminaremos las tuplas repetidas, dándonos realmente el número de accidentes real."
   ]
  },
  {
   "cell_type": "code",
   "execution_count": 13,
   "id": "172231ab",
   "metadata": {},
   "outputs": [
    {
     "data": {
      "text/plain": [
       "(3926086, 22)"
      ]
     },
     "execution_count": 13,
     "metadata": {},
     "output_type": "execute_result"
    }
   ],
   "source": [
    "pd_accidentes = pd_datos[(pd_datos['P_PSN']==\"11\")]\n",
    "pd_accidentes.shape"
   ]
  },
  {
   "cell_type": "markdown",
   "id": "c2edd107",
   "metadata": {},
   "source": [
    "# Preguntas 1 y 2"
   ]
  },
  {
   "cell_type": "markdown",
   "id": "e438e76e",
   "metadata": {},
   "source": [
    "1. ¿Qué tipos de vehículos (modelos, antigüedad, etc.) y conductores son más propensos a tener accidentes (acción correctiva en prima)?\n",
    "\n",
    "2. ¿Qué tipos de vehículos (modelos, antigüedad, etc.) y conductores son menos propensos a tener accidentes (descuento en prima)?"
   ]
  },
  {
   "cell_type": "code",
   "execution_count": 14,
   "id": "356eefe5",
   "metadata": {},
   "outputs": [],
   "source": [
    "#tabla de contingenia relativa total centrándonos en vehiculo(años)\n",
    "conting_table = pd.crosstab(index=pd_accidentes['V_TYPE'], columns=pd_accidentes['V_YEAR'],\n",
    "            margins=True).apply(lambda r: r/len(pd_accidentes) *100,\n",
    "                                axis=1)"
   ]
  },
  {
   "cell_type": "markdown",
   "id": "f8004dfe",
   "metadata": {},
   "source": [
    "Para la siguiente tabla no hemos empleado los datos sin las filas repetidas ya que tan solo vamos a tener en cuenta el valor máximo y mínimo de cada variable, por lo que los valores repetidos son indiferentes"
   ]
  },
  {
   "cell_type": "code",
   "execution_count": 15,
   "id": "4e4e601f",
   "metadata": {},
   "outputs": [
    {
     "data": {
      "text/html": [
       "<div>\n",
       "<style scoped>\n",
       "    .dataframe tbody tr th:only-of-type {\n",
       "        vertical-align: middle;\n",
       "    }\n",
       "\n",
       "    .dataframe tbody tr th {\n",
       "        vertical-align: top;\n",
       "    }\n",
       "\n",
       "    .dataframe thead th {\n",
       "        text-align: right;\n",
       "    }\n",
       "</style>\n",
       "<table border=\"1\" class=\"dataframe\">\n",
       "  <thead>\n",
       "    <tr style=\"text-align: right;\">\n",
       "      <th>V_YEAR</th>\n",
       "      <th>1901</th>\n",
       "      <th>1903</th>\n",
       "      <th>1904</th>\n",
       "      <th>1905</th>\n",
       "      <th>1906</th>\n",
       "      <th>1907</th>\n",
       "      <th>1908</th>\n",
       "      <th>1909</th>\n",
       "      <th>1910</th>\n",
       "      <th>1911</th>\n",
       "      <th>...</th>\n",
       "      <th>2009</th>\n",
       "      <th>2010</th>\n",
       "      <th>2011</th>\n",
       "      <th>2012</th>\n",
       "      <th>2013</th>\n",
       "      <th>2014</th>\n",
       "      <th>2015</th>\n",
       "      <th>NNNN</th>\n",
       "      <th>UUUU</th>\n",
       "      <th>All</th>\n",
       "    </tr>\n",
       "  </thead>\n",
       "  <tbody>\n",
       "    <tr>\n",
       "      <th>count</th>\n",
       "      <td>21.000000</td>\n",
       "      <td>21.000000</td>\n",
       "      <td>21.000000</td>\n",
       "      <td>21.000000</td>\n",
       "      <td>21.000000</td>\n",
       "      <td>21.000000</td>\n",
       "      <td>21.000000</td>\n",
       "      <td>21.000000</td>\n",
       "      <td>21.000000</td>\n",
       "      <td>21.000000</td>\n",
       "      <td>...</td>\n",
       "      <td>21.000000</td>\n",
       "      <td>21.000000</td>\n",
       "      <td>21.000000</td>\n",
       "      <td>21.000000</td>\n",
       "      <td>21.000000</td>\n",
       "      <td>21.000000</td>\n",
       "      <td>21.000000</td>\n",
       "      <td>21.000000</td>\n",
       "      <td>21.000000</td>\n",
       "      <td>21.000000</td>\n",
       "    </tr>\n",
       "    <tr>\n",
       "      <th>mean</th>\n",
       "      <td>0.000022</td>\n",
       "      <td>0.000010</td>\n",
       "      <td>0.000005</td>\n",
       "      <td>0.000002</td>\n",
       "      <td>0.000002</td>\n",
       "      <td>0.000005</td>\n",
       "      <td>0.000007</td>\n",
       "      <td>0.000005</td>\n",
       "      <td>0.000002</td>\n",
       "      <td>0.000017</td>\n",
       "      <td>...</td>\n",
       "      <td>0.177419</td>\n",
       "      <td>0.153758</td>\n",
       "      <td>0.107879</td>\n",
       "      <td>0.085594</td>\n",
       "      <td>0.058585</td>\n",
       "      <td>0.023474</td>\n",
       "      <td>0.002013</td>\n",
       "      <td>0.097759</td>\n",
       "      <td>0.629365</td>\n",
       "      <td>9.523810</td>\n",
       "    </tr>\n",
       "    <tr>\n",
       "      <th>std</th>\n",
       "      <td>0.000059</td>\n",
       "      <td>0.000027</td>\n",
       "      <td>0.000015</td>\n",
       "      <td>0.000008</td>\n",
       "      <td>0.000008</td>\n",
       "      <td>0.000015</td>\n",
       "      <td>0.000023</td>\n",
       "      <td>0.000015</td>\n",
       "      <td>0.000008</td>\n",
       "      <td>0.000050</td>\n",
       "      <td>...</td>\n",
       "      <td>0.518592</td>\n",
       "      <td>0.459356</td>\n",
       "      <td>0.318076</td>\n",
       "      <td>0.252011</td>\n",
       "      <td>0.172764</td>\n",
       "      <td>0.068726</td>\n",
       "      <td>0.005693</td>\n",
       "      <td>0.300837</td>\n",
       "      <td>1.597124</td>\n",
       "      <td>27.625612</td>\n",
       "    </tr>\n",
       "    <tr>\n",
       "      <th>min</th>\n",
       "      <td>0.000000</td>\n",
       "      <td>0.000000</td>\n",
       "      <td>0.000000</td>\n",
       "      <td>0.000000</td>\n",
       "      <td>0.000000</td>\n",
       "      <td>0.000000</td>\n",
       "      <td>0.000000</td>\n",
       "      <td>0.000000</td>\n",
       "      <td>0.000000</td>\n",
       "      <td>0.000000</td>\n",
       "      <td>...</td>\n",
       "      <td>0.000153</td>\n",
       "      <td>0.000025</td>\n",
       "      <td>0.000051</td>\n",
       "      <td>0.000025</td>\n",
       "      <td>0.000000</td>\n",
       "      <td>0.000000</td>\n",
       "      <td>0.000000</td>\n",
       "      <td>0.000000</td>\n",
       "      <td>0.000127</td>\n",
       "      <td>0.009246</td>\n",
       "    </tr>\n",
       "    <tr>\n",
       "      <th>25%</th>\n",
       "      <td>0.000000</td>\n",
       "      <td>0.000000</td>\n",
       "      <td>0.000000</td>\n",
       "      <td>0.000000</td>\n",
       "      <td>0.000000</td>\n",
       "      <td>0.000000</td>\n",
       "      <td>0.000000</td>\n",
       "      <td>0.000000</td>\n",
       "      <td>0.000000</td>\n",
       "      <td>0.000000</td>\n",
       "      <td>...</td>\n",
       "      <td>0.001656</td>\n",
       "      <td>0.000891</td>\n",
       "      <td>0.000611</td>\n",
       "      <td>0.000662</td>\n",
       "      <td>0.000509</td>\n",
       "      <td>0.000076</td>\n",
       "      <td>0.000000</td>\n",
       "      <td>0.000000</td>\n",
       "      <td>0.015155</td>\n",
       "      <td>0.078755</td>\n",
       "    </tr>\n",
       "    <tr>\n",
       "      <th>50%</th>\n",
       "      <td>0.000000</td>\n",
       "      <td>0.000000</td>\n",
       "      <td>0.000000</td>\n",
       "      <td>0.000000</td>\n",
       "      <td>0.000000</td>\n",
       "      <td>0.000000</td>\n",
       "      <td>0.000000</td>\n",
       "      <td>0.000000</td>\n",
       "      <td>0.000000</td>\n",
       "      <td>0.000000</td>\n",
       "      <td>...</td>\n",
       "      <td>0.004865</td>\n",
       "      <td>0.002853</td>\n",
       "      <td>0.002700</td>\n",
       "      <td>0.002114</td>\n",
       "      <td>0.001528</td>\n",
       "      <td>0.000764</td>\n",
       "      <td>0.000025</td>\n",
       "      <td>0.000025</td>\n",
       "      <td>0.045338</td>\n",
       "      <td>0.454600</td>\n",
       "    </tr>\n",
       "    <tr>\n",
       "      <th>75%</th>\n",
       "      <td>0.000000</td>\n",
       "      <td>0.000000</td>\n",
       "      <td>0.000000</td>\n",
       "      <td>0.000000</td>\n",
       "      <td>0.000000</td>\n",
       "      <td>0.000000</td>\n",
       "      <td>0.000000</td>\n",
       "      <td>0.000000</td>\n",
       "      <td>0.000000</td>\n",
       "      <td>0.000000</td>\n",
       "      <td>...</td>\n",
       "      <td>0.028833</td>\n",
       "      <td>0.020224</td>\n",
       "      <td>0.022083</td>\n",
       "      <td>0.013194</td>\n",
       "      <td>0.006138</td>\n",
       "      <td>0.002725</td>\n",
       "      <td>0.000204</td>\n",
       "      <td>0.000306</td>\n",
       "      <td>0.142024</td>\n",
       "      <td>1.880550</td>\n",
       "    </tr>\n",
       "    <tr>\n",
       "      <th>max</th>\n",
       "      <td>0.000229</td>\n",
       "      <td>0.000102</td>\n",
       "      <td>0.000051</td>\n",
       "      <td>0.000025</td>\n",
       "      <td>0.000025</td>\n",
       "      <td>0.000051</td>\n",
       "      <td>0.000076</td>\n",
       "      <td>0.000051</td>\n",
       "      <td>0.000025</td>\n",
       "      <td>0.000178</td>\n",
       "      <td>...</td>\n",
       "      <td>1.862899</td>\n",
       "      <td>1.614458</td>\n",
       "      <td>1.132731</td>\n",
       "      <td>0.898732</td>\n",
       "      <td>0.615142</td>\n",
       "      <td>0.246480</td>\n",
       "      <td>0.021141</td>\n",
       "      <td>1.026468</td>\n",
       "      <td>6.608337</td>\n",
       "      <td>100.000000</td>\n",
       "    </tr>\n",
       "  </tbody>\n",
       "</table>\n",
       "<p>8 rows × 117 columns</p>\n",
       "</div>"
      ],
      "text/plain": [
       "V_YEAR       1901       1903       1904       1905       1906       1907  \\\n",
       "count   21.000000  21.000000  21.000000  21.000000  21.000000  21.000000   \n",
       "mean     0.000022   0.000010   0.000005   0.000002   0.000002   0.000005   \n",
       "std      0.000059   0.000027   0.000015   0.000008   0.000008   0.000015   \n",
       "min      0.000000   0.000000   0.000000   0.000000   0.000000   0.000000   \n",
       "25%      0.000000   0.000000   0.000000   0.000000   0.000000   0.000000   \n",
       "50%      0.000000   0.000000   0.000000   0.000000   0.000000   0.000000   \n",
       "75%      0.000000   0.000000   0.000000   0.000000   0.000000   0.000000   \n",
       "max      0.000229   0.000102   0.000051   0.000025   0.000025   0.000051   \n",
       "\n",
       "V_YEAR       1908       1909       1910       1911  ...       2009       2010  \\\n",
       "count   21.000000  21.000000  21.000000  21.000000  ...  21.000000  21.000000   \n",
       "mean     0.000007   0.000005   0.000002   0.000017  ...   0.177419   0.153758   \n",
       "std      0.000023   0.000015   0.000008   0.000050  ...   0.518592   0.459356   \n",
       "min      0.000000   0.000000   0.000000   0.000000  ...   0.000153   0.000025   \n",
       "25%      0.000000   0.000000   0.000000   0.000000  ...   0.001656   0.000891   \n",
       "50%      0.000000   0.000000   0.000000   0.000000  ...   0.004865   0.002853   \n",
       "75%      0.000000   0.000000   0.000000   0.000000  ...   0.028833   0.020224   \n",
       "max      0.000076   0.000051   0.000025   0.000178  ...   1.862899   1.614458   \n",
       "\n",
       "V_YEAR       2011       2012       2013       2014       2015       NNNN  \\\n",
       "count   21.000000  21.000000  21.000000  21.000000  21.000000  21.000000   \n",
       "mean     0.107879   0.085594   0.058585   0.023474   0.002013   0.097759   \n",
       "std      0.318076   0.252011   0.172764   0.068726   0.005693   0.300837   \n",
       "min      0.000051   0.000025   0.000000   0.000000   0.000000   0.000000   \n",
       "25%      0.000611   0.000662   0.000509   0.000076   0.000000   0.000000   \n",
       "50%      0.002700   0.002114   0.001528   0.000764   0.000025   0.000025   \n",
       "75%      0.022083   0.013194   0.006138   0.002725   0.000204   0.000306   \n",
       "max      1.132731   0.898732   0.615142   0.246480   0.021141   1.026468   \n",
       "\n",
       "V_YEAR       UUUU         All  \n",
       "count   21.000000   21.000000  \n",
       "mean     0.629365    9.523810  \n",
       "std      1.597124   27.625612  \n",
       "min      0.000127    0.009246  \n",
       "25%      0.015155    0.078755  \n",
       "50%      0.045338    0.454600  \n",
       "75%      0.142024    1.880550  \n",
       "max      6.608337  100.000000  \n",
       "\n",
       "[8 rows x 117 columns]"
      ]
     },
     "execution_count": 15,
     "metadata": {},
     "output_type": "execute_result"
    }
   ],
   "source": [
    "conting_table.describe()"
   ]
  },
  {
   "cell_type": "markdown",
   "id": "c4454a66",
   "metadata": {},
   "source": [
    "Hemos optado por representar gráficamente los valores máximos de nuestra tabla de contingencia que compara modelo y año de los vehículos. \n",
    "\n",
    "La primera comparativa es la evolución del número de accidentes en los últimos años. Podemos observar una creciente tendencia desde 1994 al 2000, alcanzando un punto de inflexión en el año 2000, a partir del cuál la tendencia será negativa y el número de accidentes va dismuniyendo a lo largo de los años."
   ]
  },
  {
   "cell_type": "code",
   "execution_count": 16,
   "id": "ee5631cf",
   "metadata": {},
   "outputs": [
    {
     "data": {
      "text/plain": [
       "<AxesSubplot:xlabel='V_YEAR'>"
      ]
     },
     "execution_count": 16,
     "metadata": {},
     "output_type": "execute_result"
    },
    {
     "data": {
      "image/png": "[encoded data removed]",
      "text/plain": [
       "<Figure size 720x720 with 1 Axes>"
      ]
     },
     "metadata": {
      "needs_background": "light"
     },
     "output_type": "display_data"
    }
   ],
   "source": [
    "# gráfica de la evolución accidentes de los últimos 20 años (máxs)\n",
    "datostabla = conting_table.iloc[-1].drop(['All','NNNN','UUUU']).iloc[92:114] \n",
    "datostabla.plot.bar(figsize=(10, 10))"
   ]
  },
  {
   "cell_type": "code",
   "execution_count": 17,
   "id": "f058a2f3",
   "metadata": {},
   "outputs": [
    {
     "data": {
      "text/plain": [
       "V_YEAR\n",
       "2000    5.655301\n",
       "1998    5.160177\n",
       "2002    5.129714\n",
       "1999    5.047852\n",
       "2003    4.900020\n",
       "Name: All, dtype: float64"
      ]
     },
     "execution_count": 17,
     "metadata": {},
     "output_type": "execute_result"
    }
   ],
   "source": [
    "datostablamax = conting_table.iloc[-1].drop(['All','NNNN','UUUU']).sort_values(ascending = False).head(10)\n",
    "datostablamax.head(5)"
   ]
  },
  {
   "cell_type": "markdown",
   "id": "9fdee306",
   "metadata": {},
   "source": [
    "Tal y como hemos comentado antes el año con más accidentes, no sólo de los últimos 10 años sino desde el 1900 será el 2000 (valor del 5.65% sobre el total). En un artículo del país, coinciden con que España en el 2000 incrementó su tasa de siniestros en carretera en un 0.07% sin causa aparente."
   ]
  },
  {
   "cell_type": "code",
   "execution_count": 18,
   "id": "4a1e9d82",
   "metadata": {
    "scrolled": true
   },
   "outputs": [
    {
     "data": {
      "text/plain": [
       "<AxesSubplot:xlabel='V_YEAR'>"
      ]
     },
     "execution_count": 18,
     "metadata": {},
     "output_type": "execute_result"
    },
    {
     "data": {
      "image/png": "[encoded data removed]",
      "text/plain": [
       "<Figure size 432x288 with 1 Axes>"
      ]
     },
     "metadata": {
      "needs_background": "light"
     },
     "output_type": "display_data"
    }
   ],
   "source": [
    "datostablamax.plot.bar(rot=0)"
   ]
  },
  {
   "cell_type": "markdown",
   "id": "cf3d5fc4",
   "metadata": {},
   "source": [
    "Aquí podemos observar qué años de fabricación de los vehículos han provocado mas accidentes. El año de fabricación que más ha causado accidentes fue el 2000, seguido por el 1998, 2002, 1999, 2003, etc. "
   ]
  },
  {
   "cell_type": "code",
   "execution_count": 19,
   "id": "455dc736",
   "metadata": {},
   "outputs": [
    {
     "data": {
      "text/plain": [
       "V_YEAR\n",
       "1905    0.000025\n",
       "1906    0.000025\n",
       "1910    0.000025\n",
       "1904    0.000051\n",
       "1907    0.000051\n",
       "Name: All, dtype: float64"
      ]
     },
     "execution_count": 19,
     "metadata": {},
     "output_type": "execute_result"
    }
   ],
   "source": [
    "datostablamin = conting_table.iloc[-1].drop(['All','NNNN','UUUU']).sort_values(ascending = True).head(5)\n",
    "datostablamin"
   ]
  },
  {
   "cell_type": "markdown",
   "id": "5f538180",
   "metadata": {},
   "source": [
    "Podemos concluir que los vehículos menos propensos a tener un accidente son aquellos de principios del siglo XX. Podríamos considerar causa de este fenómeno el hecho de que el automóvil se inventara en 1900. Sin embargo no será hasta 1904 que Ford llega a Canadá con su producción. "
   ]
  },
  {
   "cell_type": "code",
   "execution_count": 20,
   "id": "ecb72544",
   "metadata": {},
   "outputs": [
    {
     "data": {
      "text/plain": [
       "<AxesSubplot:xlabel='V_YEAR'>"
      ]
     },
     "execution_count": 20,
     "metadata": {},
     "output_type": "execute_result"
    },
    {
     "data": {
      "image/png": "[encoded data removed]",
      "text/plain": [
       "<Figure size 432x288 with 1 Axes>"
      ]
     },
     "metadata": {
      "needs_background": "light"
     },
     "output_type": "display_data"
    }
   ],
   "source": [
    "datostablamin.plot.bar(rot=0)"
   ]
  },
  {
   "cell_type": "markdown",
   "id": "2dc856af",
   "metadata": {},
   "source": [
    "Estos cuatro años de fabricación de vehículo cuentan con el menor número de accidentes."
   ]
  },
  {
   "cell_type": "code",
   "execution_count": 21,
   "id": "d9412bd9",
   "metadata": {},
   "outputs": [],
   "source": [
    "#tabla de contingenia relativa total (tipo vehículo)\n",
    "conting_table2 = pd.crosstab(index=pd_accidentes['V_YEAR'], columns=pd_accidentes['V_TYPE'],\n",
    "            margins=True).apply(lambda r: r/len(pd_accidentes) *100,\n",
    "                                axis=1)"
   ]
  },
  {
   "cell_type": "code",
   "execution_count": 22,
   "id": "93bd6f7d",
   "metadata": {
    "scrolled": true
   },
   "outputs": [
    {
     "data": {
      "text/html": [
       "<div>\n",
       "<style scoped>\n",
       "    .dataframe tbody tr th:only-of-type {\n",
       "        vertical-align: middle;\n",
       "    }\n",
       "\n",
       "    .dataframe tbody tr th {\n",
       "        vertical-align: top;\n",
       "    }\n",
       "\n",
       "    .dataframe thead th {\n",
       "        text-align: right;\n",
       "    }\n",
       "</style>\n",
       "<table border=\"1\" class=\"dataframe\">\n",
       "  <thead>\n",
       "    <tr style=\"text-align: right;\">\n",
       "      <th>V_TYPE</th>\n",
       "      <th>01</th>\n",
       "      <th>05</th>\n",
       "      <th>06</th>\n",
       "      <th>07</th>\n",
       "      <th>08</th>\n",
       "      <th>09</th>\n",
       "      <th>10</th>\n",
       "      <th>11</th>\n",
       "      <th>14</th>\n",
       "      <th>16</th>\n",
       "      <th>...</th>\n",
       "      <th>18</th>\n",
       "      <th>19</th>\n",
       "      <th>20</th>\n",
       "      <th>21</th>\n",
       "      <th>22</th>\n",
       "      <th>23</th>\n",
       "      <th>NN</th>\n",
       "      <th>QQ</th>\n",
       "      <th>UU</th>\n",
       "      <th>All</th>\n",
       "    </tr>\n",
       "  </thead>\n",
       "  <tbody>\n",
       "    <tr>\n",
       "      <th>count</th>\n",
       "      <td>117.000000</td>\n",
       "      <td>117.000000</td>\n",
       "      <td>117.000000</td>\n",
       "      <td>117.000000</td>\n",
       "      <td>117.000000</td>\n",
       "      <td>117.000000</td>\n",
       "      <td>117.000000</td>\n",
       "      <td>117.000000</td>\n",
       "      <td>117.000000</td>\n",
       "      <td>117.000000</td>\n",
       "      <td>...</td>\n",
       "      <td>117.000000</td>\n",
       "      <td>117.000000</td>\n",
       "      <td>117.000000</td>\n",
       "      <td>117.000000</td>\n",
       "      <td>117.000000</td>\n",
       "      <td>117.000000</td>\n",
       "      <td>117.000000</td>\n",
       "      <td>117.000000</td>\n",
       "      <td>117.000000</td>\n",
       "      <td>117.000000</td>\n",
       "    </tr>\n",
       "    <tr>\n",
       "      <th>mean</th>\n",
       "      <td>1.444084</td>\n",
       "      <td>0.019957</td>\n",
       "      <td>0.053242</td>\n",
       "      <td>0.032146</td>\n",
       "      <td>0.027820</td>\n",
       "      <td>0.003067</td>\n",
       "      <td>0.000158</td>\n",
       "      <td>0.010825</td>\n",
       "      <td>0.041012</td>\n",
       "      <td>0.002218</td>\n",
       "      <td>...</td>\n",
       "      <td>0.000757</td>\n",
       "      <td>0.000627</td>\n",
       "      <td>0.002885</td>\n",
       "      <td>0.000175</td>\n",
       "      <td>0.001346</td>\n",
       "      <td>0.000808</td>\n",
       "      <td>0.002760</td>\n",
       "      <td>0.007771</td>\n",
       "      <td>0.011234</td>\n",
       "      <td>1.709402</td>\n",
       "    </tr>\n",
       "    <tr>\n",
       "      <th>std</th>\n",
       "      <td>7.861737</td>\n",
       "      <td>0.109008</td>\n",
       "      <td>0.289811</td>\n",
       "      <td>0.175096</td>\n",
       "      <td>0.152467</td>\n",
       "      <td>0.016739</td>\n",
       "      <td>0.000869</td>\n",
       "      <td>0.058928</td>\n",
       "      <td>0.223533</td>\n",
       "      <td>0.012685</td>\n",
       "      <td>...</td>\n",
       "      <td>0.004138</td>\n",
       "      <td>0.003646</td>\n",
       "      <td>0.015775</td>\n",
       "      <td>0.000952</td>\n",
       "      <td>0.007629</td>\n",
       "      <td>0.004656</td>\n",
       "      <td>0.015645</td>\n",
       "      <td>0.042732</td>\n",
       "      <td>0.074154</td>\n",
       "      <td>9.304963</td>\n",
       "    </tr>\n",
       "    <tr>\n",
       "      <th>min</th>\n",
       "      <td>0.000000</td>\n",
       "      <td>0.000000</td>\n",
       "      <td>0.000000</td>\n",
       "      <td>0.000000</td>\n",
       "      <td>0.000000</td>\n",
       "      <td>0.000000</td>\n",
       "      <td>0.000000</td>\n",
       "      <td>0.000000</td>\n",
       "      <td>0.000000</td>\n",
       "      <td>0.000000</td>\n",
       "      <td>...</td>\n",
       "      <td>0.000000</td>\n",
       "      <td>0.000000</td>\n",
       "      <td>0.000000</td>\n",
       "      <td>0.000000</td>\n",
       "      <td>0.000000</td>\n",
       "      <td>0.000000</td>\n",
       "      <td>0.000000</td>\n",
       "      <td>0.000000</td>\n",
       "      <td>0.000000</td>\n",
       "      <td>0.000025</td>\n",
       "    </tr>\n",
       "    <tr>\n",
       "      <th>25%</th>\n",
       "      <td>0.000178</td>\n",
       "      <td>0.000000</td>\n",
       "      <td>0.000000</td>\n",
       "      <td>0.000000</td>\n",
       "      <td>0.000000</td>\n",
       "      <td>0.000000</td>\n",
       "      <td>0.000000</td>\n",
       "      <td>0.000000</td>\n",
       "      <td>0.000000</td>\n",
       "      <td>0.000000</td>\n",
       "      <td>...</td>\n",
       "      <td>0.000000</td>\n",
       "      <td>0.000000</td>\n",
       "      <td>0.000000</td>\n",
       "      <td>0.000000</td>\n",
       "      <td>0.000000</td>\n",
       "      <td>0.000000</td>\n",
       "      <td>0.000000</td>\n",
       "      <td>0.000000</td>\n",
       "      <td>0.000000</td>\n",
       "      <td>0.000255</td>\n",
       "    </tr>\n",
       "    <tr>\n",
       "      <th>50%</th>\n",
       "      <td>0.001095</td>\n",
       "      <td>0.000000</td>\n",
       "      <td>0.000127</td>\n",
       "      <td>0.000051</td>\n",
       "      <td>0.000025</td>\n",
       "      <td>0.000000</td>\n",
       "      <td>0.000000</td>\n",
       "      <td>0.000000</td>\n",
       "      <td>0.000127</td>\n",
       "      <td>0.000000</td>\n",
       "      <td>...</td>\n",
       "      <td>0.000000</td>\n",
       "      <td>0.000025</td>\n",
       "      <td>0.000127</td>\n",
       "      <td>0.000000</td>\n",
       "      <td>0.000000</td>\n",
       "      <td>0.000025</td>\n",
       "      <td>0.000000</td>\n",
       "      <td>0.000025</td>\n",
       "      <td>0.000025</td>\n",
       "      <td>0.001681</td>\n",
       "    </tr>\n",
       "    <tr>\n",
       "      <th>75%</th>\n",
       "      <td>0.665115</td>\n",
       "      <td>0.006266</td>\n",
       "      <td>0.023611</td>\n",
       "      <td>0.016199</td>\n",
       "      <td>0.010035</td>\n",
       "      <td>0.000815</td>\n",
       "      <td>0.000025</td>\n",
       "      <td>0.006622</td>\n",
       "      <td>0.024401</td>\n",
       "      <td>0.000917</td>\n",
       "      <td>...</td>\n",
       "      <td>0.000637</td>\n",
       "      <td>0.000331</td>\n",
       "      <td>0.001834</td>\n",
       "      <td>0.000076</td>\n",
       "      <td>0.000331</td>\n",
       "      <td>0.000076</td>\n",
       "      <td>0.000611</td>\n",
       "      <td>0.001987</td>\n",
       "      <td>0.001859</td>\n",
       "      <td>0.898732</td>\n",
       "    </tr>\n",
       "    <tr>\n",
       "      <th>max</th>\n",
       "      <td>84.478919</td>\n",
       "      <td>1.167473</td>\n",
       "      <td>3.114680</td>\n",
       "      <td>1.880550</td>\n",
       "      <td>1.627448</td>\n",
       "      <td>0.179415</td>\n",
       "      <td>0.009246</td>\n",
       "      <td>0.633252</td>\n",
       "      <td>2.399183</td>\n",
       "      <td>0.129773</td>\n",
       "      <td>...</td>\n",
       "      <td>0.044293</td>\n",
       "      <td>0.036678</td>\n",
       "      <td>0.168794</td>\n",
       "      <td>0.010214</td>\n",
       "      <td>0.078755</td>\n",
       "      <td>0.047248</td>\n",
       "      <td>0.161484</td>\n",
       "      <td>0.454600</td>\n",
       "      <td>0.657168</td>\n",
       "      <td>100.000000</td>\n",
       "    </tr>\n",
       "  </tbody>\n",
       "</table>\n",
       "<p>8 rows × 21 columns</p>\n",
       "</div>"
      ],
      "text/plain": [
       "V_TYPE          01          05          06          07          08  \\\n",
       "count   117.000000  117.000000  117.000000  117.000000  117.000000   \n",
       "mean      1.444084    0.019957    0.053242    0.032146    0.027820   \n",
       "std       7.861737    0.109008    0.289811    0.175096    0.152467   \n",
       "min       0.000000    0.000000    0.000000    0.000000    0.000000   \n",
       "25%       0.000178    0.000000    0.000000    0.000000    0.000000   \n",
       "50%       0.001095    0.000000    0.000127    0.000051    0.000025   \n",
       "75%       0.665115    0.006266    0.023611    0.016199    0.010035   \n",
       "max      84.478919    1.167473    3.114680    1.880550    1.627448   \n",
       "\n",
       "V_TYPE          09          10          11          14          16  ...  \\\n",
       "count   117.000000  117.000000  117.000000  117.000000  117.000000  ...   \n",
       "mean      0.003067    0.000158    0.010825    0.041012    0.002218  ...   \n",
       "std       0.016739    0.000869    0.058928    0.223533    0.012685  ...   \n",
       "min       0.000000    0.000000    0.000000    0.000000    0.000000  ...   \n",
       "25%       0.000000    0.000000    0.000000    0.000000    0.000000  ...   \n",
       "50%       0.000000    0.000000    0.000000    0.000127    0.000000  ...   \n",
       "75%       0.000815    0.000025    0.006622    0.024401    0.000917  ...   \n",
       "max       0.179415    0.009246    0.633252    2.399183    0.129773  ...   \n",
       "\n",
       "V_TYPE          18          19          20          21          22  \\\n",
       "count   117.000000  117.000000  117.000000  117.000000  117.000000   \n",
       "mean      0.000757    0.000627    0.002885    0.000175    0.001346   \n",
       "std       0.004138    0.003646    0.015775    0.000952    0.007629   \n",
       "min       0.000000    0.000000    0.000000    0.000000    0.000000   \n",
       "25%       0.000000    0.000000    0.000000    0.000000    0.000000   \n",
       "50%       0.000000    0.000025    0.000127    0.000000    0.000000   \n",
       "75%       0.000637    0.000331    0.001834    0.000076    0.000331   \n",
       "max       0.044293    0.036678    0.168794    0.010214    0.078755   \n",
       "\n",
       "V_TYPE          23          NN          QQ          UU         All  \n",
       "count   117.000000  117.000000  117.000000  117.000000  117.000000  \n",
       "mean      0.000808    0.002760    0.007771    0.011234    1.709402  \n",
       "std       0.004656    0.015645    0.042732    0.074154    9.304963  \n",
       "min       0.000000    0.000000    0.000000    0.000000    0.000025  \n",
       "25%       0.000000    0.000000    0.000000    0.000000    0.000255  \n",
       "50%       0.000025    0.000000    0.000025    0.000025    0.001681  \n",
       "75%       0.000076    0.000611    0.001987    0.001859    0.898732  \n",
       "max       0.047248    0.161484    0.454600    0.657168  100.000000  \n",
       "\n",
       "[8 rows x 21 columns]"
      ]
     },
     "execution_count": 22,
     "metadata": {},
     "output_type": "execute_result"
    }
   ],
   "source": [
    "conting_table2.describe()"
   ]
  },
  {
   "cell_type": "code",
   "execution_count": 23,
   "id": "d02f0eff",
   "metadata": {},
   "outputs": [
    {
     "data": {
      "text/plain": [
       "<AxesSubplot:xlabel='V_TYPE'>"
      ]
     },
     "execution_count": 23,
     "metadata": {},
     "output_type": "execute_result"
    },
    {
     "data": {
      "image/png": "[encoded data removed]",
      "text/plain": [
       "<Figure size 432x288 with 1 Axes>"
      ]
     },
     "metadata": {
      "needs_background": "light"
     },
     "output_type": "display_data"
    }
   ],
   "source": [
    "# cantidad de accidentes por tipo de vehículo\n",
    "datostabla2 = conting_table2.iloc[-1].drop(['All','NN','UU','QQ'])\n",
    "datostabla2.plot.bar(rot=0)"
   ]
  },
  {
   "cell_type": "code",
   "execution_count": 24,
   "id": "43531599",
   "metadata": {},
   "outputs": [
    {
     "data": {
      "text/plain": [
       "V_TYPE\n",
       "10    0.009246\n",
       "21    0.010214\n",
       "19    0.036678\n",
       "18    0.044293\n",
       "23    0.047248\n",
       "Name: All, dtype: float64"
      ]
     },
     "execution_count": 24,
     "metadata": {},
     "output_type": "execute_result"
    }
   ],
   "source": [
    "datostablamin = conting_table2.iloc[-1].drop(['All','NN','UU','QQ']).sort_values(ascending = True).head(5)\n",
    "datostablamin"
   ]
  },
  {
   "cell_type": "markdown",
   "id": "acf0fd75",
   "metadata": {},
   "source": [
    "Podemos concluir que el vehículo con menor probabilidad de accidente será el autobús escolar de menos de 25 pasajeros (0,0092%), y el vehículo con más probabilidad de accidente será los turismos (84,5%)."
   ]
  },
  {
   "cell_type": "code",
   "execution_count": 25,
   "id": "4897d813",
   "metadata": {},
   "outputs": [
    {
     "data": {
      "text/plain": [
       "V_TYPE\n",
       "01    84.478919\n",
       "06     3.114680\n",
       "17     2.720827\n",
       "14     2.399183\n",
       "07     1.880550\n",
       "Name: All, dtype: float64"
      ]
     },
     "execution_count": 25,
     "metadata": {},
     "output_type": "execute_result"
    }
   ],
   "source": [
    "datostablamax = conting_table2.iloc[-1].drop(['All','NN','UU','QQ']).sort_values(ascending = False).head(5)\n",
    "datostablamax"
   ]
  },
  {
   "cell_type": "markdown",
   "id": "3705d6b7",
   "metadata": {},
   "source": [
    "#### Breve estudio otras variables "
   ]
  },
  {
   "cell_type": "code",
   "execution_count": 26,
   "id": "4bb661bf",
   "metadata": {
    "scrolled": true
   },
   "outputs": [
    {
     "data": {
      "text/html": [
       "<div>\n",
       "<style scoped>\n",
       "    .dataframe tbody tr th:only-of-type {\n",
       "        vertical-align: middle;\n",
       "    }\n",
       "\n",
       "    .dataframe tbody tr th {\n",
       "        vertical-align: top;\n",
       "    }\n",
       "\n",
       "    .dataframe thead th {\n",
       "        text-align: right;\n",
       "    }\n",
       "</style>\n",
       "<table border=\"1\" class=\"dataframe\">\n",
       "  <thead>\n",
       "    <tr style=\"text-align: right;\">\n",
       "      <th></th>\n",
       "      <th>index</th>\n",
       "      <th>percent</th>\n",
       "      <th>P_ID</th>\n",
       "    </tr>\n",
       "  </thead>\n",
       "  <tbody>\n",
       "    <tr>\n",
       "      <th>0</th>\n",
       "      <td>01</td>\n",
       "      <td>99.322328</td>\n",
       "      <td>3899480</td>\n",
       "    </tr>\n",
       "    <tr>\n",
       "      <th>1</th>\n",
       "      <td>02</td>\n",
       "      <td>0.502485</td>\n",
       "      <td>19728</td>\n",
       "    </tr>\n",
       "    <tr>\n",
       "      <th>2</th>\n",
       "      <td>03</td>\n",
       "      <td>0.109829</td>\n",
       "      <td>4312</td>\n",
       "    </tr>\n",
       "    <tr>\n",
       "      <th>3</th>\n",
       "      <td>04</td>\n",
       "      <td>0.038919</td>\n",
       "      <td>1528</td>\n",
       "    </tr>\n",
       "    <tr>\n",
       "      <th>4</th>\n",
       "      <td>05</td>\n",
       "      <td>0.014518</td>\n",
       "      <td>570</td>\n",
       "    </tr>\n",
       "  </tbody>\n",
       "</table>\n",
       "</div>"
      ],
      "text/plain": [
       "  index    percent     P_ID\n",
       "0    01  99.322328  3899480\n",
       "1    02   0.502485    19728\n",
       "2    03   0.109829     4312\n",
       "3    04   0.038919     1528\n",
       "4    05   0.014518      570"
      ]
     },
     "execution_count": 26,
     "metadata": {},
     "output_type": "execute_result"
    }
   ],
   "source": [
    "pd_P_ID = pd_accidentes['P_ID']\\\n",
    "        .value_counts(normalize=True)\\\n",
    "        .mul(100).rename('percent').reset_index()\n",
    "\n",
    "pd_conteo = pd_accidentes['P_ID'].value_counts().reset_index()\n",
    "pd_pc = pd.merge(pd_P_ID, pd_conteo, on=['index'], how='inner')\n",
    "pd_pc.head(5)"
   ]
  },
  {
   "cell_type": "code",
   "execution_count": 27,
   "id": "8bcddf8b",
   "metadata": {},
   "outputs": [
    {
     "data": {
      "text/html": [
       "<div>\n",
       "<style scoped>\n",
       "    .dataframe tbody tr th:only-of-type {\n",
       "        vertical-align: middle;\n",
       "    }\n",
       "\n",
       "    .dataframe tbody tr th {\n",
       "        vertical-align: top;\n",
       "    }\n",
       "\n",
       "    .dataframe thead th {\n",
       "        text-align: right;\n",
       "    }\n",
       "</style>\n",
       "<table border=\"1\" class=\"dataframe\">\n",
       "  <thead>\n",
       "    <tr style=\"text-align: right;\">\n",
       "      <th></th>\n",
       "      <th>index</th>\n",
       "      <th>percent</th>\n",
       "      <th>P_SEX</th>\n",
       "    </tr>\n",
       "  </thead>\n",
       "  <tbody>\n",
       "    <tr>\n",
       "      <th>0</th>\n",
       "      <td>M</td>\n",
       "      <td>59.985492</td>\n",
       "      <td>2355082</td>\n",
       "    </tr>\n",
       "    <tr>\n",
       "      <th>1</th>\n",
       "      <td>F</td>\n",
       "      <td>35.999466</td>\n",
       "      <td>1413370</td>\n",
       "    </tr>\n",
       "    <tr>\n",
       "      <th>2</th>\n",
       "      <td>U</td>\n",
       "      <td>3.972888</td>\n",
       "      <td>155979</td>\n",
       "    </tr>\n",
       "    <tr>\n",
       "      <th>3</th>\n",
       "      <td>N</td>\n",
       "      <td>0.042154</td>\n",
       "      <td>1655</td>\n",
       "    </tr>\n",
       "  </tbody>\n",
       "</table>\n",
       "</div>"
      ],
      "text/plain": [
       "  index    percent    P_SEX\n",
       "0     M  59.985492  2355082\n",
       "1     F  35.999466  1413370\n",
       "2     U   3.972888   155979\n",
       "3     N   0.042154     1655"
      ]
     },
     "execution_count": 27,
     "metadata": {},
     "output_type": "execute_result"
    }
   ],
   "source": [
    "pd_P_SEX = pd_accidentes['P_SEX']\\\n",
    "        .value_counts(normalize=True)\\\n",
    "        .mul(100).rename('percent').reset_index()\n",
    "\n",
    "pd_conteo = pd_accidentes['P_SEX'].value_counts().reset_index()\n",
    "pd_pc = pd.merge(pd_P_SEX, pd_conteo, on=['index'], how='inner')\n",
    "pd_pc.head(5)"
   ]
  },
  {
   "cell_type": "markdown",
   "id": "eff52035",
   "metadata": {},
   "source": [
    "Con estos porcentajes podemos observar que en los accidentes, el 59.985% de los conductores son hombres y el 35.999% son mujeres, llegando a la conlusion de que los hombres tienen mayor probabilidad de estar involucrado en un accidente de coche que una mujer. "
   ]
  },
  {
   "cell_type": "code",
   "execution_count": 28,
   "id": "a5fbe89b",
   "metadata": {
    "scrolled": true
   },
   "outputs": [
    {
     "data": {
      "text/html": [
       "<div>\n",
       "<style scoped>\n",
       "    .dataframe tbody tr th:only-of-type {\n",
       "        vertical-align: middle;\n",
       "    }\n",
       "\n",
       "    .dataframe tbody tr th {\n",
       "        vertical-align: top;\n",
       "    }\n",
       "\n",
       "    .dataframe thead th {\n",
       "        text-align: right;\n",
       "    }\n",
       "</style>\n",
       "<table border=\"1\" class=\"dataframe\">\n",
       "  <thead>\n",
       "    <tr style=\"text-align: right;\">\n",
       "      <th></th>\n",
       "      <th>index</th>\n",
       "      <th>percent</th>\n",
       "      <th>P_AGE</th>\n",
       "    </tr>\n",
       "  </thead>\n",
       "  <tbody>\n",
       "    <tr>\n",
       "      <th>0</th>\n",
       "      <td>UU</td>\n",
       "      <td>5.239238</td>\n",
       "      <td>205697</td>\n",
       "    </tr>\n",
       "    <tr>\n",
       "      <th>1</th>\n",
       "      <td>19</td>\n",
       "      <td>2.707073</td>\n",
       "      <td>106282</td>\n",
       "    </tr>\n",
       "    <tr>\n",
       "      <th>2</th>\n",
       "      <td>18</td>\n",
       "      <td>2.677654</td>\n",
       "      <td>105127</td>\n",
       "    </tr>\n",
       "    <tr>\n",
       "      <th>3</th>\n",
       "      <td>20</td>\n",
       "      <td>2.626636</td>\n",
       "      <td>103124</td>\n",
       "    </tr>\n",
       "    <tr>\n",
       "      <th>4</th>\n",
       "      <td>21</td>\n",
       "      <td>2.526256</td>\n",
       "      <td>99183</td>\n",
       "    </tr>\n",
       "  </tbody>\n",
       "</table>\n",
       "</div>"
      ],
      "text/plain": [
       "  index   percent   P_AGE\n",
       "0    UU  5.239238  205697\n",
       "1    19  2.707073  106282\n",
       "2    18  2.677654  105127\n",
       "3    20  2.626636  103124\n",
       "4    21  2.526256   99183"
      ]
     },
     "execution_count": 28,
     "metadata": {},
     "output_type": "execute_result"
    }
   ],
   "source": [
    "pd_P_AGE = pd_accidentes['P_AGE']\\\n",
    "        .value_counts(normalize=True)\\\n",
    "        .mul(100).rename('percent').reset_index()\n",
    "\n",
    "pd_conteo = pd_accidentes['P_AGE'].value_counts().reset_index()\n",
    "pd_pc = pd.merge(pd_P_AGE, pd_conteo, on=['index'], how='inner')\n",
    "pd_pc.head(5)"
   ]
  },
  {
   "cell_type": "markdown",
   "id": "7c3a3ee4",
   "metadata": {},
   "source": [
    "Analizando estos porcentajes, podemos observar cómo los jóvenes entre 19 y 21 años son los que tienen más pruebas de tener accidentes, que se suele deber a ser los más inexpertos en la carretera y a tener cierta falta de responsabilidad frente a personas mayores y con más experiencia."
   ]
  },
  {
   "cell_type": "code",
   "execution_count": 29,
   "id": "c679026b",
   "metadata": {},
   "outputs": [
    {
     "data": {
      "text/html": [
       "<div>\n",
       "<style scoped>\n",
       "    .dataframe tbody tr th:only-of-type {\n",
       "        vertical-align: middle;\n",
       "    }\n",
       "\n",
       "    .dataframe tbody tr th {\n",
       "        vertical-align: top;\n",
       "    }\n",
       "\n",
       "    .dataframe thead th {\n",
       "        text-align: right;\n",
       "    }\n",
       "</style>\n",
       "<table border=\"1\" class=\"dataframe\">\n",
       "  <thead>\n",
       "    <tr style=\"text-align: right;\">\n",
       "      <th></th>\n",
       "      <th>index</th>\n",
       "      <th>percent</th>\n",
       "      <th>P_ISEV</th>\n",
       "    </tr>\n",
       "  </thead>\n",
       "  <tbody>\n",
       "    <tr>\n",
       "      <th>0</th>\n",
       "      <td>2</td>\n",
       "      <td>50.005272</td>\n",
       "      <td>1963250</td>\n",
       "    </tr>\n",
       "    <tr>\n",
       "      <th>1</th>\n",
       "      <td>1</td>\n",
       "      <td>42.133183</td>\n",
       "      <td>1654185</td>\n",
       "    </tr>\n",
       "    <tr>\n",
       "      <th>2</th>\n",
       "      <td>N</td>\n",
       "      <td>6.432335</td>\n",
       "      <td>252539</td>\n",
       "    </tr>\n",
       "    <tr>\n",
       "      <th>3</th>\n",
       "      <td>U</td>\n",
       "      <td>0.806885</td>\n",
       "      <td>31679</td>\n",
       "    </tr>\n",
       "    <tr>\n",
       "      <th>4</th>\n",
       "      <td>3</td>\n",
       "      <td>0.622325</td>\n",
       "      <td>24433</td>\n",
       "    </tr>\n",
       "  </tbody>\n",
       "</table>\n",
       "</div>"
      ],
      "text/plain": [
       "  index    percent   P_ISEV\n",
       "0     2  50.005272  1963250\n",
       "1     1  42.133183  1654185\n",
       "2     N   6.432335   252539\n",
       "3     U   0.806885    31679\n",
       "4     3   0.622325    24433"
      ]
     },
     "execution_count": 29,
     "metadata": {},
     "output_type": "execute_result"
    }
   ],
   "source": [
    "pd_P_ISEV = pd_accidentes['P_ISEV']\\\n",
    "        .value_counts(normalize=True)\\\n",
    "        .mul(100).rename('percent').reset_index()\n",
    "\n",
    "pd_conteo = pd_accidentes['P_ISEV'].value_counts().reset_index()\n",
    "pd_pc = pd.merge(pd_P_ISEV, pd_conteo, on=['index'], how='inner')\n",
    "pd_pc.head(5)"
   ]
  },
  {
   "cell_type": "markdown",
   "id": "ad3d0ce5",
   "metadata": {},
   "source": [
    "Con estos porcentajes podemos ver cómo en más de la mitad de los casos, en los accidentes el conductor sufre algún tipo de lesión, en el 42% de los casos no sufre ningún tipo de lesión, y en menos del 1% de los casos el conductor murió inmediatamente o dentro del límite de tiempo."
   ]
  },
  {
   "cell_type": "code",
   "execution_count": 30,
   "id": "9aaef2a0",
   "metadata": {
    "scrolled": true
   },
   "outputs": [
    {
     "data": {
      "text/html": [
       "<div>\n",
       "<style scoped>\n",
       "    .dataframe tbody tr th:only-of-type {\n",
       "        vertical-align: middle;\n",
       "    }\n",
       "\n",
       "    .dataframe tbody tr th {\n",
       "        vertical-align: top;\n",
       "    }\n",
       "\n",
       "    .dataframe thead th {\n",
       "        text-align: right;\n",
       "    }\n",
       "</style>\n",
       "<table border=\"1\" class=\"dataframe\">\n",
       "  <thead>\n",
       "    <tr style=\"text-align: right;\">\n",
       "      <th></th>\n",
       "      <th>index</th>\n",
       "      <th>percent</th>\n",
       "      <th>P_SAFE</th>\n",
       "    </tr>\n",
       "  </thead>\n",
       "  <tbody>\n",
       "    <tr>\n",
       "      <th>0</th>\n",
       "      <td>02</td>\n",
       "      <td>71.227197</td>\n",
       "      <td>2796441</td>\n",
       "    </tr>\n",
       "    <tr>\n",
       "      <th>1</th>\n",
       "      <td>UU</td>\n",
       "      <td>11.292264</td>\n",
       "      <td>443344</td>\n",
       "    </tr>\n",
       "    <tr>\n",
       "      <th>2</th>\n",
       "      <td>NN</td>\n",
       "      <td>11.078081</td>\n",
       "      <td>434935</td>\n",
       "    </tr>\n",
       "    <tr>\n",
       "      <th>3</th>\n",
       "      <td>01</td>\n",
       "      <td>2.520016</td>\n",
       "      <td>98938</td>\n",
       "    </tr>\n",
       "    <tr>\n",
       "      <th>4</th>\n",
       "      <td>09</td>\n",
       "      <td>1.781647</td>\n",
       "      <td>69949</td>\n",
       "    </tr>\n",
       "  </tbody>\n",
       "</table>\n",
       "</div>"
      ],
      "text/plain": [
       "  index    percent   P_SAFE\n",
       "0    02  71.227197  2796441\n",
       "1    UU  11.292264   443344\n",
       "2    NN  11.078081   434935\n",
       "3    01   2.520016    98938\n",
       "4    09   1.781647    69949"
      ]
     },
     "execution_count": 30,
     "metadata": {},
     "output_type": "execute_result"
    }
   ],
   "source": [
    "pd_P_SAFE = pd_accidentes['P_SAFE']\\\n",
    "        .value_counts(normalize=True)\\\n",
    "        .mul(100).rename('percent').reset_index()\n",
    "\n",
    "pd_conteo = pd_accidentes['P_SAFE'].value_counts().reset_index()\n",
    "pd_pc = pd.merge(pd_P_SAFE, pd_conteo, on=['index'], how='inner')\n",
    "pd_pc.head(5)"
   ]
  },
  {
   "cell_type": "markdown",
   "id": "08162d6f",
   "metadata": {},
   "source": [
    "Podemos ver como en el 71% de los casos hubo uso de algún tipo de dispositivo de seguridad utilizado o sistema de retención infantil utilizado, en el 2.5% de los casos no se utilizó ningún dispositivo de seguridad, y en el 1,78% de los casos se utilizó un caso protector. "
   ]
  },
  {
   "cell_type": "code",
   "execution_count": 31,
   "id": "65fd6d78",
   "metadata": {},
   "outputs": [
    {
     "data": {
      "text/html": [
       "<div>\n",
       "<style scoped>\n",
       "    .dataframe tbody tr th:only-of-type {\n",
       "        vertical-align: middle;\n",
       "    }\n",
       "\n",
       "    .dataframe tbody tr th {\n",
       "        vertical-align: top;\n",
       "    }\n",
       "\n",
       "    .dataframe thead th {\n",
       "        text-align: right;\n",
       "    }\n",
       "</style>\n",
       "<table border=\"1\" class=\"dataframe\">\n",
       "  <thead>\n",
       "    <tr style=\"text-align: right;\">\n",
       "      <th></th>\n",
       "      <th>index</th>\n",
       "      <th>percent</th>\n",
       "      <th>P_USER</th>\n",
       "    </tr>\n",
       "  </thead>\n",
       "  <tbody>\n",
       "    <tr>\n",
       "      <th>0</th>\n",
       "      <td>1</td>\n",
       "      <td>93.192737</td>\n",
       "      <td>3658827</td>\n",
       "    </tr>\n",
       "    <tr>\n",
       "      <th>1</th>\n",
       "      <td>4</td>\n",
       "      <td>2.720827</td>\n",
       "      <td>106822</td>\n",
       "    </tr>\n",
       "    <tr>\n",
       "      <th>2</th>\n",
       "      <td>5</td>\n",
       "      <td>2.399183</td>\n",
       "      <td>94194</td>\n",
       "    </tr>\n",
       "    <tr>\n",
       "      <th>3</th>\n",
       "      <td>U</td>\n",
       "      <td>1.667462</td>\n",
       "      <td>65466</td>\n",
       "    </tr>\n",
       "    <tr>\n",
       "      <th>4</th>\n",
       "      <td>3</td>\n",
       "      <td>0.019791</td>\n",
       "      <td>777</td>\n",
       "    </tr>\n",
       "  </tbody>\n",
       "</table>\n",
       "</div>"
      ],
      "text/plain": [
       "  index    percent   P_USER\n",
       "0     1  93.192737  3658827\n",
       "1     4   2.720827   106822\n",
       "2     5   2.399183    94194\n",
       "3     U   1.667462    65466\n",
       "4     3   0.019791      777"
      ]
     },
     "execution_count": 31,
     "metadata": {},
     "output_type": "execute_result"
    }
   ],
   "source": [
    "pd_P_USER = pd_accidentes['P_USER']\\\n",
    "        .value_counts(normalize=True)\\\n",
    "        .mul(100).rename('percent').reset_index()\n",
    "\n",
    "pd_conteo = pd_accidentes['P_USER'].value_counts().reset_index()\n",
    "pd_pc = pd.merge(pd_P_USER, pd_conteo, on=['index'], how='inner')\n",
    "pd_pc.head(5)"
   ]
  },
  {
   "cell_type": "markdown",
   "id": "ba40a786",
   "metadata": {},
   "source": [
    "Podemos observar como en el 93% de los casos, el implicado se trataba del conductor de vehículos de motor, en el 2,7% se trataba de un ciclista, en el 2,4% se trataba de un motociclista y en el 0,01% de un peatón"
   ]
  },
  {
   "cell_type": "markdown",
   "id": "bdbe6d2d",
   "metadata": {},
   "source": [
    "# Pregunta 3: ¿Qué es lo que más contribuye a que existan fallecimientos en un accidente?\n",
    "\n"
   ]
  },
  {
   "cell_type": "markdown",
   "id": "80ccfd89",
   "metadata": {},
   "source": [
    "### Preprocesamiento variables"
   ]
  },
  {
   "cell_type": "markdown",
   "id": "a100a8b4",
   "metadata": {},
   "source": [
    "Como hemos observado en el dataset, hay muchas filas repetidas, sin embargo estos no son una representación fiel de la realidad en cuánto al número de accidentes ocurridos pues tiene en cuenta *todos* los individuos y vehículos que se han visto afectados. Tenemos dos alternativas, la primera sería considerar que habrá tantos accidentes como conductores. Sin embargo, esta tendrá en consideración todos los conductores involucrados en un solo accidente. En nuestro caso 3.926.086, gracias al siguiente código reducimos nuestro dataset a un total de 1.850.395 filas, que representarán el número de accidentes ocurridos desde 1999 hasta 2014 "
   ]
  },
  {
   "cell_type": "code",
   "execution_count": 32,
   "id": "18f1b577",
   "metadata": {},
   "outputs": [
    {
     "data": {
      "text/html": [
       "<div>\n",
       "<style scoped>\n",
       "    .dataframe tbody tr th:only-of-type {\n",
       "        vertical-align: middle;\n",
       "    }\n",
       "\n",
       "    .dataframe tbody tr th {\n",
       "        vertical-align: top;\n",
       "    }\n",
       "\n",
       "    .dataframe thead th {\n",
       "        text-align: right;\n",
       "    }\n",
       "</style>\n",
       "<table border=\"1\" class=\"dataframe\">\n",
       "  <thead>\n",
       "    <tr style=\"text-align: right;\">\n",
       "      <th></th>\n",
       "      <th>C_YEAR</th>\n",
       "      <th>C_MNTH</th>\n",
       "      <th>C_WDAY</th>\n",
       "      <th>C_HOUR</th>\n",
       "      <th>C_SEV</th>\n",
       "      <th>C_VEHS</th>\n",
       "      <th>C_CONF</th>\n",
       "      <th>C_RCFG</th>\n",
       "      <th>C_WTHR</th>\n",
       "      <th>C_RSUR</th>\n",
       "      <th>C_RALN</th>\n",
       "      <th>C_TRAF</th>\n",
       "      <th>V_ID</th>\n",
       "    </tr>\n",
       "  </thead>\n",
       "  <tbody>\n",
       "    <tr>\n",
       "      <th>0</th>\n",
       "      <td>1999</td>\n",
       "      <td>1</td>\n",
       "      <td>1</td>\n",
       "      <td>00</td>\n",
       "      <td>2</td>\n",
       "      <td>01</td>\n",
       "      <td>01</td>\n",
       "      <td>01</td>\n",
       "      <td>1</td>\n",
       "      <td>4</td>\n",
       "      <td>1</td>\n",
       "      <td>18</td>\n",
       "      <td>1</td>\n",
       "    </tr>\n",
       "    <tr>\n",
       "      <th>1</th>\n",
       "      <td>1999</td>\n",
       "      <td>1</td>\n",
       "      <td>1</td>\n",
       "      <td>00</td>\n",
       "      <td>2</td>\n",
       "      <td>01</td>\n",
       "      <td>01</td>\n",
       "      <td>01</td>\n",
       "      <td>1</td>\n",
       "      <td>5</td>\n",
       "      <td>1</td>\n",
       "      <td>18</td>\n",
       "      <td>1</td>\n",
       "    </tr>\n",
       "    <tr>\n",
       "      <th>2</th>\n",
       "      <td>1999</td>\n",
       "      <td>1</td>\n",
       "      <td>1</td>\n",
       "      <td>00</td>\n",
       "      <td>2</td>\n",
       "      <td>01</td>\n",
       "      <td>01</td>\n",
       "      <td>01</td>\n",
       "      <td>2</td>\n",
       "      <td>1</td>\n",
       "      <td>1</td>\n",
       "      <td>18</td>\n",
       "      <td>1</td>\n",
       "    </tr>\n",
       "    <tr>\n",
       "      <th>3</th>\n",
       "      <td>1999</td>\n",
       "      <td>1</td>\n",
       "      <td>1</td>\n",
       "      <td>00</td>\n",
       "      <td>2</td>\n",
       "      <td>01</td>\n",
       "      <td>01</td>\n",
       "      <td>01</td>\n",
       "      <td>6</td>\n",
       "      <td>3</td>\n",
       "      <td>2</td>\n",
       "      <td>18</td>\n",
       "      <td>2</td>\n",
       "    </tr>\n",
       "    <tr>\n",
       "      <th>4</th>\n",
       "      <td>1999</td>\n",
       "      <td>1</td>\n",
       "      <td>1</td>\n",
       "      <td>00</td>\n",
       "      <td>2</td>\n",
       "      <td>01</td>\n",
       "      <td>01</td>\n",
       "      <td>UU</td>\n",
       "      <td>1</td>\n",
       "      <td>2</td>\n",
       "      <td>3</td>\n",
       "      <td>18</td>\n",
       "      <td>1</td>\n",
       "    </tr>\n",
       "    <tr>\n",
       "      <th>...</th>\n",
       "      <td>...</td>\n",
       "      <td>...</td>\n",
       "      <td>...</td>\n",
       "      <td>...</td>\n",
       "      <td>...</td>\n",
       "      <td>...</td>\n",
       "      <td>...</td>\n",
       "      <td>...</td>\n",
       "      <td>...</td>\n",
       "      <td>...</td>\n",
       "      <td>...</td>\n",
       "      <td>...</td>\n",
       "      <td>...</td>\n",
       "    </tr>\n",
       "    <tr>\n",
       "      <th>1856903</th>\n",
       "      <td>2014</td>\n",
       "      <td>12</td>\n",
       "      <td>7</td>\n",
       "      <td>UU</td>\n",
       "      <td>2</td>\n",
       "      <td>02</td>\n",
       "      <td>UU</td>\n",
       "      <td>02</td>\n",
       "      <td>U</td>\n",
       "      <td>U</td>\n",
       "      <td>1</td>\n",
       "      <td>03</td>\n",
       "      <td>2</td>\n",
       "    </tr>\n",
       "    <tr>\n",
       "      <th>1856904</th>\n",
       "      <td>2014</td>\n",
       "      <td>UU</td>\n",
       "      <td>U</td>\n",
       "      <td>14</td>\n",
       "      <td>2</td>\n",
       "      <td>01</td>\n",
       "      <td>02</td>\n",
       "      <td>01</td>\n",
       "      <td>1</td>\n",
       "      <td>5</td>\n",
       "      <td>4</td>\n",
       "      <td>18</td>\n",
       "      <td>1</td>\n",
       "    </tr>\n",
       "    <tr>\n",
       "      <th>1856905</th>\n",
       "      <td>2014</td>\n",
       "      <td>UU</td>\n",
       "      <td>U</td>\n",
       "      <td>22</td>\n",
       "      <td>1</td>\n",
       "      <td>01</td>\n",
       "      <td>06</td>\n",
       "      <td>01</td>\n",
       "      <td>2</td>\n",
       "      <td>4</td>\n",
       "      <td>Q</td>\n",
       "      <td>18</td>\n",
       "      <td>2</td>\n",
       "    </tr>\n",
       "    <tr>\n",
       "      <th>1856906</th>\n",
       "      <td>2014</td>\n",
       "      <td>UU</td>\n",
       "      <td>U</td>\n",
       "      <td>23</td>\n",
       "      <td>2</td>\n",
       "      <td>01</td>\n",
       "      <td>06</td>\n",
       "      <td>05</td>\n",
       "      <td>1</td>\n",
       "      <td>1</td>\n",
       "      <td>U</td>\n",
       "      <td>18</td>\n",
       "      <td>1</td>\n",
       "    </tr>\n",
       "    <tr>\n",
       "      <th>1856907</th>\n",
       "      <td>2014</td>\n",
       "      <td>UU</td>\n",
       "      <td>U</td>\n",
       "      <td>UU</td>\n",
       "      <td>2</td>\n",
       "      <td>UU</td>\n",
       "      <td>UU</td>\n",
       "      <td>01</td>\n",
       "      <td>U</td>\n",
       "      <td>U</td>\n",
       "      <td>U</td>\n",
       "      <td>UU</td>\n",
       "      <td>20</td>\n",
       "    </tr>\n",
       "  </tbody>\n",
       "</table>\n",
       "<p>1856908 rows × 13 columns</p>\n",
       "</div>"
      ],
      "text/plain": [
       "         C_YEAR C_MNTH C_WDAY C_HOUR  C_SEV C_VEHS C_CONF C_RCFG C_WTHR  \\\n",
       "0          1999      1      1     00      2     01     01     01      1   \n",
       "1          1999      1      1     00      2     01     01     01      1   \n",
       "2          1999      1      1     00      2     01     01     01      2   \n",
       "3          1999      1      1     00      2     01     01     01      6   \n",
       "4          1999      1      1     00      2     01     01     UU      1   \n",
       "...         ...    ...    ...    ...    ...    ...    ...    ...    ...   \n",
       "1856903    2014     12      7     UU      2     02     UU     02      U   \n",
       "1856904    2014     UU      U     14      2     01     02     01      1   \n",
       "1856905    2014     UU      U     22      1     01     06     01      2   \n",
       "1856906    2014     UU      U     23      2     01     06     05      1   \n",
       "1856907    2014     UU      U     UU      2     UU     UU     01      U   \n",
       "\n",
       "        C_RSUR C_RALN C_TRAF  V_ID  \n",
       "0            4      1     18     1  \n",
       "1            5      1     18     1  \n",
       "2            1      1     18     1  \n",
       "3            3      2     18     2  \n",
       "4            2      3     18     1  \n",
       "...        ...    ...    ...   ...  \n",
       "1856903      U      1     03     2  \n",
       "1856904      5      4     18     1  \n",
       "1856905      4      Q     18     2  \n",
       "1856906      1      U     18     1  \n",
       "1856907      U      U     UU    20  \n",
       "\n",
       "[1856908 rows x 13 columns]"
      ]
     },
     "execution_count": 32,
     "metadata": {},
     "output_type": "execute_result"
    }
   ],
   "source": [
    "columnas_accidentes = ['C_YEAR', 'C_MNTH', 'C_WDAY', \n",
    "               'C_HOUR', 'C_SEV', 'C_VEHS', \n",
    "               'C_CONF', 'C_RCFG', 'C_WTHR', \n",
    "               'C_RSUR', 'C_RALN', 'C_TRAF']\n",
    "datos_accidentes = pd_datos.groupby(columnas_accidentes).count()['V_ID']\n",
    "datos_accidentes.columns = ['total_rows']\n",
    "datos_accidentes = datos_accidentes.reset_index()\n",
    "datos_accidentes"
   ]
  },
  {
   "cell_type": "markdown",
   "id": "53cc389c",
   "metadata": {},
   "source": [
    "Tomaremos como variables objetivo C_SEV (severidad del accidente) y P_ISEV (grado de severidad)"
   ]
  },
  {
   "cell_type": "code",
   "execution_count": 33,
   "id": "eed1dfcb",
   "metadata": {},
   "outputs": [
    {
     "data": {
      "text/html": [
       "<div>\n",
       "<style scoped>\n",
       "    .dataframe tbody tr th:only-of-type {\n",
       "        vertical-align: middle;\n",
       "    }\n",
       "\n",
       "    .dataframe tbody tr th {\n",
       "        vertical-align: top;\n",
       "    }\n",
       "\n",
       "    .dataframe thead th {\n",
       "        text-align: right;\n",
       "    }\n",
       "</style>\n",
       "<table border=\"1\" class=\"dataframe\">\n",
       "  <thead>\n",
       "    <tr style=\"text-align: right;\">\n",
       "      <th></th>\n",
       "      <th>index</th>\n",
       "      <th>percent</th>\n",
       "      <th>P_ISEV</th>\n",
       "    </tr>\n",
       "  </thead>\n",
       "  <tbody>\n",
       "    <tr>\n",
       "      <th>0</th>\n",
       "      <td>2</td>\n",
       "      <td>52.444003</td>\n",
       "      <td>3073431</td>\n",
       "    </tr>\n",
       "    <tr>\n",
       "      <th>1</th>\n",
       "      <td>1</td>\n",
       "      <td>40.529759</td>\n",
       "      <td>2375208</td>\n",
       "    </tr>\n",
       "    <tr>\n",
       "      <th>2</th>\n",
       "      <td>N</td>\n",
       "      <td>4.960596</td>\n",
       "      <td>290711</td>\n",
       "    </tr>\n",
       "    <tr>\n",
       "      <th>3</th>\n",
       "      <td>U</td>\n",
       "      <td>1.377055</td>\n",
       "      <td>80701</td>\n",
       "    </tr>\n",
       "    <tr>\n",
       "      <th>4</th>\n",
       "      <td>3</td>\n",
       "      <td>0.688587</td>\n",
       "      <td>40354</td>\n",
       "    </tr>\n",
       "  </tbody>\n",
       "</table>\n",
       "</div>"
      ],
      "text/plain": [
       "  index    percent   P_ISEV\n",
       "0     2  52.444003  3073431\n",
       "1     1  40.529759  2375208\n",
       "2     N   4.960596   290711\n",
       "3     U   1.377055    80701\n",
       "4     3   0.688587    40354"
      ]
     },
     "execution_count": 33,
     "metadata": {},
     "output_type": "execute_result"
    }
   ],
   "source": [
    "# P_ISEV = 3\n",
    "pd_P_ISEV = pd_datos['P_ISEV']\\\n",
    "        .value_counts(normalize=True)\\\n",
    "        .mul(100).rename('percent').reset_index()\n",
    "\n",
    "pd_conteo = pd_datos['P_ISEV'].value_counts().reset_index()\n",
    "pd_pc = pd.merge(pd_P_ISEV, pd_conteo, on=['index'], how='inner')\n",
    "pd_pc.head(5)"
   ]
  },
  {
   "cell_type": "code",
   "execution_count": 34,
   "id": "797bda49",
   "metadata": {},
   "outputs": [],
   "source": [
    "# Función para sacar % y valor absoluto de la variable objetivo C_SEV al ser un INT64\n",
    "def classes_overview(df = None, obj_val = \"\"):\n",
    "    temp = df[obj_val].value_counts(normalize=True).mul(100).rename('percent').reset_index()\n",
    "    temp_conteo = df[obj_val].value_counts().reset_index()\n",
    "    return pd.merge(temp, temp_conteo, on=['index'], how='inner')"
   ]
  },
  {
   "cell_type": "code",
   "execution_count": 35,
   "id": "24c58238",
   "metadata": {},
   "outputs": [
    {
     "data": {
      "text/html": [
       "<div>\n",
       "<style scoped>\n",
       "    .dataframe tbody tr th:only-of-type {\n",
       "        vertical-align: middle;\n",
       "    }\n",
       "\n",
       "    .dataframe tbody tr th {\n",
       "        vertical-align: top;\n",
       "    }\n",
       "\n",
       "    .dataframe thead th {\n",
       "        text-align: right;\n",
       "    }\n",
       "</style>\n",
       "<table border=\"1\" class=\"dataframe\">\n",
       "  <thead>\n",
       "    <tr style=\"text-align: right;\">\n",
       "      <th></th>\n",
       "      <th>index</th>\n",
       "      <th>percent</th>\n",
       "      <th>C_SEV</th>\n",
       "    </tr>\n",
       "  </thead>\n",
       "  <tbody>\n",
       "    <tr>\n",
       "      <th>0</th>\n",
       "      <td>2</td>\n",
       "      <td>98.316959</td>\n",
       "      <td>5761772</td>\n",
       "    </tr>\n",
       "    <tr>\n",
       "      <th>1</th>\n",
       "      <td>1</td>\n",
       "      <td>1.683041</td>\n",
       "      <td>98633</td>\n",
       "    </tr>\n",
       "  </tbody>\n",
       "</table>\n",
       "</div>"
      ],
      "text/plain": [
       "   index    percent    C_SEV\n",
       "0      2  98.316959  5761772\n",
       "1      1   1.683041    98633"
      ]
     },
     "execution_count": 35,
     "metadata": {},
     "output_type": "execute_result"
    }
   ],
   "source": [
    "# C_SEV = 1, casos con al menos un fallecimiento\n",
    "classes_overview(df = pd_datos, obj_val = 'C_SEV')"
   ]
  },
  {
   "cell_type": "code",
   "execution_count": 36,
   "id": "61e6f956",
   "metadata": {},
   "outputs": [],
   "source": [
    "# agrupamos las gráficas para que sea más sencilla y visual la interpretación\n",
    "def norm_category(df = None, obj_val = \"\", cat_val = \"\"):    \n",
    "    agrupados = df.groupby([obj_val, cat_val]).count().iloc[:,1]\n",
    "    agrupados = agrupados.reset_index()\n",
    "    agrupados.columns = [obj_val, cat_val, 'counted']\n",
    "    \n",
    "    agrupados['group%'] = np.round(agrupados['counted'] / \n",
    "                                 agrupados.groupby(obj_val)['counted'].transform('sum') * 100, decimals = 3)\n",
    "    return agrupados\n"
   ]
  },
  {
   "cell_type": "code",
   "execution_count": 39,
   "id": "f1986e8e",
   "metadata": {
    "scrolled": false
   },
   "outputs": [
    {
     "data": {
      "image/png": "[encoded data removed]",
      "text/plain": [
       "<Figure size 1080x2520 with 16 Axes>"
      ]
     },
     "metadata": {
      "needs_background": "light"
     },
     "output_type": "display_data"
    }
   ],
   "source": [
    "from matplotlib import pyplot as plt\n",
    "categorias = ['C_YEAR','C_MNTH', 'C_WDAY', 'C_HOUR', 'C_CONF','C_RCFG', 'C_WTHR', 'C_RSUR', 'C_RALN', \n",
    "               'C_TRAF', 'V_TYPE', 'P_SEX', 'P_PSN','P_ISEV', 'P_SAFE', 'P_USER']\n",
    "\n",
    "fig, axes = plt.subplots(8, 2, figsize=(15, 35), sharey=False)\n",
    "fig.suptitle('Clasificación de accidentes por severidad')\n",
    "# 1 Por lo menos un fallecimiento\n",
    "# 2 Ningún fallecimiento\n",
    "\n",
    "i = 0\n",
    "j = 0 \n",
    "\n",
    "for cat in categorias:\n",
    "    comp_var_objetivo = norm_category(df = pd_datos, obj_val = 'C_SEV', cat_val = cat)\n",
    "    sns.barplot(data = comp_var_objetivo, x = cat, y = 'group%', hue = 'C_SEV', ax = axes[i,j]);\n",
    "    if (j == 0): \n",
    "        j = 1\n",
    "    else:\n",
    "        j = 0\n",
    "        i += 1"
   ]
  },
  {
   "cell_type": "markdown",
   "id": "9dd6e575",
   "metadata": {},
   "source": [
    "#### Conclusión"
   ]
  },
  {
   "cell_type": "markdown",
   "id": "da52e4df",
   "metadata": {},
   "source": [
    "Clasificación más accidentes más fallecidos\n",
    "- **C_YEAR** (últimos 15 años)\n",
    "    -  1999 \n",
    "    \n",
    "- **C_MNTH** \n",
    "    -  Agosto \n",
    "        \n",
    "- **C_WDAY**: \n",
    "    - Sábado\n",
    "    \n",
    "- **C_HOUR**:\n",
    "    - 16:00 / 16:59\n",
    "    \n",
    "- **C_CONF**: \n",
    "    - Head on collision\n",
    "    \n",
    "- **C_RCFG**:\n",
    "    - Non intersection\n",
    "    \n",
    "- **C_WTHR**: \n",
    "    - Clear and sunny \n",
    "    \n",
    "- **C_RSUR**:\n",
    "    - Dry, normal\n",
    "    \n",
    "- **C_RALN**:\n",
    "    - Straight and level\n",
    "    \n",
    "- **C_TRAF**:\n",
    "    - No control present\n",
    "\n",
    "- **V_TYPE**:\n",
    "    - Light Duty Vehicle\n",
    "\n",
    "- **P_SEX**:\n",
    "    - Male\n",
    "    \n",
    "- **P_PSN**:\n",
    "    - Driver\n",
    "    \n",
    "- **P_SAFE**:\n",
    "    - Safety device used or child restraint used\n",
    "    \n",
    "- **P_USER**:\n",
    "    - Motor Vehicle Driver"
   ]
  },
  {
   "cell_type": "markdown",
   "id": "2a02cb62",
   "metadata": {},
   "source": [
    "Para llevar a cabo la creación de un modelo de predicción vamos a cambiar todas nuestras variables categóricas a numéricas"
   ]
  },
  {
   "cell_type": "code",
   "execution_count": 38,
   "id": "aa41e411",
   "metadata": {},
   "outputs": [],
   "source": [
    "p1 = {'UU':0, 'XX':13}\n",
    "pd_datos['C_MNTH'] = pd_datos['C_MNTH'].replace(p1)\n",
    "p2 = {'U':0, 'X':8}\n",
    "pd_datos['C_WDAY'] = pd_datos['C_WDAY'].replace(p2)\n",
    "\n",
    "p3 = {'UU':0, 'XX':24}\n",
    "pd_datos['C_HOUR'] = pd_datos['C_HOUR'].replace(p3)\n",
    "p4 = {'U':0, 'X':3}\n",
    "pd_datos['C_SEV'] = pd_datos['C_SEV'].replace(p4)\n",
    "\n",
    "p5 = {'UU':0, 'XX':100}\n",
    "pd_datos['C_VEHS'] = pd_datos['C_VEHS'].replace(p5)\n",
    "p6 = {'QQ': 42, 'UU':0, 'XX':43}\n",
    "pd_datos['C_CONF'] = pd_datos['C_CONF'].replace(p6)\n",
    "\n",
    "p7 = {'QQ': 13, 'UU':0, 'XX':14}\n",
    "pd_datos['C_RCFG'] = pd_datos['V_TYPE'].replace(p7)\n",
    "p8 = {'Q': 8, 'U':0, 'X':9}\n",
    "pd_datos['C_WTHR'] = pd_datos['C_WTHR'].replace(p8)\n",
    "\n",
    "p9 = {'Q': 10, 'U':0, 'X':11}\n",
    "pd_datos['C_RSUR'] = pd_datos['C_RSUR'].replace(p9)\n",
    "p10 = {'Q': 7, 'U':0, 'X':8}\n",
    "pd_datos['C_RALN'] = pd_datos['C_RALN'].replace(p10)\n",
    "\n",
    "p11 = {'QQ': 19, 'UU':0, 'XX':20}\n",
    "pd_datos['C_TRAF'] = pd_datos['C_TRAF'].replace(p11)\n",
    "p12 = {'UU':0}\n",
    "pd_datos['V_ID'] = pd_datos['V_ID'].replace(p12)\n",
    "\n",
    "p13 = {'NN':24,'QQ': 25, 'UU':0, 'XX':26}\n",
    "pd_datos['V_TYPE'] = pd_datos['V_TYPE'].replace(p13)\n",
    "p14 = {'NNNN':2222, 'UUUU':0, 'XXXX':2224}\n",
    "pd_datos['V_YEAR'] = pd_datos['V_YEAR'].replace(p14)\n",
    "\n",
    "p15 = {'NN':100, 'UU':0}\n",
    "pd_datos['P_ID'] = pd_datos['P_ID'].replace(p15)\n",
    "p16 = {'F':0,'M': 1, 'U':2, 'X':3, 'N':4}\n",
    "pd_datos['P_SEX'] = pd_datos['P_SEX'].replace(p16)\n",
    "\n",
    "p17 = {'NN':0,'UU':0, 'XX':0}\n",
    "pd_datos['P_AGE'] = pd_datos['P_AGE'].replace(p17)\n",
    "p18 = {'NN':100,'QQ': 101, 'UU':0, 'XX':102}\n",
    "pd_datos['P_PSN'] = pd_datos['P_PSN'].replace(p18)\n",
    "\n",
    "p19 = {'N':4, 'U':0, 'X':5}\n",
    "pd_datos['P_ISEV'] = pd_datos['P_ISEV'].replace(p19)\n",
    "p20 = {'NN':14,'QQ': 15, 'UU':0, 'XX':16}\n",
    "pd_datos['P_SAFE'] = pd_datos['P_SAFE'].replace(p20)\n",
    "\n",
    "p21 = {'U':0}\n",
    "pd_datos['P_USER'] = pd_datos['P_USER'].replace(p21)"
   ]
  },
  {
   "cell_type": "markdown",
   "id": "ca851e5b",
   "metadata": {},
   "source": [
    "# Pregunta 4: Dado un accidente, ¿se puede generar un modelo que prediga si habrá fallecimientos o no? ¿Si se va a necesitar tratamiento médico o no? Las aseguradoras tienen que inmovilizar capital para pagar estas casuísticas. "
   ]
  },
  {
   "cell_type": "markdown",
   "id": "6a56c437",
   "metadata": {},
   "source": [
    "### Estudio Variables Objetivo"
   ]
  },
  {
   "cell_type": "markdown",
   "id": "025ca0b0",
   "metadata": {},
   "source": [
    "Encoding\n",
    "\n",
    "Variables ordinales: sus valores pueden ser ordenados jerárquicamente, como, por ejemplo, el nivel de educación de una persona (sin estudios, primaria, secundaria o superiores).\n",
    "\n",
    "Variables nominales: no se puede establecer un orden en sus categorías. Algunos ejemplos son el sexo de una persona (hombre o mujer), el color del pelo (castaño, rubio, negro o rojo) o el país de nacimiento (España, Italia, Francia, etc.)."
   ]
  },
  {
   "cell_type": "markdown",
   "id": "c6dba786",
   "metadata": {},
   "source": [
    "#### Train y Test"
   ]
  },
  {
   "cell_type": "code",
   "execution_count": 31,
   "id": "f7ea0ad0",
   "metadata": {},
   "outputs": [],
   "source": [
    " from sklearn.model_selection import train_test_split"
   ]
  },
  {
   "cell_type": "code",
   "execution_count": 32,
   "id": "f9e284ba",
   "metadata": {},
   "outputs": [],
   "source": [
    "X = pd_datos.drop('C_SEV', axis=1)\n",
    "Y = pd_datos['C_SEV']\n",
    "# realizamos la división en train (muestra entrenamiento) y test (muestra de test)\n",
    "X_train, X_test, Y_train, Y_test = train_test_split(X, Y, test_size=0.20, stratify=Y)"
   ]
  },
  {
   "cell_type": "markdown",
   "id": "bb4c3ff3",
   "metadata": {},
   "source": [
    "En el preprocesamiento de las variables objetivo del ejercicio anterior apreciamos un fuerte desequilibrio en C_SEV , habiendo un 98% de accidentes no mortales frente a un 2% de accidentes mortales. Es por esto que vamos a llevar a cabo un balanceo de las variables."
   ]
  },
  {
   "cell_type": "code",
   "execution_count": null,
   "id": "e1f2676d",
   "metadata": {},
   "outputs": [],
   "source": []
  },
  {
   "cell_type": "markdown",
   "id": "e7294775",
   "metadata": {},
   "source": [
    "## Pregunta 5: Libertad para generar análisis de valor y nuevas ideas. Se debe atacar mínimo un modelo (estimar si habrá fallecidos o no). Hecho esto, se puede plantear de forma opcional otros alcances (libertad para plantear opciones). "
   ]
  },
  {
   "cell_type": "markdown",
   "id": "a72b8f07",
   "metadata": {},
   "source": [
    "## Pregunta extra: Plus: complementar con datos abiertos de clima (aunque Canadá es muy grande) y de otra tipología, ¿hay algún tipo de relación con temperaturas medias, precipitación media del día/mes, nieve...? ¿a más días festivos o de vacaciones, más accidentes? etc. "
   ]
  },
  {
   "cell_type": "code",
   "execution_count": 33,
   "id": "4d98dab7",
   "metadata": {},
   "outputs": [],
   "source": []
  },
  {
   "cell_type": "code",
   "execution_count": null,
   "id": "b5f6475a",
   "metadata": {},
   "outputs": [],
   "source": []
  }
 ],
 "metadata": {
  "kernelspec": {
   "display_name": "Python 3",
   "language": "python",
   "name": "python3"
  },
  "language_info": {
   "codemirror_mode": {
    "name": "ipython",
    "version": 3
   },
   "file_extension": ".py",
   "mimetype": "text/x-python",
   "name": "python",
   "nbconvert_exporter": "python",
   "pygments_lexer": "ipython3",
   "version": "3.8.8"
  }
 },
 "nbformat": 4,
 "nbformat_minor": 5
}
